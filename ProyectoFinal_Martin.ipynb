{
  "nbformat": 4,
  "nbformat_minor": 0,
  "metadata": {
    "colab": {
      "provenance": [],
      "authorship_tag": "ABX9TyN1Bja0OQOj4azYwqxcVcoJ",
      "include_colab_link": true
    },
    "kernelspec": {
      "name": "python3",
      "display_name": "Python 3"
    },
    "language_info": {
      "name": "python"
    }
  },
  "cells": [
    {
      "cell_type": "markdown",
      "metadata": {
        "id": "view-in-github",
        "colab_type": "text"
      },
      "source": [
        "<a href=\"https://colab.research.google.com/github/jdug1981/proyecto_final/blob/main/ProyectoFinal_Martin.ipynb\" target=\"_parent\"><img src=\"https://colab.research.google.com/assets/colab-badge.svg\" alt=\"Open In Colab\"/></a>"
      ]
    },
    {
      "cell_type": "markdown",
      "source": [
        "![Vision_producto](https://github.com/jdug1981/proyecto_final/blob/main/PRODUCT%20VISION%20BOARD.png?raw=true)\n",
        "\n"
      ],
      "metadata": {
        "id": "NMuahFjx0Wzm"
      }
    },
    {
      "cell_type": "markdown",
      "source": [
        "#**PROYECTO INTEGRADOR FINAL: BANK TELEMARKETING**\n",
        "El objetivo es predecir si un cliente se suscribirá a un depósito a plazo fijo que se le ofrece mediante una campaña de telemarketing.\n",
        "\n",
        "Para ello se propone crear un modelo de clasificación de aprendizaje automático con la finalidad poder usarlo en una población definida por un banco minorista de Portugal en el contexto de la recesión global del año 2008.\n",
        "[Link Product Vision Board](https://github.com/jdug1981/proyecto_final/blob/main/PRODUCT%20VISION%20BOARD.png?raw=true)"
      ],
      "metadata": {
        "id": "Tz5J9Pniwloe"
      }
    },
    {
      "cell_type": "markdown",
      "source": [
        "**1. Información Importante:**\n",
        "\n",
        "Los datos están relacionados con campañas de marketing directo de una entidad bancaria portuguesa. Las campañas de marketing se basaron en llamadas telefónicas. A menudo, se requería más de un contacto con el mismo cliente, para poder saber si el cliente se suscribiría a un depósito a plazo fijo.\n",
        "\n",
        "\n",
        "\n",
        "\n",
        "\n",
        "**2. Objetivo:**\n",
        "\n",
        "El objetivo es diseñar un modelo de clasificación para predecir si el cliente suscribirá un depósito a plazo (variable y).\n",
        "\n",
        "**3. Número de Instancias:**\n",
        "\n",
        "45211 for bank-full.csv (4521 for bank.csv)\n",
        "\n",
        "**4. Número de atributos:**\n",
        "\n",
        " 16 varaibles de entrada\n",
        "\n",
        " 1 variable de salida o variable Objetivo\n",
        "\n",
        "\n",
        "**5. Información sobre las Variables:**\n",
        "\n",
        "#Input variables:\n",
        "\n",
        "**Datos Relacionados con el Cliente:**\n",
        "\n",
        "   1 - age (numeric)\n",
        "\n",
        "   2 - job : type of job (categorical: \"admin.\",\"unknown\",\"unemployed\",\"management\",\"housemaid\",\"entrepreneur\",\"student\",\n",
        "                                       \"blue-collar\",\"self-employed\",\"retired\",\"technician\",\"services\")\n",
        "\n",
        "   3 - marital : marital status (categorical: \"married\",\"divorced\",\"single\"; note: \"divorced\" means divorced or widowed)\n",
        "\n",
        "   4 - education (categorical: \"unknown\",\"secondary\",\"primary\",\"tertiary\")\n",
        "\n",
        "   5 - default: has credit in default? (binary: \"yes\",\"no\")\n",
        "\n",
        "   6 - balance: average yearly balance, in euros (numeric)\n",
        "\n",
        "   7 - housing: has housing loan? (binary: \"yes\",\"no\")\n",
        "\n",
        "   8 - loan: has personal loan? (binary: \"yes\",\"no\")\n",
        "\n",
        "   # related with the last contact of the current campaign:\n",
        "\n",
        "   9 - contact: contact communication type (categorical: \"unknown\",\"telephone\",\"cellular\")\n",
        "\n",
        "  10 - day: last contact day of the month (numeric)\n",
        "\n",
        "  11 - month: last contact month of year (categorical: \"jan\", \"feb\", \"mar\", ..., \"nov\", \"dec\")\n",
        "\n",
        "  12 - duration: last contact duration, in seconds (numeric)\n",
        "\n",
        "   # other attributes:\n",
        "  13 - campaign: number of contacts performed during this campaign and for this client (numeric, includes last contact)\n",
        "\n",
        "  14 - pdays: number of days that passed by after the client was last contacted from a previous campaign (numeric, -1 means client was not previously contacted)\n",
        "\n",
        "  15 - previous: number of contacts performed before this campaign and for this client (numeric)\n",
        "\n",
        "  16 - poutcome: outcome of the previous marketing campaign (categorical: \"unknown\",\"other\",\"failure\",\"success\")\n",
        "\n",
        "  # Output variable (desired target):\n",
        "  17 - y - has the client subscribed a term deposit? (binary: \"yes\",\"no\")\n",
        "\n",
        "\n",
        "**Missing Attribute Values:**\n",
        "\n",
        "None\n"
      ],
      "metadata": {
        "id": "6EzTOVBLgAmJ"
      }
    },
    {
      "cell_type": "code",
      "execution_count": 1,
      "metadata": {
        "id": "V1ND1do-waT-"
      },
      "outputs": [],
      "source": []
    }
  ]
}