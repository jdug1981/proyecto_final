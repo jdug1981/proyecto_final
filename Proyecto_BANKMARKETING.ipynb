{
  "nbformat": 4,
  "nbformat_minor": 0,
  "metadata": {
    "colab": {
      "provenance": [],
      "include_colab_link": true
    },
    "kernelspec": {
      "name": "python3",
      "display_name": "Python 3"
    },
    "language_info": {
      "name": "python"
    }
  },
  "cells": [
    {
      "cell_type": "markdown",
      "metadata": {
        "id": "view-in-github",
        "colab_type": "text"
      },
      "source": [
        "<a href=\"https://colab.research.google.com/github/jdug1981/proyecto_final/blob/main/Proyecto_BANKMARKETING.ipynb\" target=\"_parent\"><img src=\"https://colab.research.google.com/assets/colab-badge.svg\" alt=\"Open In Colab\"/></a>"
      ]
    },
    {
      "cell_type": "markdown",
      "source": [
        "#**BANK TELEMARKETING**\n",
        "El objetivo es predecir si un cliente se suscribirá a un depósito a plazo fijo que se le ofrece mediante una campaña de telemarketing.\n",
        "\n",
        "Para ello se propone crear un modelo de clasificación de aprendizaje automático con la finalidad poder usarlo en una población definida por un banco minorista de Portugal en el contexto de la recesión global del año 2008.\n",
        "[Link Product Vision Board](https://github.com/jdug1981/proyecto_final/blob/main/PRODUCT%20VISION%20BOARD.png?raw=true)"
      ],
      "metadata": {
        "id": "JoqZS4w6lqWU"
      }
    },
    {
      "cell_type": "markdown",
      "source": [
        "![Vision_producto](https://github.com/jdug1981/proyecto_final/blob/main/PRODUCT%20VISION%20BOARD.png?raw=true)"
      ],
      "metadata": {
        "id": "GXwX7TCrj9r1"
      }
    },
    {
      "cell_type": "markdown",
      "source": [
        "## **DESCRIPCION DE LOS DATOS**\n",
        "**1. Información Importante:**\n",
        "\n",
        "Los datos están relacionados con campañas de marketing directo de una entidad bancaria portuguesa. Las campañas de marketing se basaron en llamadas telefónicas. A menudo, se requería más de un contacto con el mismo cliente, para poder saber si el cliente se suscribiría a un depósito a plazo fijo.\n",
        "\n",
        "\n",
        "\n",
        "\n",
        "\n",
        "**2. Objetivo:**\n",
        "\n",
        "El objetivo es diseñar un modelo de clasificación para predecir si el cliente suscribirá un depósito a plazo (variable y).\n",
        "\n",
        "**3. Número de Instancias:**\n",
        "\n",
        "45211 for bank-full.csv (4521 for bank.csv)\n",
        "\n",
        "**4. Número de atributos:**\n",
        "\n",
        " 16 varaibles de entrada\n",
        "\n",
        " 1 variable de salida o variable Objetivo\n",
        "\n",
        "\n",
        "**5. Información sobre las Variables:**\n",
        "\n",
        "**Variables de Entrada**\n",
        "1. age: Edad del cliente (numérico).\n",
        "\n",
        "2. job: Tipo de empleo del cliente (categórico): \"admin.\", \"unknown\", \"unemployed\", \"management\", \"housemaid\", \"entrepreneur\", \"student\", \"blue-collar\", \"self-employed\", \"retired\", \"technician\", \"services\".\n",
        "\n",
        "3. marital: Estado civil del cliente (categórico): \"married\", \"divorced\", \"single\" (Nota: \"divorced\" significa divorciado o viudo).\n",
        "\n",
        "4. education: Nivel de educación del cliente (categórico): \"unknown\", \"secondary\", \"primary\", \"tertiary\".\n",
        "\n",
        "5. default: ¿Tiene el cliente crédito en mora? (binario): \"yes\", \"no\".\n",
        "\n",
        "6. balance: Saldo promedio anual, en euros, del cliente (numérico).\n",
        "\n",
        "7. housing: ¿Tiene el cliente un préstamo hipotecario? (binario): \"yes\", \"no\".\n",
        "\n",
        "8. loan: ¿Tiene el cliente un préstamo personal? (binario): \"yes\", \"no\".\n",
        "\n",
        "9. contact: Tipo de comunicación de contacto (categórico) relacionado con el último contacto de la campaña actual: \"unknown\", \"telephone\", \"cellular\".\n",
        "\n",
        "10. day: Último día del mes en que se realizó el último contacto (numérico).\n",
        "\n",
        "11. month: Último mes del año en que se realizó el último contacto (categórico): \"jan\", \"feb\", \"mar\", ..., \"nov\", \"dec\".\n",
        "\n",
        "12. duration: Duración del último contacto en segundos (numérico).\n",
        "\n",
        "13. campaign: Número de contactos realizados durante esta campaña y para este cliente (numérico, incluye el último contacto).\n",
        "\n",
        "14. pdays: Número de días transcurridos desde el último contacto de una campaña anterior con el cliente (numérico, -1 significa que el cliente no fue contactado anteriormente).\n",
        "\n",
        "15. previous: Número de contactos realizados antes de esta campaña y para este cliente (numérico).\n",
        "\n",
        "16. poutcome: Resultado de la campaña de marketing anterior (categórico): \"unknown\", \"other\", \"failure\", \"success\".\n",
        "\n",
        "**Variable objetivo (target deseado):**\n",
        "\n",
        "17. y: ¿El cliente ha suscrito un depósito a plazo? (binario): \"yes\", \"no\".\n",
        "\n",
        "\n",
        "\n",
        "**6. Missing Attribute Values:**\n",
        "\n",
        "None\n"
      ],
      "metadata": {
        "id": "TQxC1Pcakcbk"
      }
    },
    {
      "cell_type": "code",
      "source": [
        "# Definición de Librerias\n",
        "!pip install pandas_profiling\n",
        "import pandas as pd\n",
        "import numpy as np\n",
        "import seaborn as sns\n",
        "import plotly.express as px\n",
        "import ydata_profiling\n",
        "import matplotlib.pyplot as plt\n",
        "import os"
      ],
      "metadata": {
        "id": "oFUUijF6jkR4"
      },
      "execution_count": null,
      "outputs": []
    },
    {
      "cell_type": "markdown",
      "source": [
        "# 1. Leyendo y explorando data"
      ],
      "metadata": {
        "id": "aNGcAdRuprnJ"
      }
    },
    {
      "cell_type": "code",
      "source": [
        "mainpath = \"bank_full.csv\"\n",
        "data = pd.read_csv(mainpath,sep=\";\")"
      ],
      "metadata": {
        "id": "bOvyPM1qpnFN"
      },
      "execution_count": 3,
      "outputs": []
    },
    {
      "cell_type": "code",
      "source": [
        "# Contar los datos:\n",
        "print(data.shape)\n",
        "# Validar la data de forma general\n",
        "data.head()"
      ],
      "metadata": {
        "colab": {
          "base_uri": "https://localhost:8080/",
          "height": 224
        },
        "id": "-WkadROOp0pu",
        "outputId": "f6526ed3-69d4-4067-8f76-530dfec41c76"
      },
      "execution_count": 4,
      "outputs": [
        {
          "output_type": "stream",
          "name": "stdout",
          "text": [
            "(45211, 17)\n"
          ]
        },
        {
          "output_type": "execute_result",
          "data": {
            "text/plain": [
              "   age           job  marital  education default  balance housing loan  \\\n",
              "0   58    management  married   tertiary      no     2143     yes   no   \n",
              "1   44    technician   single  secondary      no       29     yes   no   \n",
              "2   33  entrepreneur  married  secondary      no        2     yes  yes   \n",
              "3   47   blue-collar  married    unknown      no     1506     yes   no   \n",
              "4   33       unknown   single    unknown      no        1      no   no   \n",
              "\n",
              "   contact  day month  duration  campaign  pdays  previous poutcome   y  \n",
              "0  unknown    5   may       261         1     -1         0  unknown  no  \n",
              "1  unknown    5   may       151         1     -1         0  unknown  no  \n",
              "2  unknown    5   may        76         1     -1         0  unknown  no  \n",
              "3  unknown    5   may        92         1     -1         0  unknown  no  \n",
              "4  unknown    5   may       198         1     -1         0  unknown  no  "
            ],
            "text/html": [
              "\n",
              "\n",
              "  <div id=\"df-7f416533-d99d-4e5c-a538-9e0c4d531e71\">\n",
              "    <div class=\"colab-df-container\">\n",
              "      <div>\n",
              "<style scoped>\n",
              "    .dataframe tbody tr th:only-of-type {\n",
              "        vertical-align: middle;\n",
              "    }\n",
              "\n",
              "    .dataframe tbody tr th {\n",
              "        vertical-align: top;\n",
              "    }\n",
              "\n",
              "    .dataframe thead th {\n",
              "        text-align: right;\n",
              "    }\n",
              "</style>\n",
              "<table border=\"1\" class=\"dataframe\">\n",
              "  <thead>\n",
              "    <tr style=\"text-align: right;\">\n",
              "      <th></th>\n",
              "      <th>age</th>\n",
              "      <th>job</th>\n",
              "      <th>marital</th>\n",
              "      <th>education</th>\n",
              "      <th>default</th>\n",
              "      <th>balance</th>\n",
              "      <th>housing</th>\n",
              "      <th>loan</th>\n",
              "      <th>contact</th>\n",
              "      <th>day</th>\n",
              "      <th>month</th>\n",
              "      <th>duration</th>\n",
              "      <th>campaign</th>\n",
              "      <th>pdays</th>\n",
              "      <th>previous</th>\n",
              "      <th>poutcome</th>\n",
              "      <th>y</th>\n",
              "    </tr>\n",
              "  </thead>\n",
              "  <tbody>\n",
              "    <tr>\n",
              "      <th>0</th>\n",
              "      <td>58</td>\n",
              "      <td>management</td>\n",
              "      <td>married</td>\n",
              "      <td>tertiary</td>\n",
              "      <td>no</td>\n",
              "      <td>2143</td>\n",
              "      <td>yes</td>\n",
              "      <td>no</td>\n",
              "      <td>unknown</td>\n",
              "      <td>5</td>\n",
              "      <td>may</td>\n",
              "      <td>261</td>\n",
              "      <td>1</td>\n",
              "      <td>-1</td>\n",
              "      <td>0</td>\n",
              "      <td>unknown</td>\n",
              "      <td>no</td>\n",
              "    </tr>\n",
              "    <tr>\n",
              "      <th>1</th>\n",
              "      <td>44</td>\n",
              "      <td>technician</td>\n",
              "      <td>single</td>\n",
              "      <td>secondary</td>\n",
              "      <td>no</td>\n",
              "      <td>29</td>\n",
              "      <td>yes</td>\n",
              "      <td>no</td>\n",
              "      <td>unknown</td>\n",
              "      <td>5</td>\n",
              "      <td>may</td>\n",
              "      <td>151</td>\n",
              "      <td>1</td>\n",
              "      <td>-1</td>\n",
              "      <td>0</td>\n",
              "      <td>unknown</td>\n",
              "      <td>no</td>\n",
              "    </tr>\n",
              "    <tr>\n",
              "      <th>2</th>\n",
              "      <td>33</td>\n",
              "      <td>entrepreneur</td>\n",
              "      <td>married</td>\n",
              "      <td>secondary</td>\n",
              "      <td>no</td>\n",
              "      <td>2</td>\n",
              "      <td>yes</td>\n",
              "      <td>yes</td>\n",
              "      <td>unknown</td>\n",
              "      <td>5</td>\n",
              "      <td>may</td>\n",
              "      <td>76</td>\n",
              "      <td>1</td>\n",
              "      <td>-1</td>\n",
              "      <td>0</td>\n",
              "      <td>unknown</td>\n",
              "      <td>no</td>\n",
              "    </tr>\n",
              "    <tr>\n",
              "      <th>3</th>\n",
              "      <td>47</td>\n",
              "      <td>blue-collar</td>\n",
              "      <td>married</td>\n",
              "      <td>unknown</td>\n",
              "      <td>no</td>\n",
              "      <td>1506</td>\n",
              "      <td>yes</td>\n",
              "      <td>no</td>\n",
              "      <td>unknown</td>\n",
              "      <td>5</td>\n",
              "      <td>may</td>\n",
              "      <td>92</td>\n",
              "      <td>1</td>\n",
              "      <td>-1</td>\n",
              "      <td>0</td>\n",
              "      <td>unknown</td>\n",
              "      <td>no</td>\n",
              "    </tr>\n",
              "    <tr>\n",
              "      <th>4</th>\n",
              "      <td>33</td>\n",
              "      <td>unknown</td>\n",
              "      <td>single</td>\n",
              "      <td>unknown</td>\n",
              "      <td>no</td>\n",
              "      <td>1</td>\n",
              "      <td>no</td>\n",
              "      <td>no</td>\n",
              "      <td>unknown</td>\n",
              "      <td>5</td>\n",
              "      <td>may</td>\n",
              "      <td>198</td>\n",
              "      <td>1</td>\n",
              "      <td>-1</td>\n",
              "      <td>0</td>\n",
              "      <td>unknown</td>\n",
              "      <td>no</td>\n",
              "    </tr>\n",
              "  </tbody>\n",
              "</table>\n",
              "</div>\n",
              "      <button class=\"colab-df-convert\" onclick=\"convertToInteractive('df-7f416533-d99d-4e5c-a538-9e0c4d531e71')\"\n",
              "              title=\"Convert this dataframe to an interactive table.\"\n",
              "              style=\"display:none;\">\n",
              "\n",
              "  <svg xmlns=\"http://www.w3.org/2000/svg\" height=\"24px\"viewBox=\"0 0 24 24\"\n",
              "       width=\"24px\">\n",
              "    <path d=\"M0 0h24v24H0V0z\" fill=\"none\"/>\n",
              "    <path d=\"M18.56 5.44l.94 2.06.94-2.06 2.06-.94-2.06-.94-.94-2.06-.94 2.06-2.06.94zm-11 1L8.5 8.5l.94-2.06 2.06-.94-2.06-.94L8.5 2.5l-.94 2.06-2.06.94zm10 10l.94 2.06.94-2.06 2.06-.94-2.06-.94-.94-2.06-.94 2.06-2.06.94z\"/><path d=\"M17.41 7.96l-1.37-1.37c-.4-.4-.92-.59-1.43-.59-.52 0-1.04.2-1.43.59L10.3 9.45l-7.72 7.72c-.78.78-.78 2.05 0 2.83L4 21.41c.39.39.9.59 1.41.59.51 0 1.02-.2 1.41-.59l7.78-7.78 2.81-2.81c.8-.78.8-2.07 0-2.86zM5.41 20L4 18.59l7.72-7.72 1.47 1.35L5.41 20z\"/>\n",
              "  </svg>\n",
              "      </button>\n",
              "\n",
              "\n",
              "\n",
              "    <div id=\"df-dbaf3380-6564-4439-8de5-a733078dc76a\">\n",
              "      <button class=\"colab-df-quickchart\" onclick=\"quickchart('df-dbaf3380-6564-4439-8de5-a733078dc76a')\"\n",
              "              title=\"Suggest charts.\"\n",
              "              style=\"display:none;\">\n",
              "\n",
              "<svg xmlns=\"http://www.w3.org/2000/svg\" height=\"24px\"viewBox=\"0 0 24 24\"\n",
              "     width=\"24px\">\n",
              "    <g>\n",
              "        <path d=\"M19 3H5c-1.1 0-2 .9-2 2v14c0 1.1.9 2 2 2h14c1.1 0 2-.9 2-2V5c0-1.1-.9-2-2-2zM9 17H7v-7h2v7zm4 0h-2V7h2v10zm4 0h-2v-4h2v4z\"/>\n",
              "    </g>\n",
              "</svg>\n",
              "      </button>\n",
              "    </div>\n",
              "\n",
              "<style>\n",
              "  .colab-df-quickchart {\n",
              "    background-color: #E8F0FE;\n",
              "    border: none;\n",
              "    border-radius: 50%;\n",
              "    cursor: pointer;\n",
              "    display: none;\n",
              "    fill: #1967D2;\n",
              "    height: 32px;\n",
              "    padding: 0 0 0 0;\n",
              "    width: 32px;\n",
              "  }\n",
              "\n",
              "  .colab-df-quickchart:hover {\n",
              "    background-color: #E2EBFA;\n",
              "    box-shadow: 0px 1px 2px rgba(60, 64, 67, 0.3), 0px 1px 3px 1px rgba(60, 64, 67, 0.15);\n",
              "    fill: #174EA6;\n",
              "  }\n",
              "\n",
              "  [theme=dark] .colab-df-quickchart {\n",
              "    background-color: #3B4455;\n",
              "    fill: #D2E3FC;\n",
              "  }\n",
              "\n",
              "  [theme=dark] .colab-df-quickchart:hover {\n",
              "    background-color: #434B5C;\n",
              "    box-shadow: 0px 1px 3px 1px rgba(0, 0, 0, 0.15);\n",
              "    filter: drop-shadow(0px 1px 2px rgba(0, 0, 0, 0.3));\n",
              "    fill: #FFFFFF;\n",
              "  }\n",
              "</style>\n",
              "\n",
              "    <script>\n",
              "      async function quickchart(key) {\n",
              "        const containerElement = document.querySelector('#' + key);\n",
              "        const charts = await google.colab.kernel.invokeFunction(\n",
              "            'suggestCharts', [key], {});\n",
              "      }\n",
              "    </script>\n",
              "\n",
              "      <script>\n",
              "\n",
              "function displayQuickchartButton(domScope) {\n",
              "  let quickchartButtonEl =\n",
              "    domScope.querySelector('#df-dbaf3380-6564-4439-8de5-a733078dc76a button.colab-df-quickchart');\n",
              "  quickchartButtonEl.style.display =\n",
              "    google.colab.kernel.accessAllowed ? 'block' : 'none';\n",
              "}\n",
              "\n",
              "        displayQuickchartButton(document);\n",
              "      </script>\n",
              "      <style>\n",
              "    .colab-df-container {\n",
              "      display:flex;\n",
              "      flex-wrap:wrap;\n",
              "      gap: 12px;\n",
              "    }\n",
              "\n",
              "    .colab-df-convert {\n",
              "      background-color: #E8F0FE;\n",
              "      border: none;\n",
              "      border-radius: 50%;\n",
              "      cursor: pointer;\n",
              "      display: none;\n",
              "      fill: #1967D2;\n",
              "      height: 32px;\n",
              "      padding: 0 0 0 0;\n",
              "      width: 32px;\n",
              "    }\n",
              "\n",
              "    .colab-df-convert:hover {\n",
              "      background-color: #E2EBFA;\n",
              "      box-shadow: 0px 1px 2px rgba(60, 64, 67, 0.3), 0px 1px 3px 1px rgba(60, 64, 67, 0.15);\n",
              "      fill: #174EA6;\n",
              "    }\n",
              "\n",
              "    [theme=dark] .colab-df-convert {\n",
              "      background-color: #3B4455;\n",
              "      fill: #D2E3FC;\n",
              "    }\n",
              "\n",
              "    [theme=dark] .colab-df-convert:hover {\n",
              "      background-color: #434B5C;\n",
              "      box-shadow: 0px 1px 3px 1px rgba(0, 0, 0, 0.15);\n",
              "      filter: drop-shadow(0px 1px 2px rgba(0, 0, 0, 0.3));\n",
              "      fill: #FFFFFF;\n",
              "    }\n",
              "  </style>\n",
              "\n",
              "      <script>\n",
              "        const buttonEl =\n",
              "          document.querySelector('#df-7f416533-d99d-4e5c-a538-9e0c4d531e71 button.colab-df-convert');\n",
              "        buttonEl.style.display =\n",
              "          google.colab.kernel.accessAllowed ? 'block' : 'none';\n",
              "\n",
              "        async function convertToInteractive(key) {\n",
              "          const element = document.querySelector('#df-7f416533-d99d-4e5c-a538-9e0c4d531e71');\n",
              "          const dataTable =\n",
              "            await google.colab.kernel.invokeFunction('convertToInteractive',\n",
              "                                                     [key], {});\n",
              "          if (!dataTable) return;\n",
              "\n",
              "          const docLinkHtml = 'Like what you see? Visit the ' +\n",
              "            '<a target=\"_blank\" href=https://colab.research.google.com/notebooks/data_table.ipynb>data table notebook</a>'\n",
              "            + ' to learn more about interactive tables.';\n",
              "          element.innerHTML = '';\n",
              "          dataTable['output_type'] = 'display_data';\n",
              "          await google.colab.output.renderOutput(dataTable, element);\n",
              "          const docLink = document.createElement('div');\n",
              "          docLink.innerHTML = docLinkHtml;\n",
              "          element.appendChild(docLink);\n",
              "        }\n",
              "      </script>\n",
              "    </div>\n",
              "  </div>\n"
            ]
          },
          "metadata": {},
          "execution_count": 4
        }
      ]
    },
    {
      "cell_type": "code",
      "source": [
        "data.info()"
      ],
      "metadata": {
        "colab": {
          "base_uri": "https://localhost:8080/"
        },
        "id": "UjA_uLiCTJZa",
        "outputId": "c2a77ef3-ef9f-47c3-f6c8-54a4675bbea3"
      },
      "execution_count": 5,
      "outputs": [
        {
          "output_type": "stream",
          "name": "stdout",
          "text": [
            "<class 'pandas.core.frame.DataFrame'>\n",
            "RangeIndex: 45211 entries, 0 to 45210\n",
            "Data columns (total 17 columns):\n",
            " #   Column     Non-Null Count  Dtype \n",
            "---  ------     --------------  ----- \n",
            " 0   age        45211 non-null  int64 \n",
            " 1   job        45211 non-null  object\n",
            " 2   marital    45211 non-null  object\n",
            " 3   education  45211 non-null  object\n",
            " 4   default    45211 non-null  object\n",
            " 5   balance    45211 non-null  int64 \n",
            " 6   housing    45211 non-null  object\n",
            " 7   loan       45211 non-null  object\n",
            " 8   contact    45211 non-null  object\n",
            " 9   day        45211 non-null  int64 \n",
            " 10  month      45211 non-null  object\n",
            " 11  duration   45211 non-null  int64 \n",
            " 12  campaign   45211 non-null  int64 \n",
            " 13  pdays      45211 non-null  int64 \n",
            " 14  previous   45211 non-null  int64 \n",
            " 15  poutcome   45211 non-null  object\n",
            " 16  y          45211 non-null  object\n",
            "dtypes: int64(7), object(10)\n",
            "memory usage: 5.9+ MB\n"
          ]
        }
      ]
    },
    {
      "cell_type": "markdown",
      "source": [
        "- Evalueamos la completitud de la información para el adecuado procesamiento de los datos"
      ],
      "metadata": {
        "id": "Xx902WyITeHL"
      }
    },
    {
      "cell_type": "code",
      "source": [
        "data.head()"
      ],
      "metadata": {
        "colab": {
          "base_uri": "https://localhost:8080/",
          "height": 206
        },
        "id": "PCrwsv_MSixN",
        "outputId": "8252a50e-069e-4fd7-b990-cc3694914450"
      },
      "execution_count": 7,
      "outputs": [
        {
          "output_type": "execute_result",
          "data": {
            "text/plain": [
              "   age           job  marital  education default  balance housing loan  \\\n",
              "0   58    management  married   tertiary      no     2143     yes   no   \n",
              "1   44    technician   single  secondary      no       29     yes   no   \n",
              "2   33  entrepreneur  married  secondary      no        2     yes  yes   \n",
              "3   47   blue-collar  married    unknown      no     1506     yes   no   \n",
              "4   33       unknown   single    unknown      no        1      no   no   \n",
              "\n",
              "   contact  day month  duration  campaign  pdays  previous poutcome   y  \n",
              "0  unknown    5   may       261         1     -1         0  unknown  no  \n",
              "1  unknown    5   may       151         1     -1         0  unknown  no  \n",
              "2  unknown    5   may        76         1     -1         0  unknown  no  \n",
              "3  unknown    5   may        92         1     -1         0  unknown  no  \n",
              "4  unknown    5   may       198         1     -1         0  unknown  no  "
            ],
            "text/html": [
              "\n",
              "\n",
              "  <div id=\"df-d9a08a8c-fd83-44fb-8fe0-9113c5a308f2\">\n",
              "    <div class=\"colab-df-container\">\n",
              "      <div>\n",
              "<style scoped>\n",
              "    .dataframe tbody tr th:only-of-type {\n",
              "        vertical-align: middle;\n",
              "    }\n",
              "\n",
              "    .dataframe tbody tr th {\n",
              "        vertical-align: top;\n",
              "    }\n",
              "\n",
              "    .dataframe thead th {\n",
              "        text-align: right;\n",
              "    }\n",
              "</style>\n",
              "<table border=\"1\" class=\"dataframe\">\n",
              "  <thead>\n",
              "    <tr style=\"text-align: right;\">\n",
              "      <th></th>\n",
              "      <th>age</th>\n",
              "      <th>job</th>\n",
              "      <th>marital</th>\n",
              "      <th>education</th>\n",
              "      <th>default</th>\n",
              "      <th>balance</th>\n",
              "      <th>housing</th>\n",
              "      <th>loan</th>\n",
              "      <th>contact</th>\n",
              "      <th>day</th>\n",
              "      <th>month</th>\n",
              "      <th>duration</th>\n",
              "      <th>campaign</th>\n",
              "      <th>pdays</th>\n",
              "      <th>previous</th>\n",
              "      <th>poutcome</th>\n",
              "      <th>y</th>\n",
              "    </tr>\n",
              "  </thead>\n",
              "  <tbody>\n",
              "    <tr>\n",
              "      <th>0</th>\n",
              "      <td>58</td>\n",
              "      <td>management</td>\n",
              "      <td>married</td>\n",
              "      <td>tertiary</td>\n",
              "      <td>no</td>\n",
              "      <td>2143</td>\n",
              "      <td>yes</td>\n",
              "      <td>no</td>\n",
              "      <td>unknown</td>\n",
              "      <td>5</td>\n",
              "      <td>may</td>\n",
              "      <td>261</td>\n",
              "      <td>1</td>\n",
              "      <td>-1</td>\n",
              "      <td>0</td>\n",
              "      <td>unknown</td>\n",
              "      <td>no</td>\n",
              "    </tr>\n",
              "    <tr>\n",
              "      <th>1</th>\n",
              "      <td>44</td>\n",
              "      <td>technician</td>\n",
              "      <td>single</td>\n",
              "      <td>secondary</td>\n",
              "      <td>no</td>\n",
              "      <td>29</td>\n",
              "      <td>yes</td>\n",
              "      <td>no</td>\n",
              "      <td>unknown</td>\n",
              "      <td>5</td>\n",
              "      <td>may</td>\n",
              "      <td>151</td>\n",
              "      <td>1</td>\n",
              "      <td>-1</td>\n",
              "      <td>0</td>\n",
              "      <td>unknown</td>\n",
              "      <td>no</td>\n",
              "    </tr>\n",
              "    <tr>\n",
              "      <th>2</th>\n",
              "      <td>33</td>\n",
              "      <td>entrepreneur</td>\n",
              "      <td>married</td>\n",
              "      <td>secondary</td>\n",
              "      <td>no</td>\n",
              "      <td>2</td>\n",
              "      <td>yes</td>\n",
              "      <td>yes</td>\n",
              "      <td>unknown</td>\n",
              "      <td>5</td>\n",
              "      <td>may</td>\n",
              "      <td>76</td>\n",
              "      <td>1</td>\n",
              "      <td>-1</td>\n",
              "      <td>0</td>\n",
              "      <td>unknown</td>\n",
              "      <td>no</td>\n",
              "    </tr>\n",
              "    <tr>\n",
              "      <th>3</th>\n",
              "      <td>47</td>\n",
              "      <td>blue-collar</td>\n",
              "      <td>married</td>\n",
              "      <td>unknown</td>\n",
              "      <td>no</td>\n",
              "      <td>1506</td>\n",
              "      <td>yes</td>\n",
              "      <td>no</td>\n",
              "      <td>unknown</td>\n",
              "      <td>5</td>\n",
              "      <td>may</td>\n",
              "      <td>92</td>\n",
              "      <td>1</td>\n",
              "      <td>-1</td>\n",
              "      <td>0</td>\n",
              "      <td>unknown</td>\n",
              "      <td>no</td>\n",
              "    </tr>\n",
              "    <tr>\n",
              "      <th>4</th>\n",
              "      <td>33</td>\n",
              "      <td>unknown</td>\n",
              "      <td>single</td>\n",
              "      <td>unknown</td>\n",
              "      <td>no</td>\n",
              "      <td>1</td>\n",
              "      <td>no</td>\n",
              "      <td>no</td>\n",
              "      <td>unknown</td>\n",
              "      <td>5</td>\n",
              "      <td>may</td>\n",
              "      <td>198</td>\n",
              "      <td>1</td>\n",
              "      <td>-1</td>\n",
              "      <td>0</td>\n",
              "      <td>unknown</td>\n",
              "      <td>no</td>\n",
              "    </tr>\n",
              "  </tbody>\n",
              "</table>\n",
              "</div>\n",
              "      <button class=\"colab-df-convert\" onclick=\"convertToInteractive('df-d9a08a8c-fd83-44fb-8fe0-9113c5a308f2')\"\n",
              "              title=\"Convert this dataframe to an interactive table.\"\n",
              "              style=\"display:none;\">\n",
              "\n",
              "  <svg xmlns=\"http://www.w3.org/2000/svg\" height=\"24px\"viewBox=\"0 0 24 24\"\n",
              "       width=\"24px\">\n",
              "    <path d=\"M0 0h24v24H0V0z\" fill=\"none\"/>\n",
              "    <path d=\"M18.56 5.44l.94 2.06.94-2.06 2.06-.94-2.06-.94-.94-2.06-.94 2.06-2.06.94zm-11 1L8.5 8.5l.94-2.06 2.06-.94-2.06-.94L8.5 2.5l-.94 2.06-2.06.94zm10 10l.94 2.06.94-2.06 2.06-.94-2.06-.94-.94-2.06-.94 2.06-2.06.94z\"/><path d=\"M17.41 7.96l-1.37-1.37c-.4-.4-.92-.59-1.43-.59-.52 0-1.04.2-1.43.59L10.3 9.45l-7.72 7.72c-.78.78-.78 2.05 0 2.83L4 21.41c.39.39.9.59 1.41.59.51 0 1.02-.2 1.41-.59l7.78-7.78 2.81-2.81c.8-.78.8-2.07 0-2.86zM5.41 20L4 18.59l7.72-7.72 1.47 1.35L5.41 20z\"/>\n",
              "  </svg>\n",
              "      </button>\n",
              "\n",
              "\n",
              "\n",
              "    <div id=\"df-2ab0b8f1-0072-4f81-9712-feb813ad5f85\">\n",
              "      <button class=\"colab-df-quickchart\" onclick=\"quickchart('df-2ab0b8f1-0072-4f81-9712-feb813ad5f85')\"\n",
              "              title=\"Suggest charts.\"\n",
              "              style=\"display:none;\">\n",
              "\n",
              "<svg xmlns=\"http://www.w3.org/2000/svg\" height=\"24px\"viewBox=\"0 0 24 24\"\n",
              "     width=\"24px\">\n",
              "    <g>\n",
              "        <path d=\"M19 3H5c-1.1 0-2 .9-2 2v14c0 1.1.9 2 2 2h14c1.1 0 2-.9 2-2V5c0-1.1-.9-2-2-2zM9 17H7v-7h2v7zm4 0h-2V7h2v10zm4 0h-2v-4h2v4z\"/>\n",
              "    </g>\n",
              "</svg>\n",
              "      </button>\n",
              "    </div>\n",
              "\n",
              "<style>\n",
              "  .colab-df-quickchart {\n",
              "    background-color: #E8F0FE;\n",
              "    border: none;\n",
              "    border-radius: 50%;\n",
              "    cursor: pointer;\n",
              "    display: none;\n",
              "    fill: #1967D2;\n",
              "    height: 32px;\n",
              "    padding: 0 0 0 0;\n",
              "    width: 32px;\n",
              "  }\n",
              "\n",
              "  .colab-df-quickchart:hover {\n",
              "    background-color: #E2EBFA;\n",
              "    box-shadow: 0px 1px 2px rgba(60, 64, 67, 0.3), 0px 1px 3px 1px rgba(60, 64, 67, 0.15);\n",
              "    fill: #174EA6;\n",
              "  }\n",
              "\n",
              "  [theme=dark] .colab-df-quickchart {\n",
              "    background-color: #3B4455;\n",
              "    fill: #D2E3FC;\n",
              "  }\n",
              "\n",
              "  [theme=dark] .colab-df-quickchart:hover {\n",
              "    background-color: #434B5C;\n",
              "    box-shadow: 0px 1px 3px 1px rgba(0, 0, 0, 0.15);\n",
              "    filter: drop-shadow(0px 1px 2px rgba(0, 0, 0, 0.3));\n",
              "    fill: #FFFFFF;\n",
              "  }\n",
              "</style>\n",
              "\n",
              "    <script>\n",
              "      async function quickchart(key) {\n",
              "        const containerElement = document.querySelector('#' + key);\n",
              "        const charts = await google.colab.kernel.invokeFunction(\n",
              "            'suggestCharts', [key], {});\n",
              "      }\n",
              "    </script>\n",
              "\n",
              "      <script>\n",
              "\n",
              "function displayQuickchartButton(domScope) {\n",
              "  let quickchartButtonEl =\n",
              "    domScope.querySelector('#df-2ab0b8f1-0072-4f81-9712-feb813ad5f85 button.colab-df-quickchart');\n",
              "  quickchartButtonEl.style.display =\n",
              "    google.colab.kernel.accessAllowed ? 'block' : 'none';\n",
              "}\n",
              "\n",
              "        displayQuickchartButton(document);\n",
              "      </script>\n",
              "      <style>\n",
              "    .colab-df-container {\n",
              "      display:flex;\n",
              "      flex-wrap:wrap;\n",
              "      gap: 12px;\n",
              "    }\n",
              "\n",
              "    .colab-df-convert {\n",
              "      background-color: #E8F0FE;\n",
              "      border: none;\n",
              "      border-radius: 50%;\n",
              "      cursor: pointer;\n",
              "      display: none;\n",
              "      fill: #1967D2;\n",
              "      height: 32px;\n",
              "      padding: 0 0 0 0;\n",
              "      width: 32px;\n",
              "    }\n",
              "\n",
              "    .colab-df-convert:hover {\n",
              "      background-color: #E2EBFA;\n",
              "      box-shadow: 0px 1px 2px rgba(60, 64, 67, 0.3), 0px 1px 3px 1px rgba(60, 64, 67, 0.15);\n",
              "      fill: #174EA6;\n",
              "    }\n",
              "\n",
              "    [theme=dark] .colab-df-convert {\n",
              "      background-color: #3B4455;\n",
              "      fill: #D2E3FC;\n",
              "    }\n",
              "\n",
              "    [theme=dark] .colab-df-convert:hover {\n",
              "      background-color: #434B5C;\n",
              "      box-shadow: 0px 1px 3px 1px rgba(0, 0, 0, 0.15);\n",
              "      filter: drop-shadow(0px 1px 2px rgba(0, 0, 0, 0.3));\n",
              "      fill: #FFFFFF;\n",
              "    }\n",
              "  </style>\n",
              "\n",
              "      <script>\n",
              "        const buttonEl =\n",
              "          document.querySelector('#df-d9a08a8c-fd83-44fb-8fe0-9113c5a308f2 button.colab-df-convert');\n",
              "        buttonEl.style.display =\n",
              "          google.colab.kernel.accessAllowed ? 'block' : 'none';\n",
              "\n",
              "        async function convertToInteractive(key) {\n",
              "          const element = document.querySelector('#df-d9a08a8c-fd83-44fb-8fe0-9113c5a308f2');\n",
              "          const dataTable =\n",
              "            await google.colab.kernel.invokeFunction('convertToInteractive',\n",
              "                                                     [key], {});\n",
              "          if (!dataTable) return;\n",
              "\n",
              "          const docLinkHtml = 'Like what you see? Visit the ' +\n",
              "            '<a target=\"_blank\" href=https://colab.research.google.com/notebooks/data_table.ipynb>data table notebook</a>'\n",
              "            + ' to learn more about interactive tables.';\n",
              "          element.innerHTML = '';\n",
              "          dataTable['output_type'] = 'display_data';\n",
              "          await google.colab.output.renderOutput(dataTable, element);\n",
              "          const docLink = document.createElement('div');\n",
              "          docLink.innerHTML = docLinkHtml;\n",
              "          element.appendChild(docLink);\n",
              "        }\n",
              "      </script>\n",
              "    </div>\n",
              "  </div>\n"
            ]
          },
          "metadata": {},
          "execution_count": 7
        }
      ]
    },
    {
      "cell_type": "code",
      "source": [
        "data.info()"
      ],
      "metadata": {
        "id": "luGzGep_mgt_",
        "colab": {
          "base_uri": "https://localhost:8080/"
        },
        "outputId": "d64ed362-a75a-4141-88f2-4553769731be"
      },
      "execution_count": 8,
      "outputs": [
        {
          "output_type": "stream",
          "name": "stdout",
          "text": [
            "<class 'pandas.core.frame.DataFrame'>\n",
            "RangeIndex: 45211 entries, 0 to 45210\n",
            "Data columns (total 17 columns):\n",
            " #   Column     Non-Null Count  Dtype \n",
            "---  ------     --------------  ----- \n",
            " 0   age        45211 non-null  int64 \n",
            " 1   job        45211 non-null  object\n",
            " 2   marital    45211 non-null  object\n",
            " 3   education  45211 non-null  object\n",
            " 4   default    45211 non-null  object\n",
            " 5   balance    45211 non-null  int64 \n",
            " 6   housing    45211 non-null  object\n",
            " 7   loan       45211 non-null  object\n",
            " 8   contact    45211 non-null  object\n",
            " 9   day        45211 non-null  int64 \n",
            " 10  month      45211 non-null  object\n",
            " 11  duration   45211 non-null  int64 \n",
            " 12  campaign   45211 non-null  int64 \n",
            " 13  pdays      45211 non-null  int64 \n",
            " 14  previous   45211 non-null  int64 \n",
            " 15  poutcome   45211 non-null  object\n",
            " 16  y          45211 non-null  object\n",
            "dtypes: int64(7), object(10)\n",
            "memory usage: 5.9+ MB\n"
          ]
        }
      ]
    },
    {
      "cell_type": "markdown",
      "source": [
        "**Observaciones:**\n",
        "\n",
        "La muestra tiene:\n",
        "\n",
        "45,211 instancias\n",
        "\n",
        "17 variables ( columnas).\n",
        "\n",
        "  - 10 variables categóricas\n",
        "\n",
        "  - 7 variables numéricas\n",
        "\n",
        "La variable Objetivo es categorica binaria: yes / no\n",
        "\n",
        "No hay valores missing"
      ],
      "metadata": {
        "id": "S2fY1psDwWkn"
      }
    },
    {
      "cell_type": "markdown",
      "source": [
        "# 1.1 Análisis de la Variable Objetivo (y)\n",
        "¿El cliente invirtió en un depósito a plazo fijo? : yes / no\n"
      ],
      "metadata": {
        "id": "muz0a77sVE2a"
      }
    },
    {
      "cell_type": "code",
      "source": [
        "#La variable Objetivo de tipo categórica se mapea en 0=no , yes=1\n",
        "data[\"y\"].unique()\n",
        "data[\"y\"]=data[\"y\"].map({'no':0, 'yes':1})\n",
        "data.info()"
      ],
      "metadata": {
        "colab": {
          "base_uri": "https://localhost:8080/"
        },
        "id": "FJ2Nw4krLHmx",
        "outputId": "0b8e8b28-e483-45f2-e9b0-b6de6146cb5b"
      },
      "execution_count": 9,
      "outputs": [
        {
          "output_type": "stream",
          "name": "stdout",
          "text": [
            "<class 'pandas.core.frame.DataFrame'>\n",
            "RangeIndex: 45211 entries, 0 to 45210\n",
            "Data columns (total 17 columns):\n",
            " #   Column     Non-Null Count  Dtype \n",
            "---  ------     --------------  ----- \n",
            " 0   age        45211 non-null  int64 \n",
            " 1   job        45211 non-null  object\n",
            " 2   marital    45211 non-null  object\n",
            " 3   education  45211 non-null  object\n",
            " 4   default    45211 non-null  object\n",
            " 5   balance    45211 non-null  int64 \n",
            " 6   housing    45211 non-null  object\n",
            " 7   loan       45211 non-null  object\n",
            " 8   contact    45211 non-null  object\n",
            " 9   day        45211 non-null  int64 \n",
            " 10  month      45211 non-null  object\n",
            " 11  duration   45211 non-null  int64 \n",
            " 12  campaign   45211 non-null  int64 \n",
            " 13  pdays      45211 non-null  int64 \n",
            " 14  previous   45211 non-null  int64 \n",
            " 15  poutcome   45211 non-null  object\n",
            " 16  y          45211 non-null  int64 \n",
            "dtypes: int64(8), object(9)\n",
            "memory usage: 5.9+ MB\n"
          ]
        }
      ]
    },
    {
      "cell_type": "code",
      "source": [
        "# Analizando la distribución de la variable objetivo.\n",
        "sns.countplot(x='y', data = data, palette = 'hls')"
      ],
      "metadata": {
        "colab": {
          "base_uri": "https://localhost:8080/",
          "height": 466
        },
        "id": "8HFfJAgKT0dH",
        "outputId": "8a9aacc0-d108-4725-c267-131b30307843"
      },
      "execution_count": 10,
      "outputs": [
        {
          "output_type": "execute_result",
          "data": {
            "text/plain": [
              "<Axes: xlabel='y', ylabel='count'>"
            ]
          },
          "metadata": {},
          "execution_count": 10
        },
        {
          "output_type": "display_data",
          "data": {
            "text/plain": [
              "<Figure size 640x480 with 1 Axes>"
            ],
            "image/png": "[encoded data removed]"
          },
          "metadata": {}
        }
      ]
    },
    {
      "cell_type": "code",
      "source": [
        "#Media de la variable objetivo\n",
        "\n",
        "print(\"Media de Y: \", data.y.mean(). round(3))\n",
        "# Distribución de frecuencias de las respuestas a la suscripción de depósitos a plazo fijo (y)\n",
        "frecuencias = data.groupby('y').agg({'y': ['count',  lambda x: 100*x.size/len(data)]})\n",
        "frecuencias.columns = ['fi', 'hi%']\n",
        "print(\"\\nDistribución de frecuencias\")\n",
        "frecuencias\n"
      ],
      "metadata": {
        "colab": {
          "base_uri": "https://localhost:8080/",
          "height": 196
        },
        "id": "mGm9P5OuogFX",
        "outputId": "4dac3ce6-437f-4417-c699-040aa8d80d5c"
      },
      "execution_count": 11,
      "outputs": [
        {
          "output_type": "stream",
          "name": "stdout",
          "text": [
            "Media de Y:  0.117\n",
            "\n",
            "Distribución de frecuencias\n"
          ]
        },
        {
          "output_type": "execute_result",
          "data": {
            "text/plain": [
              "      fi       hi%\n",
              "y                 \n",
              "0  39922  88.30152\n",
              "1   5289  11.69848"
            ],
            "text/html": [
              "\n",
              "\n",
              "  <div id=\"df-ca71e1ac-eb1d-4f5e-9a82-187e6bdb56a4\">\n",
              "    <div class=\"colab-df-container\">\n",
              "      <div>\n",
              "<style scoped>\n",
              "    .dataframe tbody tr th:only-of-type {\n",
              "        vertical-align: middle;\n",
              "    }\n",
              "\n",
              "    .dataframe tbody tr th {\n",
              "        vertical-align: top;\n",
              "    }\n",
              "\n",
              "    .dataframe thead th {\n",
              "        text-align: right;\n",
              "    }\n",
              "</style>\n",
              "<table border=\"1\" class=\"dataframe\">\n",
              "  <thead>\n",
              "    <tr style=\"text-align: right;\">\n",
              "      <th></th>\n",
              "      <th>fi</th>\n",
              "      <th>hi%</th>\n",
              "    </tr>\n",
              "    <tr>\n",
              "      <th>y</th>\n",
              "      <th></th>\n",
              "      <th></th>\n",
              "    </tr>\n",
              "  </thead>\n",
              "  <tbody>\n",
              "    <tr>\n",
              "      <th>0</th>\n",
              "      <td>39922</td>\n",
              "      <td>88.30152</td>\n",
              "    </tr>\n",
              "    <tr>\n",
              "      <th>1</th>\n",
              "      <td>5289</td>\n",
              "      <td>11.69848</td>\n",
              "    </tr>\n",
              "  </tbody>\n",
              "</table>\n",
              "</div>\n",
              "      <button class=\"colab-df-convert\" onclick=\"convertToInteractive('df-ca71e1ac-eb1d-4f5e-9a82-187e6bdb56a4')\"\n",
              "              title=\"Convert this dataframe to an interactive table.\"\n",
              "              style=\"display:none;\">\n",
              "\n",
              "  <svg xmlns=\"http://www.w3.org/2000/svg\" height=\"24px\"viewBox=\"0 0 24 24\"\n",
              "       width=\"24px\">\n",
              "    <path d=\"M0 0h24v24H0V0z\" fill=\"none\"/>\n",
              "    <path d=\"M18.56 5.44l.94 2.06.94-2.06 2.06-.94-2.06-.94-.94-2.06-.94 2.06-2.06.94zm-11 1L8.5 8.5l.94-2.06 2.06-.94-2.06-.94L8.5 2.5l-.94 2.06-2.06.94zm10 10l.94 2.06.94-2.06 2.06-.94-2.06-.94-.94-2.06-.94 2.06-2.06.94z\"/><path d=\"M17.41 7.96l-1.37-1.37c-.4-.4-.92-.59-1.43-.59-.52 0-1.04.2-1.43.59L10.3 9.45l-7.72 7.72c-.78.78-.78 2.05 0 2.83L4 21.41c.39.39.9.59 1.41.59.51 0 1.02-.2 1.41-.59l7.78-7.78 2.81-2.81c.8-.78.8-2.07 0-2.86zM5.41 20L4 18.59l7.72-7.72 1.47 1.35L5.41 20z\"/>\n",
              "  </svg>\n",
              "      </button>\n",
              "\n",
              "\n",
              "\n",
              "    <div id=\"df-8f8e2dab-38d8-4273-a949-b832a3d63f1b\">\n",
              "      <button class=\"colab-df-quickchart\" onclick=\"quickchart('df-8f8e2dab-38d8-4273-a949-b832a3d63f1b')\"\n",
              "              title=\"Suggest charts.\"\n",
              "              style=\"display:none;\">\n",
              "\n",
              "<svg xmlns=\"http://www.w3.org/2000/svg\" height=\"24px\"viewBox=\"0 0 24 24\"\n",
              "     width=\"24px\">\n",
              "    <g>\n",
              "        <path d=\"M19 3H5c-1.1 0-2 .9-2 2v14c0 1.1.9 2 2 2h14c1.1 0 2-.9 2-2V5c0-1.1-.9-2-2-2zM9 17H7v-7h2v7zm4 0h-2V7h2v10zm4 0h-2v-4h2v4z\"/>\n",
              "    </g>\n",
              "</svg>\n",
              "      </button>\n",
              "    </div>\n",
              "\n",
              "<style>\n",
              "  .colab-df-quickchart {\n",
              "    background-color: #E8F0FE;\n",
              "    border: none;\n",
              "    border-radius: 50%;\n",
              "    cursor: pointer;\n",
              "    display: none;\n",
              "    fill: #1967D2;\n",
              "    height: 32px;\n",
              "    padding: 0 0 0 0;\n",
              "    width: 32px;\n",
              "  }\n",
              "\n",
              "  .colab-df-quickchart:hover {\n",
              "    background-color: #E2EBFA;\n",
              "    box-shadow: 0px 1px 2px rgba(60, 64, 67, 0.3), 0px 1px 3px 1px rgba(60, 64, 67, 0.15);\n",
              "    fill: #174EA6;\n",
              "  }\n",
              "\n",
              "  [theme=dark] .colab-df-quickchart {\n",
              "    background-color: #3B4455;\n",
              "    fill: #D2E3FC;\n",
              "  }\n",
              "\n",
              "  [theme=dark] .colab-df-quickchart:hover {\n",
              "    background-color: #434B5C;\n",
              "    box-shadow: 0px 1px 3px 1px rgba(0, 0, 0, 0.15);\n",
              "    filter: drop-shadow(0px 1px 2px rgba(0, 0, 0, 0.3));\n",
              "    fill: #FFFFFF;\n",
              "  }\n",
              "</style>\n",
              "\n",
              "    <script>\n",
              "      async function quickchart(key) {\n",
              "        const containerElement = document.querySelector('#' + key);\n",
              "        const charts = await google.colab.kernel.invokeFunction(\n",
              "            'suggestCharts', [key], {});\n",
              "      }\n",
              "    </script>\n",
              "\n",
              "      <script>\n",
              "\n",
              "function displayQuickchartButton(domScope) {\n",
              "  let quickchartButtonEl =\n",
              "    domScope.querySelector('#df-8f8e2dab-38d8-4273-a949-b832a3d63f1b button.colab-df-quickchart');\n",
              "  quickchartButtonEl.style.display =\n",
              "    google.colab.kernel.accessAllowed ? 'block' : 'none';\n",
              "}\n",
              "\n",
              "        displayQuickchartButton(document);\n",
              "      </script>\n",
              "      <style>\n",
              "    .colab-df-container {\n",
              "      display:flex;\n",
              "      flex-wrap:wrap;\n",
              "      gap: 12px;\n",
              "    }\n",
              "\n",
              "    .colab-df-convert {\n",
              "      background-color: #E8F0FE;\n",
              "      border: none;\n",
              "      border-radius: 50%;\n",
              "      cursor: pointer;\n",
              "      display: none;\n",
              "      fill: #1967D2;\n",
              "      height: 32px;\n",
              "      padding: 0 0 0 0;\n",
              "      width: 32px;\n",
              "    }\n",
              "\n",
              "    .colab-df-convert:hover {\n",
              "      background-color: #E2EBFA;\n",
              "      box-shadow: 0px 1px 2px rgba(60, 64, 67, 0.3), 0px 1px 3px 1px rgba(60, 64, 67, 0.15);\n",
              "      fill: #174EA6;\n",
              "    }\n",
              "\n",
              "    [theme=dark] .colab-df-convert {\n",
              "      background-color: #3B4455;\n",
              "      fill: #D2E3FC;\n",
              "    }\n",
              "\n",
              "    [theme=dark] .colab-df-convert:hover {\n",
              "      background-color: #434B5C;\n",
              "      box-shadow: 0px 1px 3px 1px rgba(0, 0, 0, 0.15);\n",
              "      filter: drop-shadow(0px 1px 2px rgba(0, 0, 0, 0.3));\n",
              "      fill: #FFFFFF;\n",
              "    }\n",
              "  </style>\n",
              "\n",
              "      <script>\n",
              "        const buttonEl =\n",
              "          document.querySelector('#df-ca71e1ac-eb1d-4f5e-9a82-187e6bdb56a4 button.colab-df-convert');\n",
              "        buttonEl.style.display =\n",
              "          google.colab.kernel.accessAllowed ? 'block' : 'none';\n",
              "\n",
              "        async function convertToInteractive(key) {\n",
              "          const element = document.querySelector('#df-ca71e1ac-eb1d-4f5e-9a82-187e6bdb56a4');\n",
              "          const dataTable =\n",
              "            await google.colab.kernel.invokeFunction('convertToInteractive',\n",
              "                                                     [key], {});\n",
              "          if (!dataTable) return;\n",
              "\n",
              "          const docLinkHtml = 'Like what you see? Visit the ' +\n",
              "            '<a target=\"_blank\" href=https://colab.research.google.com/notebooks/data_table.ipynb>data table notebook</a>'\n",
              "            + ' to learn more about interactive tables.';\n",
              "          element.innerHTML = '';\n",
              "          dataTable['output_type'] = 'display_data';\n",
              "          await google.colab.output.renderOutput(dataTable, element);\n",
              "          const docLink = document.createElement('div');\n",
              "          docLink.innerHTML = docLinkHtml;\n",
              "          element.appendChild(docLink);\n",
              "        }\n",
              "      </script>\n",
              "    </div>\n",
              "  </div>\n"
            ]
          },
          "metadata": {},
          "execution_count": 11
        }
      ]
    },
    {
      "cell_type": "markdown",
      "source": [
        "**Se observó:**\n",
        "\n",
        "1. *La variable objetivo es Categórica binaria.*  Por lo tanto, para el modelo de clasificación se codificó así:\n",
        "\n",
        "> 0='no'   No se suscribió a un depósito a plazo fijo.\n",
        "\n",
        "> 1='yes'  Si se suscribió a un depósito a plazo fijo.\n",
        "\n",
        "2. La Distribucipon de frecuencias de la variable objetiva nos muestra una data desbalanceada. 88.3% de la muestra no se suscribió a un depósito a plazo fijo. Esto se puede explicar por la desconfianza en el banco minorista dada la crisis del sistema financiero de Portugal el contexto de la crisis financiera del 2008.\n",
        "\n",
        "3. La media 0.117, nos indica que en promedio se suscribieron 12 de cada 100. Lo cual es bajo dado el desbalanceo de la data.\n"
      ],
      "metadata": {
        "id": "Qvd9C0-axkDN"
      }
    },
    {
      "cell_type": "markdown",
      "source": [
        "# 1.1. Análisis de las variables categóricas"
      ],
      "metadata": {
        "id": "_cwCPWUsqfsM"
      }
    },
    {
      "cell_type": "code",
      "source": [
        "# Identificar las variables categóricas utilizando el atributo dtypes\n",
        "variables_categoricas = data.select_dtypes(include=['object']).columns.tolist()\n",
        "variables_categoricas"
      ],
      "metadata": {
        "colab": {
          "base_uri": "https://localhost:8080/"
        },
        "id": "CY-d7jdeqJQW",
        "outputId": "f5b3c786-1365-4b68-a97c-5260d5af8a5c"
      },
      "execution_count": 13,
      "outputs": [
        {
          "output_type": "execute_result",
          "data": {
            "text/plain": [
              "['job',\n",
              " 'marital',\n",
              " 'education',\n",
              " 'default',\n",
              " 'housing',\n",
              " 'loan',\n",
              " 'contact',\n",
              " 'month',\n",
              " 'poutcome']"
            ]
          },
          "metadata": {},
          "execution_count": 13
        }
      ]
    },
    {
      "cell_type": "code",
      "source": [
        "categorical_columns =data.select_dtypes(include=['object'])\n",
        "categorical_columns.describe().transpose()"
      ],
      "metadata": {
        "colab": {
          "base_uri": "https://localhost:8080/",
          "height": 332
        },
        "id": "GaYxgOCeqXMA",
        "outputId": "895f5304-89d5-436f-ff40-6fab20c4ba51"
      },
      "execution_count": 14,
      "outputs": [
        {
          "output_type": "execute_result",
          "data": {
            "text/plain": [
              "           count unique          top   freq\n",
              "job        45211     12  blue-collar   9732\n",
              "marital    45211      3      married  27214\n",
              "education  45211      4    secondary  23202\n",
              "default    45211      2           no  44396\n",
              "housing    45211      2          yes  25130\n",
              "loan       45211      2           no  37967\n",
              "contact    45211      3     cellular  29285\n",
              "month      45211     12          may  13766\n",
              "poutcome   45211      4      unknown  36959"
            ],
            "text/html": [
              "\n",
              "\n",
              "  <div id=\"df-0b80a13c-be96-4ea3-a133-7d8c250a9e41\">\n",
              "    <div class=\"colab-df-container\">\n",
              "      <div>\n",
              "<style scoped>\n",
              "    .dataframe tbody tr th:only-of-type {\n",
              "        vertical-align: middle;\n",
              "    }\n",
              "\n",
              "    .dataframe tbody tr th {\n",
              "        vertical-align: top;\n",
              "    }\n",
              "\n",
              "    .dataframe thead th {\n",
              "        text-align: right;\n",
              "    }\n",
              "</style>\n",
              "<table border=\"1\" class=\"dataframe\">\n",
              "  <thead>\n",
              "    <tr style=\"text-align: right;\">\n",
              "      <th></th>\n",
              "      <th>count</th>\n",
              "      <th>unique</th>\n",
              "      <th>top</th>\n",
              "      <th>freq</th>\n",
              "    </tr>\n",
              "  </thead>\n",
              "  <tbody>\n",
              "    <tr>\n",
              "      <th>job</th>\n",
              "      <td>45211</td>\n",
              "      <td>12</td>\n",
              "      <td>blue-collar</td>\n",
              "      <td>9732</td>\n",
              "    </tr>\n",
              "    <tr>\n",
              "      <th>marital</th>\n",
              "      <td>45211</td>\n",
              "      <td>3</td>\n",
              "      <td>married</td>\n",
              "      <td>27214</td>\n",
              "    </tr>\n",
              "    <tr>\n",
              "      <th>education</th>\n",
              "      <td>45211</td>\n",
              "      <td>4</td>\n",
              "      <td>secondary</td>\n",
              "      <td>23202</td>\n",
              "    </tr>\n",
              "    <tr>\n",
              "      <th>default</th>\n",
              "      <td>45211</td>\n",
              "      <td>2</td>\n",
              "      <td>no</td>\n",
              "      <td>44396</td>\n",
              "    </tr>\n",
              "    <tr>\n",
              "      <th>housing</th>\n",
              "      <td>45211</td>\n",
              "      <td>2</td>\n",
              "      <td>yes</td>\n",
              "      <td>25130</td>\n",
              "    </tr>\n",
              "    <tr>\n",
              "      <th>loan</th>\n",
              "      <td>45211</td>\n",
              "      <td>2</td>\n",
              "      <td>no</td>\n",
              "      <td>37967</td>\n",
              "    </tr>\n",
              "    <tr>\n",
              "      <th>contact</th>\n",
              "      <td>45211</td>\n",
              "      <td>3</td>\n",
              "      <td>cellular</td>\n",
              "      <td>29285</td>\n",
              "    </tr>\n",
              "    <tr>\n",
              "      <th>month</th>\n",
              "      <td>45211</td>\n",
              "      <td>12</td>\n",
              "      <td>may</td>\n",
              "      <td>13766</td>\n",
              "    </tr>\n",
              "    <tr>\n",
              "      <th>poutcome</th>\n",
              "      <td>45211</td>\n",
              "      <td>4</td>\n",
              "      <td>unknown</td>\n",
              "      <td>36959</td>\n",
              "    </tr>\n",
              "  </tbody>\n",
              "</table>\n",
              "</div>\n",
              "      <button class=\"colab-df-convert\" onclick=\"convertToInteractive('df-0b80a13c-be96-4ea3-a133-7d8c250a9e41')\"\n",
              "              title=\"Convert this dataframe to an interactive table.\"\n",
              "              style=\"display:none;\">\n",
              "\n",
              "  <svg xmlns=\"http://www.w3.org/2000/svg\" height=\"24px\"viewBox=\"0 0 24 24\"\n",
              "       width=\"24px\">\n",
              "    <path d=\"M0 0h24v24H0V0z\" fill=\"none\"/>\n",
              "    <path d=\"M18.56 5.44l.94 2.06.94-2.06 2.06-.94-2.06-.94-.94-2.06-.94 2.06-2.06.94zm-11 1L8.5 8.5l.94-2.06 2.06-.94-2.06-.94L8.5 2.5l-.94 2.06-2.06.94zm10 10l.94 2.06.94-2.06 2.06-.94-2.06-.94-.94-2.06-.94 2.06-2.06.94z\"/><path d=\"M17.41 7.96l-1.37-1.37c-.4-.4-.92-.59-1.43-.59-.52 0-1.04.2-1.43.59L10.3 9.45l-7.72 7.72c-.78.78-.78 2.05 0 2.83L4 21.41c.39.39.9.59 1.41.59.51 0 1.02-.2 1.41-.59l7.78-7.78 2.81-2.81c.8-.78.8-2.07 0-2.86zM5.41 20L4 18.59l7.72-7.72 1.47 1.35L5.41 20z\"/>\n",
              "  </svg>\n",
              "      </button>\n",
              "\n",
              "\n",
              "\n",
              "    <div id=\"df-44949ff3-2813-416b-bb38-66f67fe52121\">\n",
              "      <button class=\"colab-df-quickchart\" onclick=\"quickchart('df-44949ff3-2813-416b-bb38-66f67fe52121')\"\n",
              "              title=\"Suggest charts.\"\n",
              "              style=\"display:none;\">\n",
              "\n",
              "<svg xmlns=\"http://www.w3.org/2000/svg\" height=\"24px\"viewBox=\"0 0 24 24\"\n",
              "     width=\"24px\">\n",
              "    <g>\n",
              "        <path d=\"M19 3H5c-1.1 0-2 .9-2 2v14c0 1.1.9 2 2 2h14c1.1 0 2-.9 2-2V5c0-1.1-.9-2-2-2zM9 17H7v-7h2v7zm4 0h-2V7h2v10zm4 0h-2v-4h2v4z\"/>\n",
              "    </g>\n",
              "</svg>\n",
              "      </button>\n",
              "    </div>\n",
              "\n",
              "<style>\n",
              "  .colab-df-quickchart {\n",
              "    background-color: #E8F0FE;\n",
              "    border: none;\n",
              "    border-radius: 50%;\n",
              "    cursor: pointer;\n",
              "    display: none;\n",
              "    fill: #1967D2;\n",
              "    height: 32px;\n",
              "    padding: 0 0 0 0;\n",
              "    width: 32px;\n",
              "  }\n",
              "\n",
              "  .colab-df-quickchart:hover {\n",
              "    background-color: #E2EBFA;\n",
              "    box-shadow: 0px 1px 2px rgba(60, 64, 67, 0.3), 0px 1px 3px 1px rgba(60, 64, 67, 0.15);\n",
              "    fill: #174EA6;\n",
              "  }\n",
              "\n",
              "  [theme=dark] .colab-df-quickchart {\n",
              "    background-color: #3B4455;\n",
              "    fill: #D2E3FC;\n",
              "  }\n",
              "\n",
              "  [theme=dark] .colab-df-quickchart:hover {\n",
              "    background-color: #434B5C;\n",
              "    box-shadow: 0px 1px 3px 1px rgba(0, 0, 0, 0.15);\n",
              "    filter: drop-shadow(0px 1px 2px rgba(0, 0, 0, 0.3));\n",
              "    fill: #FFFFFF;\n",
              "  }\n",
              "</style>\n",
              "\n",
              "    <script>\n",
              "      async function quickchart(key) {\n",
              "        const containerElement = document.querySelector('#' + key);\n",
              "        const charts = await google.colab.kernel.invokeFunction(\n",
              "            'suggestCharts', [key], {});\n",
              "      }\n",
              "    </script>\n",
              "\n",
              "      <script>\n",
              "\n",
              "function displayQuickchartButton(domScope) {\n",
              "  let quickchartButtonEl =\n",
              "    domScope.querySelector('#df-44949ff3-2813-416b-bb38-66f67fe52121 button.colab-df-quickchart');\n",
              "  quickchartButtonEl.style.display =\n",
              "    google.colab.kernel.accessAllowed ? 'block' : 'none';\n",
              "}\n",
              "\n",
              "        displayQuickchartButton(document);\n",
              "      </script>\n",
              "      <style>\n",
              "    .colab-df-container {\n",
              "      display:flex;\n",
              "      flex-wrap:wrap;\n",
              "      gap: 12px;\n",
              "    }\n",
              "\n",
              "    .colab-df-convert {\n",
              "      background-color: #E8F0FE;\n",
              "      border: none;\n",
              "      border-radius: 50%;\n",
              "      cursor: pointer;\n",
              "      display: none;\n",
              "      fill: #1967D2;\n",
              "      height: 32px;\n",
              "      padding: 0 0 0 0;\n",
              "      width: 32px;\n",
              "    }\n",
              "\n",
              "    .colab-df-convert:hover {\n",
              "      background-color: #E2EBFA;\n",
              "      box-shadow: 0px 1px 2px rgba(60, 64, 67, 0.3), 0px 1px 3px 1px rgba(60, 64, 67, 0.15);\n",
              "      fill: #174EA6;\n",
              "    }\n",
              "\n",
              "    [theme=dark] .colab-df-convert {\n",
              "      background-color: #3B4455;\n",
              "      fill: #D2E3FC;\n",
              "    }\n",
              "\n",
              "    [theme=dark] .colab-df-convert:hover {\n",
              "      background-color: #434B5C;\n",
              "      box-shadow: 0px 1px 3px 1px rgba(0, 0, 0, 0.15);\n",
              "      filter: drop-shadow(0px 1px 2px rgba(0, 0, 0, 0.3));\n",
              "      fill: #FFFFFF;\n",
              "    }\n",
              "  </style>\n",
              "\n",
              "      <script>\n",
              "        const buttonEl =\n",
              "          document.querySelector('#df-0b80a13c-be96-4ea3-a133-7d8c250a9e41 button.colab-df-convert');\n",
              "        buttonEl.style.display =\n",
              "          google.colab.kernel.accessAllowed ? 'block' : 'none';\n",
              "\n",
              "        async function convertToInteractive(key) {\n",
              "          const element = document.querySelector('#df-0b80a13c-be96-4ea3-a133-7d8c250a9e41');\n",
              "          const dataTable =\n",
              "            await google.colab.kernel.invokeFunction('convertToInteractive',\n",
              "                                                     [key], {});\n",
              "          if (!dataTable) return;\n",
              "\n",
              "          const docLinkHtml = 'Like what you see? Visit the ' +\n",
              "            '<a target=\"_blank\" href=https://colab.research.google.com/notebooks/data_table.ipynb>data table notebook</a>'\n",
              "            + ' to learn more about interactive tables.';\n",
              "          element.innerHTML = '';\n",
              "          dataTable['output_type'] = 'display_data';\n",
              "          await google.colab.output.renderOutput(dataTable, element);\n",
              "          const docLink = document.createElement('div');\n",
              "          docLink.innerHTML = docLinkHtml;\n",
              "          element.appendChild(docLink);\n",
              "        }\n",
              "      </script>\n",
              "    </div>\n",
              "  </div>\n"
            ]
          },
          "metadata": {},
          "execution_count": 14
        }
      ]
    },
    {
      "cell_type": "code",
      "source": [
        "for column in categorical_columns:\n",
        "    category_counts = data[column].value_counts(normalize=True)  # Calcular las frecuencias relativas\n",
        "    plt.figure(figsize=(10, 6))\n",
        "    plt.bar(category_counts.index, category_counts.values)\n",
        "    plt.xlabel(column)\n",
        "    plt.ylabel('Frecuencia Relativa')\n",
        "    plt.title(f\"Gráfico de barras - {column}\")\n",
        "    plt.xticks(rotation=30)\n",
        "\n",
        "    # Mostrar las frecuencias relativas en las etiquetas de las barras\n",
        "    for i, v in enumerate(category_counts.values):\n",
        "        plt.text(i, v, f'{v:.2%}', ha='center', va='bottom')\n",
        "\n",
        "    plt.show()"
      ],
      "metadata": {
        "id": "FW-CLYkStCgl"
      },
      "execution_count": null,
      "outputs": []
    },
    {
      "cell_type": "code",
      "source": [
        "def plot_categorial(column):\n",
        "    fig = plt.figure(figsize=(10,10))\n",
        "    sns.countplot(data=data, x=column,hue='y')\n",
        "    plt.xticks(rotation='vertical')\n",
        "    plt.show()\n",
        "\n",
        "column_cat = data.select_dtypes(include='object').columns\n",
        "\n",
        "for _ in column_cat:\n",
        "    plot_categorial(_)"
      ],
      "metadata": {
        "id": "y5i9IvO1w4pc"
      },
      "execution_count": null,
      "outputs": []
    },
    {
      "cell_type": "markdown",
      "source": [
        "**Análisis de la relación entre variables categóricas y una variable objetivo**\n",
        "\n",
        " Tabla de contingencia."
      ],
      "metadata": {
        "id": "gMN1qJzJd_zX"
      }
    },
    {
      "cell_type": "code",
      "source": [
        "#Exploración de variables categóricas\n",
        "# Con este análisis detectamos las relaciones que puede tener c/u de las variables vs la variable objetivo.\n",
        "for column in categorical_columns:\n",
        "  print(\"\\n\")\n",
        "  print(data.groupby(column).agg(count=('y', 'count'), hi=('y', 'mean')).sort_values(by=\"hi\", ascending=False))\n"
      ],
      "metadata": {
        "colab": {
          "base_uri": "https://localhost:8080/"
        },
        "id": "7Ii1qdsNFyTF",
        "outputId": "72659dc3-6c61-4c79-8611-f5f971235935"
      },
      "execution_count": 17,
      "outputs": [
        {
          "output_type": "stream",
          "name": "stdout",
          "text": [
            "\n",
            "\n",
            "               count        hi\n",
            "job                           \n",
            "student          938  0.286780\n",
            "retired         2264  0.227915\n",
            "unemployed      1303  0.155027\n",
            "management      9458  0.137556\n",
            "admin.          5171  0.122027\n",
            "self-employed   1579  0.118429\n",
            "unknown          288  0.118056\n",
            "technician      7597  0.110570\n",
            "services        4154  0.088830\n",
            "housemaid       1240  0.087903\n",
            "entrepreneur    1487  0.082717\n",
            "blue-collar     9732  0.072750\n",
            "\n",
            "\n",
            "          count        hi\n",
            "marital                  \n",
            "single    12790  0.149492\n",
            "divorced   5207  0.119455\n",
            "married   27214  0.101235\n",
            "\n",
            "\n",
            "           count        hi\n",
            "education                 \n",
            "tertiary   13301  0.150064\n",
            "unknown     1857  0.135703\n",
            "secondary  23202  0.105594\n",
            "primary     6851  0.086265\n",
            "\n",
            "\n",
            "         count        hi\n",
            "default                 \n",
            "no       44396  0.117961\n",
            "yes        815  0.063804\n",
            "\n",
            "\n",
            "         count        hi\n",
            "housing                 \n",
            "no       20081  0.167024\n",
            "yes      25130  0.077000\n",
            "\n",
            "\n",
            "      count        hi\n",
            "loan                 \n",
            "no    37967  0.126557\n",
            "yes    7244  0.066814\n",
            "\n",
            "\n",
            "           count        hi\n",
            "contact                   \n",
            "cellular   29285  0.149189\n",
            "telephone   2906  0.134205\n",
            "unknown    13020  0.040707\n",
            "\n",
            "\n",
            "       count        hi\n",
            "month                 \n",
            "mar      477  0.519916\n",
            "dec      214  0.467290\n",
            "sep      579  0.464594\n",
            "oct      738  0.437669\n",
            "apr     2932  0.196794\n",
            "feb     2649  0.166478\n",
            "aug     6247  0.110133\n",
            "jun     5341  0.102228\n",
            "nov     3970  0.101511\n",
            "jan     1403  0.101212\n",
            "jul     6895  0.090935\n",
            "may    13766  0.067195\n",
            "\n",
            "\n",
            "          count        hi\n",
            "poutcome                 \n",
            "success    1511  0.647253\n",
            "other      1840  0.166848\n",
            "failure    4901  0.126097\n",
            "unknown   36959  0.091615\n"
          ]
        }
      ]
    },
    {
      "cell_type": "markdown",
      "source": [
        "**Se observó:**\n",
        "Analizando la relación de las variables categóricas con la variable objetivo (y), tenemos:\n",
        "\n",
        "1. En **Job:** La categoría \"*student*\" tiene la mayor probabilidad (28.7%) de suscribir un depósito a plazo fijo.\n",
        "2. En **marital:** La categoría \"*single*\" tiene la mayor probabilidad (14.9%) de suscribir un depósito a plazo fijo.     \n",
        "3. En **education:** La categoría \"*tertiary*\" tiene la mayor probabilidad (15%) de suscribir un depósito a plazo fijo.\n",
        "4. En **Housing**    La categoría \"no\" tiene la mayor probabilidad (0.167024) de suscribir un depósito a plazo fijo      \n",
        "5. En **loan** , La categoría \"no\" tiene la mayor probabilidad (0.126557) de suscribir un depósito a plazo fijo.\n",
        "6. En **default** , La categoría \"no\" tiene la mayor probabilidad (0.117961) de suscribir un depósito a plazo fijo.\n",
        "\n"
      ],
      "metadata": {
        "id": "jUFlgGVi8r3M"
      }
    },
    {
      "cell_type": "markdown",
      "source": [
        "# 1.2 Análisis de la variable numérica"
      ],
      "metadata": {
        "id": "nu4LW12lrt9J"
      }
    },
    {
      "cell_type": "code",
      "source": [
        "# Identificar las variables numéricas utilizando el atributo dtypes\n",
        "variables_numericas = data.select_dtypes(include=['number']).columns.tolist()\n",
        "variables_numericas"
      ],
      "metadata": {
        "colab": {
          "base_uri": "https://localhost:8080/"
        },
        "id": "DtJkgaDNgR2p",
        "outputId": "fb5dc52a-d5b2-45d6-c6d4-6b071254706b"
      },
      "execution_count": 23,
      "outputs": [
        {
          "output_type": "execute_result",
          "data": {
            "text/plain": [
              "['age', 'balance', 'day', 'duration', 'campaign', 'pdays', 'previous', 'y']"
            ]
          },
          "metadata": {},
          "execution_count": 23
        }
      ]
    },
    {
      "cell_type": "code",
      "source": [
        "#variables_numericas.remove(target)\n",
        "variables_numericas.remove('y')"
      ],
      "metadata": {
        "id": "r7C1HhVBXw5S"
      },
      "execution_count": 24,
      "outputs": []
    },
    {
      "cell_type": "code",
      "source": [
        "variables_numericas"
      ],
      "metadata": {
        "colab": {
          "base_uri": "https://localhost:8080/"
        },
        "id": "PhDVMFnSXzMs",
        "outputId": "25161278-80c0-4844-d5b9-ad33a8fad048"
      },
      "execution_count": null,
      "outputs": [
        {
          "output_type": "execute_result",
          "data": {
            "text/plain": [
              "['age', 'balance', 'day', 'duration', 'campaign', 'pdays', 'previous']"
            ]
          },
          "metadata": {},
          "execution_count": 85
        }
      ]
    },
    {
      "cell_type": "code",
      "source": [
        "numeric_columns = data.select_dtypes(include=['int64', 'float'])\n",
        "numeric_columns.describe().transpose()"
      ],
      "metadata": {
        "colab": {
          "base_uri": "https://localhost:8080/",
          "height": 301
        },
        "id": "YUonzUi2rlZa",
        "outputId": "64486a6a-f117-4e2c-ed75-0aef04104c52"
      },
      "execution_count": 26,
      "outputs": [
        {
          "output_type": "execute_result",
          "data": {
            "text/plain": [
              "            count         mean          std     min    25%    50%     75%  \\\n",
              "age       45211.0    40.936210    10.618762    18.0   33.0   39.0    48.0   \n",
              "balance   45211.0  1362.272058  3044.765829 -8019.0   72.0  448.0  1428.0   \n",
              "day       45211.0    15.806419     8.322476     1.0    8.0   16.0    21.0   \n",
              "duration  45211.0   258.163080   257.527812     0.0  103.0  180.0   319.0   \n",
              "campaign  45211.0     2.763841     3.098021     1.0    1.0    2.0     3.0   \n",
              "pdays     45211.0    40.197828   100.128746    -1.0   -1.0   -1.0    -1.0   \n",
              "previous  45211.0     0.580323     2.303441     0.0    0.0    0.0     0.0   \n",
              "y         45211.0     0.116985     0.321406     0.0    0.0    0.0     0.0   \n",
              "\n",
              "               max  \n",
              "age           95.0  \n",
              "balance   102127.0  \n",
              "day           31.0  \n",
              "duration    4918.0  \n",
              "campaign      63.0  \n",
              "pdays        871.0  \n",
              "previous     275.0  \n",
              "y              1.0  "
            ],
            "text/html": [
              "\n",
              "\n",
              "  <div id=\"df-3ae25fcd-3cb5-47fb-a427-4855c8424e61\">\n",
              "    <div class=\"colab-df-container\">\n",
              "      <div>\n",
              "<style scoped>\n",
              "    .dataframe tbody tr th:only-of-type {\n",
              "        vertical-align: middle;\n",
              "    }\n",
              "\n",
              "    .dataframe tbody tr th {\n",
              "        vertical-align: top;\n",
              "    }\n",
              "\n",
              "    .dataframe thead th {\n",
              "        text-align: right;\n",
              "    }\n",
              "</style>\n",
              "<table border=\"1\" class=\"dataframe\">\n",
              "  <thead>\n",
              "    <tr style=\"text-align: right;\">\n",
              "      <th></th>\n",
              "      <th>count</th>\n",
              "      <th>mean</th>\n",
              "      <th>std</th>\n",
              "      <th>min</th>\n",
              "      <th>25%</th>\n",
              "      <th>50%</th>\n",
              "      <th>75%</th>\n",
              "      <th>max</th>\n",
              "    </tr>\n",
              "  </thead>\n",
              "  <tbody>\n",
              "    <tr>\n",
              "      <th>age</th>\n",
              "      <td>45211.0</td>\n",
              "      <td>40.936210</td>\n",
              "      <td>10.618762</td>\n",
              "      <td>18.0</td>\n",
              "      <td>33.0</td>\n",
              "      <td>39.0</td>\n",
              "      <td>48.0</td>\n",
              "      <td>95.0</td>\n",
              "    </tr>\n",
              "    <tr>\n",
              "      <th>balance</th>\n",
              "      <td>45211.0</td>\n",
              "      <td>1362.272058</td>\n",
              "      <td>3044.765829</td>\n",
              "      <td>-8019.0</td>\n",
              "      <td>72.0</td>\n",
              "      <td>448.0</td>\n",
              "      <td>1428.0</td>\n",
              "      <td>102127.0</td>\n",
              "    </tr>\n",
              "    <tr>\n",
              "      <th>day</th>\n",
              "      <td>45211.0</td>\n",
              "      <td>15.806419</td>\n",
              "      <td>8.322476</td>\n",
              "      <td>1.0</td>\n",
              "      <td>8.0</td>\n",
              "      <td>16.0</td>\n",
              "      <td>21.0</td>\n",
              "      <td>31.0</td>\n",
              "    </tr>\n",
              "    <tr>\n",
              "      <th>duration</th>\n",
              "      <td>45211.0</td>\n",
              "      <td>258.163080</td>\n",
              "      <td>257.527812</td>\n",
              "      <td>0.0</td>\n",
              "      <td>103.0</td>\n",
              "      <td>180.0</td>\n",
              "      <td>319.0</td>\n",
              "      <td>4918.0</td>\n",
              "    </tr>\n",
              "    <tr>\n",
              "      <th>campaign</th>\n",
              "      <td>45211.0</td>\n",
              "      <td>2.763841</td>\n",
              "      <td>3.098021</td>\n",
              "      <td>1.0</td>\n",
              "      <td>1.0</td>\n",
              "      <td>2.0</td>\n",
              "      <td>3.0</td>\n",
              "      <td>63.0</td>\n",
              "    </tr>\n",
              "    <tr>\n",
              "      <th>pdays</th>\n",
              "      <td>45211.0</td>\n",
              "      <td>40.197828</td>\n",
              "      <td>100.128746</td>\n",
              "      <td>-1.0</td>\n",
              "      <td>-1.0</td>\n",
              "      <td>-1.0</td>\n",
              "      <td>-1.0</td>\n",
              "      <td>871.0</td>\n",
              "    </tr>\n",
              "    <tr>\n",
              "      <th>previous</th>\n",
              "      <td>45211.0</td>\n",
              "      <td>0.580323</td>\n",
              "      <td>2.303441</td>\n",
              "      <td>0.0</td>\n",
              "      <td>0.0</td>\n",
              "      <td>0.0</td>\n",
              "      <td>0.0</td>\n",
              "      <td>275.0</td>\n",
              "    </tr>\n",
              "    <tr>\n",
              "      <th>y</th>\n",
              "      <td>45211.0</td>\n",
              "      <td>0.116985</td>\n",
              "      <td>0.321406</td>\n",
              "      <td>0.0</td>\n",
              "      <td>0.0</td>\n",
              "      <td>0.0</td>\n",
              "      <td>0.0</td>\n",
              "      <td>1.0</td>\n",
              "    </tr>\n",
              "  </tbody>\n",
              "</table>\n",
              "</div>\n",
              "      <button class=\"colab-df-convert\" onclick=\"convertToInteractive('df-3ae25fcd-3cb5-47fb-a427-4855c8424e61')\"\n",
              "              title=\"Convert this dataframe to an interactive table.\"\n",
              "              style=\"display:none;\">\n",
              "\n",
              "  <svg xmlns=\"http://www.w3.org/2000/svg\" height=\"24px\"viewBox=\"0 0 24 24\"\n",
              "       width=\"24px\">\n",
              "    <path d=\"M0 0h24v24H0V0z\" fill=\"none\"/>\n",
              "    <path d=\"M18.56 5.44l.94 2.06.94-2.06 2.06-.94-2.06-.94-.94-2.06-.94 2.06-2.06.94zm-11 1L8.5 8.5l.94-2.06 2.06-.94-2.06-.94L8.5 2.5l-.94 2.06-2.06.94zm10 10l.94 2.06.94-2.06 2.06-.94-2.06-.94-.94-2.06-.94 2.06-2.06.94z\"/><path d=\"M17.41 7.96l-1.37-1.37c-.4-.4-.92-.59-1.43-.59-.52 0-1.04.2-1.43.59L10.3 9.45l-7.72 7.72c-.78.78-.78 2.05 0 2.83L4 21.41c.39.39.9.59 1.41.59.51 0 1.02-.2 1.41-.59l7.78-7.78 2.81-2.81c.8-.78.8-2.07 0-2.86zM5.41 20L4 18.59l7.72-7.72 1.47 1.35L5.41 20z\"/>\n",
              "  </svg>\n",
              "      </button>\n",
              "\n",
              "\n",
              "\n",
              "    <div id=\"df-c4706387-33e8-4202-84ec-3be2a7ac4044\">\n",
              "      <button class=\"colab-df-quickchart\" onclick=\"quickchart('df-c4706387-33e8-4202-84ec-3be2a7ac4044')\"\n",
              "              title=\"Suggest charts.\"\n",
              "              style=\"display:none;\">\n",
              "\n",
              "<svg xmlns=\"http://www.w3.org/2000/svg\" height=\"24px\"viewBox=\"0 0 24 24\"\n",
              "     width=\"24px\">\n",
              "    <g>\n",
              "        <path d=\"M19 3H5c-1.1 0-2 .9-2 2v14c0 1.1.9 2 2 2h14c1.1 0 2-.9 2-2V5c0-1.1-.9-2-2-2zM9 17H7v-7h2v7zm4 0h-2V7h2v10zm4 0h-2v-4h2v4z\"/>\n",
              "    </g>\n",
              "</svg>\n",
              "      </button>\n",
              "    </div>\n",
              "\n",
              "<style>\n",
              "  .colab-df-quickchart {\n",
              "    background-color: #E8F0FE;\n",
              "    border: none;\n",
              "    border-radius: 50%;\n",
              "    cursor: pointer;\n",
              "    display: none;\n",
              "    fill: #1967D2;\n",
              "    height: 32px;\n",
              "    padding: 0 0 0 0;\n",
              "    width: 32px;\n",
              "  }\n",
              "\n",
              "  .colab-df-quickchart:hover {\n",
              "    background-color: #E2EBFA;\n",
              "    box-shadow: 0px 1px 2px rgba(60, 64, 67, 0.3), 0px 1px 3px 1px rgba(60, 64, 67, 0.15);\n",
              "    fill: #174EA6;\n",
              "  }\n",
              "\n",
              "  [theme=dark] .colab-df-quickchart {\n",
              "    background-color: #3B4455;\n",
              "    fill: #D2E3FC;\n",
              "  }\n",
              "\n",
              "  [theme=dark] .colab-df-quickchart:hover {\n",
              "    background-color: #434B5C;\n",
              "    box-shadow: 0px 1px 3px 1px rgba(0, 0, 0, 0.15);\n",
              "    filter: drop-shadow(0px 1px 2px rgba(0, 0, 0, 0.3));\n",
              "    fill: #FFFFFF;\n",
              "  }\n",
              "</style>\n",
              "\n",
              "    <script>\n",
              "      async function quickchart(key) {\n",
              "        const containerElement = document.querySelector('#' + key);\n",
              "        const charts = await google.colab.kernel.invokeFunction(\n",
              "            'suggestCharts', [key], {});\n",
              "      }\n",
              "    </script>\n",
              "\n",
              "      <script>\n",
              "\n",
              "function displayQuickchartButton(domScope) {\n",
              "  let quickchartButtonEl =\n",
              "    domScope.querySelector('#df-c4706387-33e8-4202-84ec-3be2a7ac4044 button.colab-df-quickchart');\n",
              "  quickchartButtonEl.style.display =\n",
              "    google.colab.kernel.accessAllowed ? 'block' : 'none';\n",
              "}\n",
              "\n",
              "        displayQuickchartButton(document);\n",
              "      </script>\n",
              "      <style>\n",
              "    .colab-df-container {\n",
              "      display:flex;\n",
              "      flex-wrap:wrap;\n",
              "      gap: 12px;\n",
              "    }\n",
              "\n",
              "    .colab-df-convert {\n",
              "      background-color: #E8F0FE;\n",
              "      border: none;\n",
              "      border-radius: 50%;\n",
              "      cursor: pointer;\n",
              "      display: none;\n",
              "      fill: #1967D2;\n",
              "      height: 32px;\n",
              "      padding: 0 0 0 0;\n",
              "      width: 32px;\n",
              "    }\n",
              "\n",
              "    .colab-df-convert:hover {\n",
              "      background-color: #E2EBFA;\n",
              "      box-shadow: 0px 1px 2px rgba(60, 64, 67, 0.3), 0px 1px 3px 1px rgba(60, 64, 67, 0.15);\n",
              "      fill: #174EA6;\n",
              "    }\n",
              "\n",
              "    [theme=dark] .colab-df-convert {\n",
              "      background-color: #3B4455;\n",
              "      fill: #D2E3FC;\n",
              "    }\n",
              "\n",
              "    [theme=dark] .colab-df-convert:hover {\n",
              "      background-color: #434B5C;\n",
              "      box-shadow: 0px 1px 3px 1px rgba(0, 0, 0, 0.15);\n",
              "      filter: drop-shadow(0px 1px 2px rgba(0, 0, 0, 0.3));\n",
              "      fill: #FFFFFF;\n",
              "    }\n",
              "  </style>\n",
              "\n",
              "      <script>\n",
              "        const buttonEl =\n",
              "          document.querySelector('#df-3ae25fcd-3cb5-47fb-a427-4855c8424e61 button.colab-df-convert');\n",
              "        buttonEl.style.display =\n",
              "          google.colab.kernel.accessAllowed ? 'block' : 'none';\n",
              "\n",
              "        async function convertToInteractive(key) {\n",
              "          const element = document.querySelector('#df-3ae25fcd-3cb5-47fb-a427-4855c8424e61');\n",
              "          const dataTable =\n",
              "            await google.colab.kernel.invokeFunction('convertToInteractive',\n",
              "                                                     [key], {});\n",
              "          if (!dataTable) return;\n",
              "\n",
              "          const docLinkHtml = 'Like what you see? Visit the ' +\n",
              "            '<a target=\"_blank\" href=https://colab.research.google.com/notebooks/data_table.ipynb>data table notebook</a>'\n",
              "            + ' to learn more about interactive tables.';\n",
              "          element.innerHTML = '';\n",
              "          dataTable['output_type'] = 'display_data';\n",
              "          await google.colab.output.renderOutput(dataTable, element);\n",
              "          const docLink = document.createElement('div');\n",
              "          docLink.innerHTML = docLinkHtml;\n",
              "          element.appendChild(docLink);\n",
              "        }\n",
              "      </script>\n",
              "    </div>\n",
              "  </div>\n"
            ]
          },
          "metadata": {},
          "execution_count": 26
        }
      ]
    },
    {
      "cell_type": "code",
      "source": [
        "# Generar gráficas individuales boxplot pues las variables numéricas.\n",
        "# están en rangos diferentes\n",
        "cols_num = ['age', 'duration', 'campaign', 'pdays', 'previous']\n",
        "\n",
        "fig, ax = plt.subplots(nrows=5, ncols=1, figsize=(8,30))\n",
        "fig.subplots_adjust(hspace=0.5)\n",
        "\n",
        "for i, col in enumerate(cols_num):\n",
        "    sns.boxplot(x=col, data=data, ax=ax[i])\n",
        "    ax[i].set_title(col)"
      ],
      "metadata": {
        "id": "ASrOp9xTyYgx",
        "colab": {
          "base_uri": "https://localhost:8080/",
          "height": 1000
        },
        "outputId": "ba73734f-c7ed-4e2a-9258-39e429d4840a"
      },
      "execution_count": 27,
      "outputs": [
        {
          "output_type": "display_data",
          "data": {
            "text/plain": [
              "<Figure size 800x3000 with 5 Axes>"
            ],
            "image/png": "[encoded data removed]"
          },
          "metadata": {}
        }
      ]
    },
    {
      "cell_type": "markdown",
      "source": [
        "# 2. Selección de muestras"
      ],
      "metadata": {
        "id": "lWhLIgpazICr"
      }
    },
    {
      "cell_type": "code",
      "source": [
        "# Muestreo\n",
        "from sklearn.model_selection import train_test_split\n",
        "\n",
        "train, test = train_test_split(data,\n",
        "                               stratify = data['y'],\n",
        "                               train_size=0.7,\n",
        "                               random_state=234)"
      ],
      "metadata": {
        "id": "JOwKVsNqwgCN"
      },
      "execution_count": 74,
      "outputs": []
    },
    {
      "cell_type": "markdown",
      "source": [
        "**stratify** nos permite mantener la misma proporción del balance de datos originales de la muestra"
      ],
      "metadata": {
        "id": "rjrMtUW53V22"
      }
    },
    {
      "cell_type": "code",
      "source": [
        "print(f\"Tamaño del total de datos: {len(data)}\")\n",
        "print(f\"Tamaño de train: {len(train)}\")\n",
        "print(f\"Tamaño de test: {len(test)}\")"
      ],
      "metadata": {
        "colab": {
          "base_uri": "https://localhost:8080/"
        },
        "id": "C2JDzS-yzQPm",
        "outputId": "2b5d7b8e-9b08-4e64-a0fc-12b0c60b5a31"
      },
      "execution_count": 75,
      "outputs": [
        {
          "output_type": "stream",
          "name": "stdout",
          "text": [
            "Tamaño del total de datos: 45211\n",
            "Tamaño de train: 31647\n",
            "Tamaño de test: 13564\n"
          ]
        }
      ]
    },
    {
      "cell_type": "markdown",
      "source": [
        "# 3. Pre selección de variables"
      ],
      "metadata": {
        "id": "PRN2SF2p4dO-"
      }
    },
    {
      "cell_type": "code",
      "source": [
        "# Dando formato a nuestra tabla resumen\n",
        "pdResume = train.describe().transpose()\n",
        "# Ahora el nuevo index será el campo \"feature\"\n",
        "pdResume[['missing_rate']] = 1 - pdResume[['count']]/train.shape[0]\n",
        "pdResume.sort_values(by = 'missing_rate', ascending = False, inplace = True)\n",
        "\n",
        "pdResume.reset_index(inplace = True)\n",
        "pdResume.rename(columns = {'index' : 'feature',\n",
        "                           '25%' : 'Q1',\n",
        "                           '50%' : 'median',\n",
        "                           '75%' : 'Q3'}, inplace = True)\n",
        "\n",
        "pdResume"
      ],
      "metadata": {
        "colab": {
          "base_uri": "https://localhost:8080/",
          "height": 301
        },
        "id": "nxfvcbjd4hNX",
        "outputId": "e37a9b64-548f-4ed0-e1d7-7dd19286cc52"
      },
      "execution_count": 76,
      "outputs": [
        {
          "output_type": "execute_result",
          "data": {
            "text/plain": [
              "    feature    count         mean          std     min     Q1  median      Q3  \\\n",
              "0       age  31647.0    40.913831    10.586358    18.0   33.0    39.0    48.0   \n",
              "1   balance  31647.0  1374.377034  3087.626646 -8019.0   71.0   451.0  1438.0   \n",
              "2       day  31647.0    15.808260     8.335407     1.0    8.0    16.0    21.0   \n",
              "3  duration  31647.0   258.358043   258.128869     0.0  103.0   180.0   319.0   \n",
              "4  campaign  31647.0     2.762442     3.066837     1.0    1.0     2.0     3.0   \n",
              "5     pdays  31647.0    39.619111    99.384755    -1.0   -1.0    -1.0    -1.0   \n",
              "6  previous  31647.0     0.566499     1.870244     0.0    0.0     0.0     0.0   \n",
              "7         y  31647.0     0.116978     0.321399     0.0    0.0     0.0     0.0   \n",
              "\n",
              "        max  missing_rate  \n",
              "0      95.0           0.0  \n",
              "1  102127.0           0.0  \n",
              "2      31.0           0.0  \n",
              "3    4918.0           0.0  \n",
              "4      51.0           0.0  \n",
              "5     871.0           0.0  \n",
              "6      51.0           0.0  \n",
              "7       1.0           0.0  "
            ],
            "text/html": [
              "\n",
              "\n",
              "  <div id=\"df-059822b9-510b-4d39-903c-af226d0a32f0\">\n",
              "    <div class=\"colab-df-container\">\n",
              "      <div>\n",
              "<style scoped>\n",
              "    .dataframe tbody tr th:only-of-type {\n",
              "        vertical-align: middle;\n",
              "    }\n",
              "\n",
              "    .dataframe tbody tr th {\n",
              "        vertical-align: top;\n",
              "    }\n",
              "\n",
              "    .dataframe thead th {\n",
              "        text-align: right;\n",
              "    }\n",
              "</style>\n",
              "<table border=\"1\" class=\"dataframe\">\n",
              "  <thead>\n",
              "    <tr style=\"text-align: right;\">\n",
              "      <th></th>\n",
              "      <th>feature</th>\n",
              "      <th>count</th>\n",
              "      <th>mean</th>\n",
              "      <th>std</th>\n",
              "      <th>min</th>\n",
              "      <th>Q1</th>\n",
              "      <th>median</th>\n",
              "      <th>Q3</th>\n",
              "      <th>max</th>\n",
              "      <th>missing_rate</th>\n",
              "    </tr>\n",
              "  </thead>\n",
              "  <tbody>\n",
              "    <tr>\n",
              "      <th>0</th>\n",
              "      <td>age</td>\n",
              "      <td>31647.0</td>\n",
              "      <td>40.913831</td>\n",
              "      <td>10.586358</td>\n",
              "      <td>18.0</td>\n",
              "      <td>33.0</td>\n",
              "      <td>39.0</td>\n",
              "      <td>48.0</td>\n",
              "      <td>95.0</td>\n",
              "      <td>0.0</td>\n",
              "    </tr>\n",
              "    <tr>\n",
              "      <th>1</th>\n",
              "      <td>balance</td>\n",
              "      <td>31647.0</td>\n",
              "      <td>1374.377034</td>\n",
              "      <td>3087.626646</td>\n",
              "      <td>-8019.0</td>\n",
              "      <td>71.0</td>\n",
              "      <td>451.0</td>\n",
              "      <td>1438.0</td>\n",
              "      <td>102127.0</td>\n",
              "      <td>0.0</td>\n",
              "    </tr>\n",
              "    <tr>\n",
              "      <th>2</th>\n",
              "      <td>day</td>\n",
              "      <td>31647.0</td>\n",
              "      <td>15.808260</td>\n",
              "      <td>8.335407</td>\n",
              "      <td>1.0</td>\n",
              "      <td>8.0</td>\n",
              "      <td>16.0</td>\n",
              "      <td>21.0</td>\n",
              "      <td>31.0</td>\n",
              "      <td>0.0</td>\n",
              "    </tr>\n",
              "    <tr>\n",
              "      <th>3</th>\n",
              "      <td>duration</td>\n",
              "      <td>31647.0</td>\n",
              "      <td>258.358043</td>\n",
              "      <td>258.128869</td>\n",
              "      <td>0.0</td>\n",
              "      <td>103.0</td>\n",
              "      <td>180.0</td>\n",
              "      <td>319.0</td>\n",
              "      <td>4918.0</td>\n",
              "      <td>0.0</td>\n",
              "    </tr>\n",
              "    <tr>\n",
              "      <th>4</th>\n",
              "      <td>campaign</td>\n",
              "      <td>31647.0</td>\n",
              "      <td>2.762442</td>\n",
              "      <td>3.066837</td>\n",
              "      <td>1.0</td>\n",
              "      <td>1.0</td>\n",
              "      <td>2.0</td>\n",
              "      <td>3.0</td>\n",
              "      <td>51.0</td>\n",
              "      <td>0.0</td>\n",
              "    </tr>\n",
              "    <tr>\n",
              "      <th>5</th>\n",
              "      <td>pdays</td>\n",
              "      <td>31647.0</td>\n",
              "      <td>39.619111</td>\n",
              "      <td>99.384755</td>\n",
              "      <td>-1.0</td>\n",
              "      <td>-1.0</td>\n",
              "      <td>-1.0</td>\n",
              "      <td>-1.0</td>\n",
              "      <td>871.0</td>\n",
              "      <td>0.0</td>\n",
              "    </tr>\n",
              "    <tr>\n",
              "      <th>6</th>\n",
              "      <td>previous</td>\n",
              "      <td>31647.0</td>\n",
              "      <td>0.566499</td>\n",
              "      <td>1.870244</td>\n",
              "      <td>0.0</td>\n",
              "      <td>0.0</td>\n",
              "      <td>0.0</td>\n",
              "      <td>0.0</td>\n",
              "      <td>51.0</td>\n",
              "      <td>0.0</td>\n",
              "    </tr>\n",
              "    <tr>\n",
              "      <th>7</th>\n",
              "      <td>y</td>\n",
              "      <td>31647.0</td>\n",
              "      <td>0.116978</td>\n",
              "      <td>0.321399</td>\n",
              "      <td>0.0</td>\n",
              "      <td>0.0</td>\n",
              "      <td>0.0</td>\n",
              "      <td>0.0</td>\n",
              "      <td>1.0</td>\n",
              "      <td>0.0</td>\n",
              "    </tr>\n",
              "  </tbody>\n",
              "</table>\n",
              "</div>\n",
              "      <button class=\"colab-df-convert\" onclick=\"convertToInteractive('df-059822b9-510b-4d39-903c-af226d0a32f0')\"\n",
              "              title=\"Convert this dataframe to an interactive table.\"\n",
              "              style=\"display:none;\">\n",
              "\n",
              "  <svg xmlns=\"http://www.w3.org/2000/svg\" height=\"24px\"viewBox=\"0 0 24 24\"\n",
              "       width=\"24px\">\n",
              "    <path d=\"M0 0h24v24H0V0z\" fill=\"none\"/>\n",
              "    <path d=\"M18.56 5.44l.94 2.06.94-2.06 2.06-.94-2.06-.94-.94-2.06-.94 2.06-2.06.94zm-11 1L8.5 8.5l.94-2.06 2.06-.94-2.06-.94L8.5 2.5l-.94 2.06-2.06.94zm10 10l.94 2.06.94-2.06 2.06-.94-2.06-.94-.94-2.06-.94 2.06-2.06.94z\"/><path d=\"M17.41 7.96l-1.37-1.37c-.4-.4-.92-.59-1.43-.59-.52 0-1.04.2-1.43.59L10.3 9.45l-7.72 7.72c-.78.78-.78 2.05 0 2.83L4 21.41c.39.39.9.59 1.41.59.51 0 1.02-.2 1.41-.59l7.78-7.78 2.81-2.81c.8-.78.8-2.07 0-2.86zM5.41 20L4 18.59l7.72-7.72 1.47 1.35L5.41 20z\"/>\n",
              "  </svg>\n",
              "      </button>\n",
              "\n",
              "\n",
              "\n",
              "    <div id=\"df-4a03e70e-ba32-48f7-9ce2-72784c04b408\">\n",
              "      <button class=\"colab-df-quickchart\" onclick=\"quickchart('df-4a03e70e-ba32-48f7-9ce2-72784c04b408')\"\n",
              "              title=\"Suggest charts.\"\n",
              "              style=\"display:none;\">\n",
              "\n",
              "<svg xmlns=\"http://www.w3.org/2000/svg\" height=\"24px\"viewBox=\"0 0 24 24\"\n",
              "     width=\"24px\">\n",
              "    <g>\n",
              "        <path d=\"M19 3H5c-1.1 0-2 .9-2 2v14c0 1.1.9 2 2 2h14c1.1 0 2-.9 2-2V5c0-1.1-.9-2-2-2zM9 17H7v-7h2v7zm4 0h-2V7h2v10zm4 0h-2v-4h2v4z\"/>\n",
              "    </g>\n",
              "</svg>\n",
              "      </button>\n",
              "    </div>\n",
              "\n",
              "<style>\n",
              "  .colab-df-quickchart {\n",
              "    background-color: #E8F0FE;\n",
              "    border: none;\n",
              "    border-radius: 50%;\n",
              "    cursor: pointer;\n",
              "    display: none;\n",
              "    fill: #1967D2;\n",
              "    height: 32px;\n",
              "    padding: 0 0 0 0;\n",
              "    width: 32px;\n",
              "  }\n",
              "\n",
              "  .colab-df-quickchart:hover {\n",
              "    background-color: #E2EBFA;\n",
              "    box-shadow: 0px 1px 2px rgba(60, 64, 67, 0.3), 0px 1px 3px 1px rgba(60, 64, 67, 0.15);\n",
              "    fill: #174EA6;\n",
              "  }\n",
              "\n",
              "  [theme=dark] .colab-df-quickchart {\n",
              "    background-color: #3B4455;\n",
              "    fill: #D2E3FC;\n",
              "  }\n",
              "\n",
              "  [theme=dark] .colab-df-quickchart:hover {\n",
              "    background-color: #434B5C;\n",
              "    box-shadow: 0px 1px 3px 1px rgba(0, 0, 0, 0.15);\n",
              "    filter: drop-shadow(0px 1px 2px rgba(0, 0, 0, 0.3));\n",
              "    fill: #FFFFFF;\n",
              "  }\n",
              "</style>\n",
              "\n",
              "    <script>\n",
              "      async function quickchart(key) {\n",
              "        const containerElement = document.querySelector('#' + key);\n",
              "        const charts = await google.colab.kernel.invokeFunction(\n",
              "            'suggestCharts', [key], {});\n",
              "      }\n",
              "    </script>\n",
              "\n",
              "      <script>\n",
              "\n",
              "function displayQuickchartButton(domScope) {\n",
              "  let quickchartButtonEl =\n",
              "    domScope.querySelector('#df-4a03e70e-ba32-48f7-9ce2-72784c04b408 button.colab-df-quickchart');\n",
              "  quickchartButtonEl.style.display =\n",
              "    google.colab.kernel.accessAllowed ? 'block' : 'none';\n",
              "}\n",
              "\n",
              "        displayQuickchartButton(document);\n",
              "      </script>\n",
              "      <style>\n",
              "    .colab-df-container {\n",
              "      display:flex;\n",
              "      flex-wrap:wrap;\n",
              "      gap: 12px;\n",
              "    }\n",
              "\n",
              "    .colab-df-convert {\n",
              "      background-color: #E8F0FE;\n",
              "      border: none;\n",
              "      border-radius: 50%;\n",
              "      cursor: pointer;\n",
              "      display: none;\n",
              "      fill: #1967D2;\n",
              "      height: 32px;\n",
              "      padding: 0 0 0 0;\n",
              "      width: 32px;\n",
              "    }\n",
              "\n",
              "    .colab-df-convert:hover {\n",
              "      background-color: #E2EBFA;\n",
              "      box-shadow: 0px 1px 2px rgba(60, 64, 67, 0.3), 0px 1px 3px 1px rgba(60, 64, 67, 0.15);\n",
              "      fill: #174EA6;\n",
              "    }\n",
              "\n",
              "    [theme=dark] .colab-df-convert {\n",
              "      background-color: #3B4455;\n",
              "      fill: #D2E3FC;\n",
              "    }\n",
              "\n",
              "    [theme=dark] .colab-df-convert:hover {\n",
              "      background-color: #434B5C;\n",
              "      box-shadow: 0px 1px 3px 1px rgba(0, 0, 0, 0.15);\n",
              "      filter: drop-shadow(0px 1px 2px rgba(0, 0, 0, 0.3));\n",
              "      fill: #FFFFFF;\n",
              "    }\n",
              "  </style>\n",
              "\n",
              "      <script>\n",
              "        const buttonEl =\n",
              "          document.querySelector('#df-059822b9-510b-4d39-903c-af226d0a32f0 button.colab-df-convert');\n",
              "        buttonEl.style.display =\n",
              "          google.colab.kernel.accessAllowed ? 'block' : 'none';\n",
              "\n",
              "        async function convertToInteractive(key) {\n",
              "          const element = document.querySelector('#df-059822b9-510b-4d39-903c-af226d0a32f0');\n",
              "          const dataTable =\n",
              "            await google.colab.kernel.invokeFunction('convertToInteractive',\n",
              "                                                     [key], {});\n",
              "          if (!dataTable) return;\n",
              "\n",
              "          const docLinkHtml = 'Like what you see? Visit the ' +\n",
              "            '<a target=\"_blank\" href=https://colab.research.google.com/notebooks/data_table.ipynb>data table notebook</a>'\n",
              "            + ' to learn more about interactive tables.';\n",
              "          element.innerHTML = '';\n",
              "          dataTable['output_type'] = 'display_data';\n",
              "          await google.colab.output.renderOutput(dataTable, element);\n",
              "          const docLink = document.createElement('div');\n",
              "          docLink.innerHTML = docLinkHtml;\n",
              "          element.appendChild(docLink);\n",
              "        }\n",
              "      </script>\n",
              "    </div>\n",
              "  </div>\n"
            ]
          },
          "metadata": {},
          "execution_count": 76
        }
      ]
    },
    {
      "cell_type": "code",
      "source": [
        "# Se ejecuta este comando, pero en realidad como la data ya está trabajada o sin na, entonces no se elimina ningún registro\n",
        "data.dropna(inplace=True)\n",
        "data.info()"
      ],
      "metadata": {
        "colab": {
          "base_uri": "https://localhost:8080/"
        },
        "id": "uSNDNgHQ4t8k",
        "outputId": "f6bf6e08-b13c-493d-e6dc-75ca132d1365"
      },
      "execution_count": 77,
      "outputs": [
        {
          "output_type": "stream",
          "name": "stdout",
          "text": [
            "<class 'pandas.core.frame.DataFrame'>\n",
            "Int64Index: 45211 entries, 0 to 45210\n",
            "Data columns (total 17 columns):\n",
            " #   Column     Non-Null Count  Dtype \n",
            "---  ------     --------------  ----- \n",
            " 0   age        45211 non-null  int64 \n",
            " 1   job        45211 non-null  object\n",
            " 2   marital    45211 non-null  object\n",
            " 3   education  45211 non-null  object\n",
            " 4   default    45211 non-null  object\n",
            " 5   balance    45211 non-null  int64 \n",
            " 6   housing    45211 non-null  object\n",
            " 7   loan       45211 non-null  object\n",
            " 8   contact    45211 non-null  object\n",
            " 9   day        45211 non-null  int64 \n",
            " 10  month      45211 non-null  object\n",
            " 11  duration   45211 non-null  int64 \n",
            " 12  campaign   45211 non-null  int64 \n",
            " 13  pdays      45211 non-null  int64 \n",
            " 14  previous   45211 non-null  int64 \n",
            " 15  poutcome   45211 non-null  object\n",
            " 16  y          45211 non-null  int64 \n",
            "dtypes: int64(8), object(9)\n",
            "memory usage: 6.2+ MB\n"
          ]
        }
      ]
    },
    {
      "cell_type": "code",
      "source": [
        "# Conteo de los niveles en las diferentes columnas categóricas:\n",
        "# Como se verá en su ejecución, todas las variables categóricas poseen mas de 1 subnivel, por tal motivo no podremos a primera vista, eliminar alguna columna.\n",
        "cols_cat = ['job','marital','education','default','housing','loan','contact','day','y']\n"
      ],
      "metadata": {
        "id": "Mt7amppy40JU"
      },
      "execution_count": 78,
      "outputs": []
    },
    {
      "cell_type": "code",
      "source": [
        "# Hemos validado que hay filas repetidas...Se eliminarán 12 filas.\n",
        "print(f'Tamaño del set antes de eliminar las filas repetidas: {data.shape}')\n",
        "data.drop_duplicates(inplace=True)\n",
        "print(f'Tamaño del set después de eliminar las filas repetidas: {data.shape}')"
      ],
      "metadata": {
        "colab": {
          "base_uri": "https://localhost:8080/"
        },
        "id": "Q7IjXnA65JmC",
        "outputId": "05542424-0445-4a7f-b0a1-3828e9c56caa"
      },
      "execution_count": 79,
      "outputs": [
        {
          "output_type": "stream",
          "name": "stdout",
          "text": [
            "Tamaño del set antes de eliminar las filas repetidas: (45211, 17)\n",
            "Tamaño del set después de eliminar las filas repetidas: (45211, 17)\n"
          ]
        }
      ]
    },
    {
      "cell_type": "markdown",
      "source": [
        "# 4. Tratamiento de variables"
      ],
      "metadata": {
        "id": "vVTR-LV15PRH"
      }
    },
    {
      "cell_type": "code",
      "source": [
        "!pip install category_encoders"
      ],
      "metadata": {
        "colab": {
          "base_uri": "https://localhost:8080/"
        },
        "id": "JXIJGOKnawhu",
        "outputId": "2c54bc97-a6ad-4599-d4a4-7a2c01be2229"
      },
      "execution_count": 80,
      "outputs": [
        {
          "output_type": "stream",
          "name": "stdout",
          "text": [
            "Requirement already satisfied: category_encoders in /usr/local/lib/python3.10/dist-packages (2.6.1)\n",
            "Requirement already satisfied: numpy>=1.14.0 in /usr/local/lib/python3.10/dist-packages (from category_encoders) (1.22.4)\n",
            "Requirement already satisfied: scikit-learn>=0.20.0 in /usr/local/lib/python3.10/dist-packages (from category_encoders) (1.2.2)\n",
            "Requirement already satisfied: scipy>=1.0.0 in /usr/local/lib/python3.10/dist-packages (from category_encoders) (1.10.1)\n",
            "Requirement already satisfied: statsmodels>=0.9.0 in /usr/local/lib/python3.10/dist-packages (from category_encoders) (0.13.5)\n",
            "Requirement already satisfied: pandas>=1.0.5 in /usr/local/lib/python3.10/dist-packages (from category_encoders) (1.5.3)\n",
            "Requirement already satisfied: patsy>=0.5.1 in /usr/local/lib/python3.10/dist-packages (from category_encoders) (0.5.3)\n",
            "Requirement already satisfied: python-dateutil>=2.8.1 in /usr/local/lib/python3.10/dist-packages (from pandas>=1.0.5->category_encoders) (2.8.2)\n",
            "Requirement already satisfied: pytz>=2020.1 in /usr/local/lib/python3.10/dist-packages (from pandas>=1.0.5->category_encoders) (2022.7.1)\n",
            "Requirement already satisfied: six in /usr/local/lib/python3.10/dist-packages (from patsy>=0.5.1->category_encoders) (1.16.0)\n",
            "Requirement already satisfied: joblib>=1.1.1 in /usr/local/lib/python3.10/dist-packages (from scikit-learn>=0.20.0->category_encoders) (1.3.1)\n",
            "Requirement already satisfied: threadpoolctl>=2.0.0 in /usr/local/lib/python3.10/dist-packages (from scikit-learn>=0.20.0->category_encoders) (3.1.0)\n",
            "Requirement already satisfied: packaging>=21.3 in /usr/local/lib/python3.10/dist-packages (from statsmodels>=0.9.0->category_encoders) (23.1)\n"
          ]
        }
      ]
    },
    {
      "cell_type": "code",
      "source": [
        "# Tratamiento de outliers por RIC\n",
        "\n",
        "# Calculando los intervalos RIC\n",
        "\n",
        "pdResume['ric'] = pdResume['Q3'] - pdResume['Q1']\n",
        "\n",
        "pdResume['min_ric'] = pdResume['Q1'] - 1.5*pdResume['ric']\n",
        "pdResume['max_ric'] = pdResume['Q3'] + 1.5*pdResume['ric']\n",
        "\n",
        "pdResume.head(10)"
      ],
      "metadata": {
        "colab": {
          "base_uri": "https://localhost:8080/",
          "height": 301
        },
        "id": "X8iWyhOt6Lif",
        "outputId": "f95b28ca-351e-41ea-a04a-1503e94cdba6"
      },
      "execution_count": 81,
      "outputs": [
        {
          "output_type": "execute_result",
          "data": {
            "text/plain": [
              "    feature    count         mean          std     min     Q1  median      Q3  \\\n",
              "0       age  31647.0    40.913831    10.586358    18.0   33.0    39.0    48.0   \n",
              "1   balance  31647.0  1374.377034  3087.626646 -8019.0   71.0   451.0  1438.0   \n",
              "2       day  31647.0    15.808260     8.335407     1.0    8.0    16.0    21.0   \n",
              "3  duration  31647.0   258.358043   258.128869     0.0  103.0   180.0   319.0   \n",
              "4  campaign  31647.0     2.762442     3.066837     1.0    1.0     2.0     3.0   \n",
              "5     pdays  31647.0    39.619111    99.384755    -1.0   -1.0    -1.0    -1.0   \n",
              "6  previous  31647.0     0.566499     1.870244     0.0    0.0     0.0     0.0   \n",
              "7         y  31647.0     0.116978     0.321399     0.0    0.0     0.0     0.0   \n",
              "\n",
              "        max  missing_rate     ric  min_ric  max_ric  \n",
              "0      95.0           0.0    15.0     10.5     70.5  \n",
              "1  102127.0           0.0  1367.0  -1979.5   3488.5  \n",
              "2      31.0           0.0    13.0    -11.5     40.5  \n",
              "3    4918.0           0.0   216.0   -221.0    643.0  \n",
              "4      51.0           0.0     2.0     -2.0      6.0  \n",
              "5     871.0           0.0     0.0     -1.0     -1.0  \n",
              "6      51.0           0.0     0.0      0.0      0.0  \n",
              "7       1.0           0.0     0.0      0.0      0.0  "
            ],
            "text/html": [
              "\n",
              "\n",
              "  <div id=\"df-f9273d9f-6376-4433-abd4-49587ce54e61\">\n",
              "    <div class=\"colab-df-container\">\n",
              "      <div>\n",
              "<style scoped>\n",
              "    .dataframe tbody tr th:only-of-type {\n",
              "        vertical-align: middle;\n",
              "    }\n",
              "\n",
              "    .dataframe tbody tr th {\n",
              "        vertical-align: top;\n",
              "    }\n",
              "\n",
              "    .dataframe thead th {\n",
              "        text-align: right;\n",
              "    }\n",
              "</style>\n",
              "<table border=\"1\" class=\"dataframe\">\n",
              "  <thead>\n",
              "    <tr style=\"text-align: right;\">\n",
              "      <th></th>\n",
              "      <th>feature</th>\n",
              "      <th>count</th>\n",
              "      <th>mean</th>\n",
              "      <th>std</th>\n",
              "      <th>min</th>\n",
              "      <th>Q1</th>\n",
              "      <th>median</th>\n",
              "      <th>Q3</th>\n",
              "      <th>max</th>\n",
              "      <th>missing_rate</th>\n",
              "      <th>ric</th>\n",
              "      <th>min_ric</th>\n",
              "      <th>max_ric</th>\n",
              "    </tr>\n",
              "  </thead>\n",
              "  <tbody>\n",
              "    <tr>\n",
              "      <th>0</th>\n",
              "      <td>age</td>\n",
              "      <td>31647.0</td>\n",
              "      <td>40.913831</td>\n",
              "      <td>10.586358</td>\n",
              "      <td>18.0</td>\n",
              "      <td>33.0</td>\n",
              "      <td>39.0</td>\n",
              "      <td>48.0</td>\n",
              "      <td>95.0</td>\n",
              "      <td>0.0</td>\n",
              "      <td>15.0</td>\n",
              "      <td>10.5</td>\n",
              "      <td>70.5</td>\n",
              "    </tr>\n",
              "    <tr>\n",
              "      <th>1</th>\n",
              "      <td>balance</td>\n",
              "      <td>31647.0</td>\n",
              "      <td>1374.377034</td>\n",
              "      <td>3087.626646</td>\n",
              "      <td>-8019.0</td>\n",
              "      <td>71.0</td>\n",
              "      <td>451.0</td>\n",
              "      <td>1438.0</td>\n",
              "      <td>102127.0</td>\n",
              "      <td>0.0</td>\n",
              "      <td>1367.0</td>\n",
              "      <td>-1979.5</td>\n",
              "      <td>3488.5</td>\n",
              "    </tr>\n",
              "    <tr>\n",
              "      <th>2</th>\n",
              "      <td>day</td>\n",
              "      <td>31647.0</td>\n",
              "      <td>15.808260</td>\n",
              "      <td>8.335407</td>\n",
              "      <td>1.0</td>\n",
              "      <td>8.0</td>\n",
              "      <td>16.0</td>\n",
              "      <td>21.0</td>\n",
              "      <td>31.0</td>\n",
              "      <td>0.0</td>\n",
              "      <td>13.0</td>\n",
              "      <td>-11.5</td>\n",
              "      <td>40.5</td>\n",
              "    </tr>\n",
              "    <tr>\n",
              "      <th>3</th>\n",
              "      <td>duration</td>\n",
              "      <td>31647.0</td>\n",
              "      <td>258.358043</td>\n",
              "      <td>258.128869</td>\n",
              "      <td>0.0</td>\n",
              "      <td>103.0</td>\n",
              "      <td>180.0</td>\n",
              "      <td>319.0</td>\n",
              "      <td>4918.0</td>\n",
              "      <td>0.0</td>\n",
              "      <td>216.0</td>\n",
              "      <td>-221.0</td>\n",
              "      <td>643.0</td>\n",
              "    </tr>\n",
              "    <tr>\n",
              "      <th>4</th>\n",
              "      <td>campaign</td>\n",
              "      <td>31647.0</td>\n",
              "      <td>2.762442</td>\n",
              "      <td>3.066837</td>\n",
              "      <td>1.0</td>\n",
              "      <td>1.0</td>\n",
              "      <td>2.0</td>\n",
              "      <td>3.0</td>\n",
              "      <td>51.0</td>\n",
              "      <td>0.0</td>\n",
              "      <td>2.0</td>\n",
              "      <td>-2.0</td>\n",
              "      <td>6.0</td>\n",
              "    </tr>\n",
              "    <tr>\n",
              "      <th>5</th>\n",
              "      <td>pdays</td>\n",
              "      <td>31647.0</td>\n",
              "      <td>39.619111</td>\n",
              "      <td>99.384755</td>\n",
              "      <td>-1.0</td>\n",
              "      <td>-1.0</td>\n",
              "      <td>-1.0</td>\n",
              "      <td>-1.0</td>\n",
              "      <td>871.0</td>\n",
              "      <td>0.0</td>\n",
              "      <td>0.0</td>\n",
              "      <td>-1.0</td>\n",
              "      <td>-1.0</td>\n",
              "    </tr>\n",
              "    <tr>\n",
              "      <th>6</th>\n",
              "      <td>previous</td>\n",
              "      <td>31647.0</td>\n",
              "      <td>0.566499</td>\n",
              "      <td>1.870244</td>\n",
              "      <td>0.0</td>\n",
              "      <td>0.0</td>\n",
              "      <td>0.0</td>\n",
              "      <td>0.0</td>\n",
              "      <td>51.0</td>\n",
              "      <td>0.0</td>\n",
              "      <td>0.0</td>\n",
              "      <td>0.0</td>\n",
              "      <td>0.0</td>\n",
              "    </tr>\n",
              "    <tr>\n",
              "      <th>7</th>\n",
              "      <td>y</td>\n",
              "      <td>31647.0</td>\n",
              "      <td>0.116978</td>\n",
              "      <td>0.321399</td>\n",
              "      <td>0.0</td>\n",
              "      <td>0.0</td>\n",
              "      <td>0.0</td>\n",
              "      <td>0.0</td>\n",
              "      <td>1.0</td>\n",
              "      <td>0.0</td>\n",
              "      <td>0.0</td>\n",
              "      <td>0.0</td>\n",
              "      <td>0.0</td>\n",
              "    </tr>\n",
              "  </tbody>\n",
              "</table>\n",
              "</div>\n",
              "      <button class=\"colab-df-convert\" onclick=\"convertToInteractive('df-f9273d9f-6376-4433-abd4-49587ce54e61')\"\n",
              "              title=\"Convert this dataframe to an interactive table.\"\n",
              "              style=\"display:none;\">\n",
              "\n",
              "  <svg xmlns=\"http://www.w3.org/2000/svg\" height=\"24px\"viewBox=\"0 0 24 24\"\n",
              "       width=\"24px\">\n",
              "    <path d=\"M0 0h24v24H0V0z\" fill=\"none\"/>\n",
              "    <path d=\"M18.56 5.44l.94 2.06.94-2.06 2.06-.94-2.06-.94-.94-2.06-.94 2.06-2.06.94zm-11 1L8.5 8.5l.94-2.06 2.06-.94-2.06-.94L8.5 2.5l-.94 2.06-2.06.94zm10 10l.94 2.06.94-2.06 2.06-.94-2.06-.94-.94-2.06-.94 2.06-2.06.94z\"/><path d=\"M17.41 7.96l-1.37-1.37c-.4-.4-.92-.59-1.43-.59-.52 0-1.04.2-1.43.59L10.3 9.45l-7.72 7.72c-.78.78-.78 2.05 0 2.83L4 21.41c.39.39.9.59 1.41.59.51 0 1.02-.2 1.41-.59l7.78-7.78 2.81-2.81c.8-.78.8-2.07 0-2.86zM5.41 20L4 18.59l7.72-7.72 1.47 1.35L5.41 20z\"/>\n",
              "  </svg>\n",
              "      </button>\n",
              "\n",
              "\n",
              "\n",
              "    <div id=\"df-f00eaa65-b27f-434c-9620-230c9b1bba74\">\n",
              "      <button class=\"colab-df-quickchart\" onclick=\"quickchart('df-f00eaa65-b27f-434c-9620-230c9b1bba74')\"\n",
              "              title=\"Suggest charts.\"\n",
              "              style=\"display:none;\">\n",
              "\n",
              "<svg xmlns=\"http://www.w3.org/2000/svg\" height=\"24px\"viewBox=\"0 0 24 24\"\n",
              "     width=\"24px\">\n",
              "    <g>\n",
              "        <path d=\"M19 3H5c-1.1 0-2 .9-2 2v14c0 1.1.9 2 2 2h14c1.1 0 2-.9 2-2V5c0-1.1-.9-2-2-2zM9 17H7v-7h2v7zm4 0h-2V7h2v10zm4 0h-2v-4h2v4z\"/>\n",
              "    </g>\n",
              "</svg>\n",
              "      </button>\n",
              "    </div>\n",
              "\n",
              "<style>\n",
              "  .colab-df-quickchart {\n",
              "    background-color: #E8F0FE;\n",
              "    border: none;\n",
              "    border-radius: 50%;\n",
              "    cursor: pointer;\n",
              "    display: none;\n",
              "    fill: #1967D2;\n",
              "    height: 32px;\n",
              "    padding: 0 0 0 0;\n",
              "    width: 32px;\n",
              "  }\n",
              "\n",
              "  .colab-df-quickchart:hover {\n",
              "    background-color: #E2EBFA;\n",
              "    box-shadow: 0px 1px 2px rgba(60, 64, 67, 0.3), 0px 1px 3px 1px rgba(60, 64, 67, 0.15);\n",
              "    fill: #174EA6;\n",
              "  }\n",
              "\n",
              "  [theme=dark] .colab-df-quickchart {\n",
              "    background-color: #3B4455;\n",
              "    fill: #D2E3FC;\n",
              "  }\n",
              "\n",
              "  [theme=dark] .colab-df-quickchart:hover {\n",
              "    background-color: #434B5C;\n",
              "    box-shadow: 0px 1px 3px 1px rgba(0, 0, 0, 0.15);\n",
              "    filter: drop-shadow(0px 1px 2px rgba(0, 0, 0, 0.3));\n",
              "    fill: #FFFFFF;\n",
              "  }\n",
              "</style>\n",
              "\n",
              "    <script>\n",
              "      async function quickchart(key) {\n",
              "        const containerElement = document.querySelector('#' + key);\n",
              "        const charts = await google.colab.kernel.invokeFunction(\n",
              "            'suggestCharts', [key], {});\n",
              "      }\n",
              "    </script>\n",
              "\n",
              "      <script>\n",
              "\n",
              "function displayQuickchartButton(domScope) {\n",
              "  let quickchartButtonEl =\n",
              "    domScope.querySelector('#df-f00eaa65-b27f-434c-9620-230c9b1bba74 button.colab-df-quickchart');\n",
              "  quickchartButtonEl.style.display =\n",
              "    google.colab.kernel.accessAllowed ? 'block' : 'none';\n",
              "}\n",
              "\n",
              "        displayQuickchartButton(document);\n",
              "      </script>\n",
              "      <style>\n",
              "    .colab-df-container {\n",
              "      display:flex;\n",
              "      flex-wrap:wrap;\n",
              "      gap: 12px;\n",
              "    }\n",
              "\n",
              "    .colab-df-convert {\n",
              "      background-color: #E8F0FE;\n",
              "      border: none;\n",
              "      border-radius: 50%;\n",
              "      cursor: pointer;\n",
              "      display: none;\n",
              "      fill: #1967D2;\n",
              "      height: 32px;\n",
              "      padding: 0 0 0 0;\n",
              "      width: 32px;\n",
              "    }\n",
              "\n",
              "    .colab-df-convert:hover {\n",
              "      background-color: #E2EBFA;\n",
              "      box-shadow: 0px 1px 2px rgba(60, 64, 67, 0.3), 0px 1px 3px 1px rgba(60, 64, 67, 0.15);\n",
              "      fill: #174EA6;\n",
              "    }\n",
              "\n",
              "    [theme=dark] .colab-df-convert {\n",
              "      background-color: #3B4455;\n",
              "      fill: #D2E3FC;\n",
              "    }\n",
              "\n",
              "    [theme=dark] .colab-df-convert:hover {\n",
              "      background-color: #434B5C;\n",
              "      box-shadow: 0px 1px 3px 1px rgba(0, 0, 0, 0.15);\n",
              "      filter: drop-shadow(0px 1px 2px rgba(0, 0, 0, 0.3));\n",
              "      fill: #FFFFFF;\n",
              "    }\n",
              "  </style>\n",
              "\n",
              "      <script>\n",
              "        const buttonEl =\n",
              "          document.querySelector('#df-f9273d9f-6376-4433-abd4-49587ce54e61 button.colab-df-convert');\n",
              "        buttonEl.style.display =\n",
              "          google.colab.kernel.accessAllowed ? 'block' : 'none';\n",
              "\n",
              "        async function convertToInteractive(key) {\n",
              "          const element = document.querySelector('#df-f9273d9f-6376-4433-abd4-49587ce54e61');\n",
              "          const dataTable =\n",
              "            await google.colab.kernel.invokeFunction('convertToInteractive',\n",
              "                                                     [key], {});\n",
              "          if (!dataTable) return;\n",
              "\n",
              "          const docLinkHtml = 'Like what you see? Visit the ' +\n",
              "            '<a target=\"_blank\" href=https://colab.research.google.com/notebooks/data_table.ipynb>data table notebook</a>'\n",
              "            + ' to learn more about interactive tables.';\n",
              "          element.innerHTML = '';\n",
              "          dataTable['output_type'] = 'display_data';\n",
              "          await google.colab.output.renderOutput(dataTable, element);\n",
              "          const docLink = document.createElement('div');\n",
              "          docLink.innerHTML = docLinkHtml;\n",
              "          element.appendChild(docLink);\n",
              "        }\n",
              "      </script>\n",
              "    </div>\n",
              "  </div>\n"
            ]
          },
          "metadata": {},
          "execution_count": 81
        }
      ]
    },
    {
      "cell_type": "code",
      "source": [
        "# Tratamiento de outliers por RIC\n",
        "\n",
        "for col in pdResume.feature.tolist():\n",
        "  desc = pdResume.loc[pdResume.feature == col]\n",
        "\n",
        "  lower_limit = desc.min_ric.values[0]\n",
        "  upper_limit = desc.max_ric.values[0]\n",
        "  if col!='y':\n",
        "    train[col + '_tric'] = train[col].apply(lambda x: lower_limit if x <= lower_limit else\n",
        "                                                    upper_limit if x >= upper_limit else\n",
        "                                                    x)\n",
        "    test[col + '_tric'] = test[col].apply(lambda x: lower_limit if x <= lower_limit else\n",
        "                                                    upper_limit if x >= upper_limit else\n",
        "                                                    x)\n",
        "\n",
        "\n",
        "\n",
        "train.info()"
      ],
      "metadata": {
        "colab": {
          "base_uri": "https://localhost:8080/"
        },
        "id": "5WKtHYNw6O46",
        "outputId": "16a13dc4-27bf-4990-8fd7-8a054cf2d4f5"
      },
      "execution_count": 82,
      "outputs": [
        {
          "output_type": "stream",
          "name": "stdout",
          "text": [
            "<class 'pandas.core.frame.DataFrame'>\n",
            "Int64Index: 31647 entries, 18632 to 4398\n",
            "Data columns (total 24 columns):\n",
            " #   Column         Non-Null Count  Dtype  \n",
            "---  ------         --------------  -----  \n",
            " 0   age            31647 non-null  int64  \n",
            " 1   job            31647 non-null  object \n",
            " 2   marital        31647 non-null  object \n",
            " 3   education      31647 non-null  object \n",
            " 4   default        31647 non-null  object \n",
            " 5   balance        31647 non-null  int64  \n",
            " 6   housing        31647 non-null  object \n",
            " 7   loan           31647 non-null  object \n",
            " 8   contact        31647 non-null  object \n",
            " 9   day            31647 non-null  int64  \n",
            " 10  month          31647 non-null  object \n",
            " 11  duration       31647 non-null  int64  \n",
            " 12  campaign       31647 non-null  int64  \n",
            " 13  pdays          31647 non-null  int64  \n",
            " 14  previous       31647 non-null  int64  \n",
            " 15  poutcome       31647 non-null  object \n",
            " 16  y              31647 non-null  int64  \n",
            " 17  age_tric       31647 non-null  float64\n",
            " 18  balance_tric   31647 non-null  float64\n",
            " 19  day_tric       31647 non-null  int64  \n",
            " 20  duration_tric  31647 non-null  float64\n",
            " 21  campaign_tric  31647 non-null  float64\n",
            " 22  pdays_tric     31647 non-null  float64\n",
            " 23  previous_tric  31647 non-null  float64\n",
            "dtypes: float64(6), int64(9), object(9)\n",
            "memory usage: 6.0+ MB\n"
          ]
        }
      ]
    },
    {
      "cell_type": "markdown",
      "source": [
        "Se agregó nuevas columnas del 17 al 23, con col+_tric"
      ],
      "metadata": {
        "id": "7wiYx68x7ni8"
      }
    },
    {
      "cell_type": "code",
      "source": [
        "variables_numericas"
      ],
      "metadata": {
        "colab": {
          "base_uri": "https://localhost:8080/"
        },
        "id": "UXXfe0zV7RCO",
        "outputId": "9ff11012-8384-42c9-da40-b9c8dcea0411"
      },
      "execution_count": 83,
      "outputs": [
        {
          "output_type": "execute_result",
          "data": {
            "text/plain": [
              "['age', 'balance', 'day', 'duration', 'campaign', 'pdays', 'previous']"
            ]
          },
          "metadata": {},
          "execution_count": 83
        }
      ]
    },
    {
      "cell_type": "code",
      "source": [
        "\n",
        "variables_numericas_ric = [x + '_tric' for x in variables_numericas]\n",
        "variables_numericas_ric"
      ],
      "metadata": {
        "colab": {
          "base_uri": "https://localhost:8080/"
        },
        "id": "Yixuteiw65uX",
        "outputId": "868da4ab-b70d-44ea-e1e0-b93930d40c70"
      },
      "execution_count": 84,
      "outputs": [
        {
          "output_type": "execute_result",
          "data": {
            "text/plain": [
              "['age_tric',\n",
              " 'balance_tric',\n",
              " 'day_tric',\n",
              " 'duration_tric',\n",
              " 'campaign_tric',\n",
              " 'pdays_tric',\n",
              " 'previous_tric']"
            ]
          },
          "metadata": {},
          "execution_count": 84
        }
      ]
    },
    {
      "cell_type": "markdown",
      "source": [
        "4.2 Tratamiento de Variables Categóricas"
      ],
      "metadata": {
        "id": "r2gNTxjd8cRe"
      }
    },
    {
      "cell_type": "code",
      "source": [
        "if 'job' in train.columns.tolist():\n",
        "  print(train['job'].value_counts())"
      ],
      "metadata": {
        "colab": {
          "base_uri": "https://localhost:8080/"
        },
        "id": "ayZAvrwg8cCJ",
        "outputId": "8bc71a42-5086-4ca5-f74f-a917305bf0e0"
      },
      "execution_count": 85,
      "outputs": [
        {
          "output_type": "stream",
          "name": "stdout",
          "text": [
            "blue-collar      6721\n",
            "management       6661\n",
            "technician       5337\n",
            "admin.           3623\n",
            "services         2922\n",
            "retired          1581\n",
            "self-employed    1123\n",
            "entrepreneur     1034\n",
            "unemployed        928\n",
            "housemaid         863\n",
            "student           645\n",
            "unknown           209\n",
            "Name: job, dtype: int64\n"
          ]
        }
      ]
    },
    {
      "cell_type": "code",
      "source": [
        "# Mapear las categorías a los nuevos valores\n",
        "mapping = {\n",
        "    'management': 'Estable',\n",
        "    'services': 'Inestable',\n",
        "    'blue-collar': 'Inestable',\n",
        "    'technician': 'Moderado',\n",
        "    'entrepreneur': 'Moderado',\n",
        "    'student': 'Variable',\n",
        "    'retired': 'Estable',\n",
        "    'admin.': 'Estable',\n",
        "    'housemaid': 'Inestable',\n",
        "    'self-employed': 'Moderado',\n",
        "    'unemployed': 'Inestable',\n",
        "    'unknown': 'Variable'\n",
        "}\n",
        "if 'job' in train.columns.tolist():\n",
        "  # EN TRAIN: Crear la nueva columna \"financial-stability\" utilizando el mapeo de categorías\n",
        "    train['financial-stability'] = train['job'].map(mapping)\n",
        "\n",
        "        # Eliminar la columna \"JOB\" si ya no es necesaria\n",
        "    train.drop('job', axis=1, inplace=True)\n",
        "# EN TEST: Crear la nueva columna \"financial-stability\" utilizando el mapeo de categorías\n",
        "    test['financial-stability'] = test['job'].map(mapping)\n",
        "\n",
        "# Eliminar la columna \"JOB\" si ya no es necesaria\n",
        "    test.drop('job', axis=1, inplace=True)"
      ],
      "metadata": {
        "id": "dk81rGCg8lvu"
      },
      "execution_count": 86,
      "outputs": []
    },
    {
      "cell_type": "code",
      "source": [
        "train.info()"
      ],
      "metadata": {
        "colab": {
          "base_uri": "https://localhost:8080/"
        },
        "id": "M-Ee-S4n8n7G",
        "outputId": "1e0edefe-cf36-4cd7-9e9f-c4993e00c171"
      },
      "execution_count": 87,
      "outputs": [
        {
          "output_type": "stream",
          "name": "stdout",
          "text": [
            "<class 'pandas.core.frame.DataFrame'>\n",
            "Int64Index: 31647 entries, 18632 to 4398\n",
            "Data columns (total 24 columns):\n",
            " #   Column               Non-Null Count  Dtype  \n",
            "---  ------               --------------  -----  \n",
            " 0   age                  31647 non-null  int64  \n",
            " 1   marital              31647 non-null  object \n",
            " 2   education            31647 non-null  object \n",
            " 3   default              31647 non-null  object \n",
            " 4   balance              31647 non-null  int64  \n",
            " 5   housing              31647 non-null  object \n",
            " 6   loan                 31647 non-null  object \n",
            " 7   contact              31647 non-null  object \n",
            " 8   day                  31647 non-null  int64  \n",
            " 9   month                31647 non-null  object \n",
            " 10  duration             31647 non-null  int64  \n",
            " 11  campaign             31647 non-null  int64  \n",
            " 12  pdays                31647 non-null  int64  \n",
            " 13  previous             31647 non-null  int64  \n",
            " 14  poutcome             31647 non-null  object \n",
            " 15  y                    31647 non-null  int64  \n",
            " 16  age_tric             31647 non-null  float64\n",
            " 17  balance_tric         31647 non-null  float64\n",
            " 18  day_tric             31647 non-null  int64  \n",
            " 19  duration_tric        31647 non-null  float64\n",
            " 20  campaign_tric        31647 non-null  float64\n",
            " 21  pdays_tric           31647 non-null  float64\n",
            " 22  previous_tric        31647 non-null  float64\n",
            " 23  financial-stability  31647 non-null  object \n",
            "dtypes: float64(6), int64(9), object(9)\n",
            "memory usage: 6.0+ MB\n"
          ]
        }
      ]
    },
    {
      "cell_type": "code",
      "source": [
        "if 'job' not in train.columns.tolist():\n",
        "  print(train['financial-stability'].drop_duplicates())"
      ],
      "metadata": {
        "colab": {
          "base_uri": "https://localhost:8080/"
        },
        "id": "PsDLhbTR8zPs",
        "outputId": "e53f9cdb-ac95-424f-ee17-6162996f9726"
      },
      "execution_count": 88,
      "outputs": [
        {
          "output_type": "stream",
          "name": "stdout",
          "text": [
            "18632    Inestable\n",
            "23090     Moderado\n",
            "23334      Estable\n",
            "44015     Variable\n",
            "Name: financial-stability, dtype: object\n"
          ]
        }
      ]
    },
    {
      "cell_type": "markdown",
      "source": [
        "La variable Job ha sido recategorizada en la nueva variable fiancial-stability."
      ],
      "metadata": {
        "id": "WmfhdAkM9AeG"
      }
    },
    {
      "cell_type": "code",
      "source": [
        "variables_categoricas = train.select_dtypes(include=['object']).columns.tolist()\n",
        "\n",
        "print(\"Lista de Variables Categóricas: \",variables_categoricas,\"\\n\")"
      ],
      "metadata": {
        "colab": {
          "base_uri": "https://localhost:8080/"
        },
        "id": "XgfcsdoW9QoP",
        "outputId": "22873f14-33e7-421e-a440-b4e1ad4e1670"
      },
      "execution_count": 89,
      "outputs": [
        {
          "output_type": "stream",
          "name": "stdout",
          "text": [
            "Lista de Variables Categóricas:  ['marital', 'education', 'default', 'housing', 'loan', 'contact', 'month', 'poutcome', 'financial-stability'] \n",
            "\n"
          ]
        }
      ]
    },
    {
      "cell_type": "code",
      "source": [
        "# Tratamiento con Target Encoder\n",
        "# Se trabajará una consolidación con la variable \"job\"\n",
        "from category_encoders import TargetEncoder\n",
        "\n",
        "encoder = TargetEncoder(handle_unknown = 'infrequent_if_exist')\n",
        "encoder.fit(train[variables_categoricas].astype('category'), train['y'])"
      ],
      "metadata": {
        "colab": {
          "base_uri": "https://localhost:8080/",
          "height": 110
        },
        "id": "5k1ktV6BaL0K",
        "outputId": "bed3c287-1185-48e8-ef4f-c59ec3a1f9de"
      },
      "execution_count": 90,
      "outputs": [
        {
          "output_type": "execute_result",
          "data": {
            "text/plain": [
              "TargetEncoder(cols=['marital', 'education', 'default', 'housing', 'loan',\n",
              "                    'contact', 'month', 'poutcome', 'financial-stability'],\n",
              "              handle_unknown='infrequent_if_exist')"
            ],
            "text/html": [
              "<style>#sk-container-id-10 {color: black;background-color: white;}#sk-container-id-10 pre{padding: 0;}#sk-container-id-10 div.sk-toggleable {background-color: white;}#sk-container-id-10 label.sk-toggleable__label {cursor: pointer;display: block;width: 100%;margin-bottom: 0;padding: 0.3em;box-sizing: border-box;text-align: center;}#sk-container-id-10 label.sk-toggleable__label-arrow:before {content: \"▸\";float: left;margin-right: 0.25em;color: #696969;}#sk-container-id-10 label.sk-toggleable__label-arrow:hover:before {color: black;}#sk-container-id-10 div.sk-estimator:hover label.sk-toggleable__label-arrow:before {color: black;}#sk-container-id-10 div.sk-toggleable__content {max-height: 0;max-width: 0;overflow: hidden;text-align: left;background-color: #f0f8ff;}#sk-container-id-10 div.sk-toggleable__content pre {margin: 0.2em;color: black;border-radius: 0.25em;background-color: #f0f8ff;}#sk-container-id-10 input.sk-toggleable__control:checked~div.sk-toggleable__content {max-height: 200px;max-width: 100%;overflow: auto;}#sk-container-id-10 input.sk-toggleable__control:checked~label.sk-toggleable__label-arrow:before {content: \"▾\";}#sk-container-id-10 div.sk-estimator input.sk-toggleable__control:checked~label.sk-toggleable__label {background-color: #d4ebff;}#sk-container-id-10 div.sk-label input.sk-toggleable__control:checked~label.sk-toggleable__label {background-color: #d4ebff;}#sk-container-id-10 input.sk-hidden--visually {border: 0;clip: rect(1px 1px 1px 1px);clip: rect(1px, 1px, 1px, 1px);height: 1px;margin: -1px;overflow: hidden;padding: 0;position: absolute;width: 1px;}#sk-container-id-10 div.sk-estimator {font-family: monospace;background-color: #f0f8ff;border: 1px dotted black;border-radius: 0.25em;box-sizing: border-box;margin-bottom: 0.5em;}#sk-container-id-10 div.sk-estimator:hover {background-color: #d4ebff;}#sk-container-id-10 div.sk-parallel-item::after {content: \"\";width: 100%;border-bottom: 1px solid gray;flex-grow: 1;}#sk-container-id-10 div.sk-label:hover label.sk-toggleable__label {background-color: #d4ebff;}#sk-container-id-10 div.sk-serial::before {content: \"\";position: absolute;border-left: 1px solid gray;box-sizing: border-box;top: 0;bottom: 0;left: 50%;z-index: 0;}#sk-container-id-10 div.sk-serial {display: flex;flex-direction: column;align-items: center;background-color: white;padding-right: 0.2em;padding-left: 0.2em;position: relative;}#sk-container-id-10 div.sk-item {position: relative;z-index: 1;}#sk-container-id-10 div.sk-parallel {display: flex;align-items: stretch;justify-content: center;background-color: white;position: relative;}#sk-container-id-10 div.sk-item::before, #sk-container-id-10 div.sk-parallel-item::before {content: \"\";position: absolute;border-left: 1px solid gray;box-sizing: border-box;top: 0;bottom: 0;left: 50%;z-index: -1;}#sk-container-id-10 div.sk-parallel-item {display: flex;flex-direction: column;z-index: 1;position: relative;background-color: white;}#sk-container-id-10 div.sk-parallel-item:first-child::after {align-self: flex-end;width: 50%;}#sk-container-id-10 div.sk-parallel-item:last-child::after {align-self: flex-start;width: 50%;}#sk-container-id-10 div.sk-parallel-item:only-child::after {width: 0;}#sk-container-id-10 div.sk-dashed-wrapped {border: 1px dashed gray;margin: 0 0.4em 0.5em 0.4em;box-sizing: border-box;padding-bottom: 0.4em;background-color: white;}#sk-container-id-10 div.sk-label label {font-family: monospace;font-weight: bold;display: inline-block;line-height: 1.2em;}#sk-container-id-10 div.sk-label-container {text-align: center;}#sk-container-id-10 div.sk-container {/* jupyter's `normalize.less` sets `[hidden] { display: none; }` but bootstrap.min.css set `[hidden] { display: none !important; }` so we also need the `!important` here to be able to override the default hidden behavior on the sphinx rendered scikit-learn.org. See: https://github.com/scikit-learn/scikit-learn/issues/21755 */display: inline-block !important;position: relative;}#sk-container-id-10 div.sk-text-repr-fallback {display: none;}</style><div id=\"sk-container-id-10\" class=\"sk-top-container\"><div class=\"sk-text-repr-fallback\"><pre>TargetEncoder(cols=[&#x27;marital&#x27;, &#x27;education&#x27;, &#x27;default&#x27;, &#x27;housing&#x27;, &#x27;loan&#x27;,\n",
              "                    &#x27;contact&#x27;, &#x27;month&#x27;, &#x27;poutcome&#x27;, &#x27;financial-stability&#x27;],\n",
              "              handle_unknown=&#x27;infrequent_if_exist&#x27;)</pre><b>In a Jupyter environment, please rerun this cell to show the HTML representation or trust the notebook. <br />On GitHub, the HTML representation is unable to render, please try loading this page with nbviewer.org.</b></div><div class=\"sk-container\" hidden><div class=\"sk-item\"><div class=\"sk-estimator sk-toggleable\"><input class=\"sk-toggleable__control sk-hidden--visually\" id=\"sk-estimator-id-10\" type=\"checkbox\" checked><label for=\"sk-estimator-id-10\" class=\"sk-toggleable__label sk-toggleable__label-arrow\">TargetEncoder</label><div class=\"sk-toggleable__content\"><pre>TargetEncoder(cols=[&#x27;marital&#x27;, &#x27;education&#x27;, &#x27;default&#x27;, &#x27;housing&#x27;, &#x27;loan&#x27;,\n",
              "                    &#x27;contact&#x27;, &#x27;month&#x27;, &#x27;poutcome&#x27;, &#x27;financial-stability&#x27;],\n",
              "              handle_unknown=&#x27;infrequent_if_exist&#x27;)</pre></div></div></div></div></div>"
            ]
          },
          "metadata": {},
          "execution_count": 90
        }
      ]
    },
    {
      "cell_type": "code",
      "source": [
        "TargetEncoder(cols=['financial-stability',\n",
        " 'marital',\n",
        " 'education',\n",
        " 'default',\n",
        " 'housing',\n",
        " 'loan',\n",
        " 'contact',\n",
        " 'month'],\n",
        "              handle_unknown='infrequent_if_exist')"
      ],
      "metadata": {
        "colab": {
          "base_uri": "https://localhost:8080/",
          "height": 110
        },
        "id": "8pmEr7nWaS_t",
        "outputId": "e04853c9-4479-4733-ae58-f2488f7f6aba"
      },
      "execution_count": 91,
      "outputs": [
        {
          "output_type": "execute_result",
          "data": {
            "text/plain": [
              "TargetEncoder(cols=['financial-stability', 'marital', 'education', 'default',\n",
              "                    'housing', 'loan', 'contact', 'month'],\n",
              "              handle_unknown='infrequent_if_exist')"
            ],
            "text/html": [
              "<style>#sk-container-id-11 {color: black;background-color: white;}#sk-container-id-11 pre{padding: 0;}#sk-container-id-11 div.sk-toggleable {background-color: white;}#sk-container-id-11 label.sk-toggleable__label {cursor: pointer;display: block;width: 100%;margin-bottom: 0;padding: 0.3em;box-sizing: border-box;text-align: center;}#sk-container-id-11 label.sk-toggleable__label-arrow:before {content: \"▸\";float: left;margin-right: 0.25em;color: #696969;}#sk-container-id-11 label.sk-toggleable__label-arrow:hover:before {color: black;}#sk-container-id-11 div.sk-estimator:hover label.sk-toggleable__label-arrow:before {color: black;}#sk-container-id-11 div.sk-toggleable__content {max-height: 0;max-width: 0;overflow: hidden;text-align: left;background-color: #f0f8ff;}#sk-container-id-11 div.sk-toggleable__content pre {margin: 0.2em;color: black;border-radius: 0.25em;background-color: #f0f8ff;}#sk-container-id-11 input.sk-toggleable__control:checked~div.sk-toggleable__content {max-height: 200px;max-width: 100%;overflow: auto;}#sk-container-id-11 input.sk-toggleable__control:checked~label.sk-toggleable__label-arrow:before {content: \"▾\";}#sk-container-id-11 div.sk-estimator input.sk-toggleable__control:checked~label.sk-toggleable__label {background-color: #d4ebff;}#sk-container-id-11 div.sk-label input.sk-toggleable__control:checked~label.sk-toggleable__label {background-color: #d4ebff;}#sk-container-id-11 input.sk-hidden--visually {border: 0;clip: rect(1px 1px 1px 1px);clip: rect(1px, 1px, 1px, 1px);height: 1px;margin: -1px;overflow: hidden;padding: 0;position: absolute;width: 1px;}#sk-container-id-11 div.sk-estimator {font-family: monospace;background-color: #f0f8ff;border: 1px dotted black;border-radius: 0.25em;box-sizing: border-box;margin-bottom: 0.5em;}#sk-container-id-11 div.sk-estimator:hover {background-color: #d4ebff;}#sk-container-id-11 div.sk-parallel-item::after {content: \"\";width: 100%;border-bottom: 1px solid gray;flex-grow: 1;}#sk-container-id-11 div.sk-label:hover label.sk-toggleable__label {background-color: #d4ebff;}#sk-container-id-11 div.sk-serial::before {content: \"\";position: absolute;border-left: 1px solid gray;box-sizing: border-box;top: 0;bottom: 0;left: 50%;z-index: 0;}#sk-container-id-11 div.sk-serial {display: flex;flex-direction: column;align-items: center;background-color: white;padding-right: 0.2em;padding-left: 0.2em;position: relative;}#sk-container-id-11 div.sk-item {position: relative;z-index: 1;}#sk-container-id-11 div.sk-parallel {display: flex;align-items: stretch;justify-content: center;background-color: white;position: relative;}#sk-container-id-11 div.sk-item::before, #sk-container-id-11 div.sk-parallel-item::before {content: \"\";position: absolute;border-left: 1px solid gray;box-sizing: border-box;top: 0;bottom: 0;left: 50%;z-index: -1;}#sk-container-id-11 div.sk-parallel-item {display: flex;flex-direction: column;z-index: 1;position: relative;background-color: white;}#sk-container-id-11 div.sk-parallel-item:first-child::after {align-self: flex-end;width: 50%;}#sk-container-id-11 div.sk-parallel-item:last-child::after {align-self: flex-start;width: 50%;}#sk-container-id-11 div.sk-parallel-item:only-child::after {width: 0;}#sk-container-id-11 div.sk-dashed-wrapped {border: 1px dashed gray;margin: 0 0.4em 0.5em 0.4em;box-sizing: border-box;padding-bottom: 0.4em;background-color: white;}#sk-container-id-11 div.sk-label label {font-family: monospace;font-weight: bold;display: inline-block;line-height: 1.2em;}#sk-container-id-11 div.sk-label-container {text-align: center;}#sk-container-id-11 div.sk-container {/* jupyter's `normalize.less` sets `[hidden] { display: none; }` but bootstrap.min.css set `[hidden] { display: none !important; }` so we also need the `!important` here to be able to override the default hidden behavior on the sphinx rendered scikit-learn.org. See: https://github.com/scikit-learn/scikit-learn/issues/21755 */display: inline-block !important;position: relative;}#sk-container-id-11 div.sk-text-repr-fallback {display: none;}</style><div id=\"sk-container-id-11\" class=\"sk-top-container\"><div class=\"sk-text-repr-fallback\"><pre>TargetEncoder(cols=[&#x27;financial-stability&#x27;, &#x27;marital&#x27;, &#x27;education&#x27;, &#x27;default&#x27;,\n",
              "                    &#x27;housing&#x27;, &#x27;loan&#x27;, &#x27;contact&#x27;, &#x27;month&#x27;],\n",
              "              handle_unknown=&#x27;infrequent_if_exist&#x27;)</pre><b>In a Jupyter environment, please rerun this cell to show the HTML representation or trust the notebook. <br />On GitHub, the HTML representation is unable to render, please try loading this page with nbviewer.org.</b></div><div class=\"sk-container\" hidden><div class=\"sk-item\"><div class=\"sk-estimator sk-toggleable\"><input class=\"sk-toggleable__control sk-hidden--visually\" id=\"sk-estimator-id-11\" type=\"checkbox\" checked><label for=\"sk-estimator-id-11\" class=\"sk-toggleable__label sk-toggleable__label-arrow\">TargetEncoder</label><div class=\"sk-toggleable__content\"><pre>TargetEncoder(cols=[&#x27;financial-stability&#x27;, &#x27;marital&#x27;, &#x27;education&#x27;, &#x27;default&#x27;,\n",
              "                    &#x27;housing&#x27;, &#x27;loan&#x27;, &#x27;contact&#x27;, &#x27;month&#x27;],\n",
              "              handle_unknown=&#x27;infrequent_if_exist&#x27;)</pre></div></div></div></div></div>"
            ]
          },
          "metadata": {},
          "execution_count": 91
        }
      ]
    },
    {
      "cell_type": "code",
      "source": [
        "train[[x + '_coded' for x in variables_categoricas]] = encoder.transform(train[variables_categoricas].astype('category'))\n",
        "test[[x + '_coded' for x in variables_categoricas]] = encoder.transform(test[variables_categoricas].astype('category'))"
      ],
      "metadata": {
        "id": "q7sogaJCa3Oy"
      },
      "execution_count": 92,
      "outputs": []
    },
    {
      "cell_type": "code",
      "source": [
        "\n",
        "train[['financial-stability', 'financial-stability_coded']].head(10)"
      ],
      "metadata": {
        "colab": {
          "base_uri": "https://localhost:8080/",
          "height": 363
        },
        "id": "f-bL3sr0a5_v",
        "outputId": "8f68aeb6-fa18-42ed-d8f8-7d77b4178e01"
      },
      "execution_count": 93,
      "outputs": [
        {
          "output_type": "execute_result",
          "data": {
            "text/plain": [
              "      financial-stability  financial-stability_coded\n",
              "18632           Inestable                   0.085622\n",
              "23090            Moderado                   0.107019\n",
              "5251             Moderado                   0.107019\n",
              "23334             Estable                   0.144037\n",
              "27744           Inestable                   0.085622\n",
              "15301            Moderado                   0.107019\n",
              "1514              Estable                   0.144037\n",
              "10496           Inestable                   0.085622\n",
              "384             Inestable                   0.085622\n",
              "14690           Inestable                   0.085622"
            ],
            "text/html": [
              "\n",
              "\n",
              "  <div id=\"df-b4534a24-29ca-4cee-ab90-7c5e343e5ddb\">\n",
              "    <div class=\"colab-df-container\">\n",
              "      <div>\n",
              "<style scoped>\n",
              "    .dataframe tbody tr th:only-of-type {\n",
              "        vertical-align: middle;\n",
              "    }\n",
              "\n",
              "    .dataframe tbody tr th {\n",
              "        vertical-align: top;\n",
              "    }\n",
              "\n",
              "    .dataframe thead th {\n",
              "        text-align: right;\n",
              "    }\n",
              "</style>\n",
              "<table border=\"1\" class=\"dataframe\">\n",
              "  <thead>\n",
              "    <tr style=\"text-align: right;\">\n",
              "      <th></th>\n",
              "      <th>financial-stability</th>\n",
              "      <th>financial-stability_coded</th>\n",
              "    </tr>\n",
              "  </thead>\n",
              "  <tbody>\n",
              "    <tr>\n",
              "      <th>18632</th>\n",
              "      <td>Inestable</td>\n",
              "      <td>0.085622</td>\n",
              "    </tr>\n",
              "    <tr>\n",
              "      <th>23090</th>\n",
              "      <td>Moderado</td>\n",
              "      <td>0.107019</td>\n",
              "    </tr>\n",
              "    <tr>\n",
              "      <th>5251</th>\n",
              "      <td>Moderado</td>\n",
              "      <td>0.107019</td>\n",
              "    </tr>\n",
              "    <tr>\n",
              "      <th>23334</th>\n",
              "      <td>Estable</td>\n",
              "      <td>0.144037</td>\n",
              "    </tr>\n",
              "    <tr>\n",
              "      <th>27744</th>\n",
              "      <td>Inestable</td>\n",
              "      <td>0.085622</td>\n",
              "    </tr>\n",
              "    <tr>\n",
              "      <th>15301</th>\n",
              "      <td>Moderado</td>\n",
              "      <td>0.107019</td>\n",
              "    </tr>\n",
              "    <tr>\n",
              "      <th>1514</th>\n",
              "      <td>Estable</td>\n",
              "      <td>0.144037</td>\n",
              "    </tr>\n",
              "    <tr>\n",
              "      <th>10496</th>\n",
              "      <td>Inestable</td>\n",
              "      <td>0.085622</td>\n",
              "    </tr>\n",
              "    <tr>\n",
              "      <th>384</th>\n",
              "      <td>Inestable</td>\n",
              "      <td>0.085622</td>\n",
              "    </tr>\n",
              "    <tr>\n",
              "      <th>14690</th>\n",
              "      <td>Inestable</td>\n",
              "      <td>0.085622</td>\n",
              "    </tr>\n",
              "  </tbody>\n",
              "</table>\n",
              "</div>\n",
              "      <button class=\"colab-df-convert\" onclick=\"convertToInteractive('df-b4534a24-29ca-4cee-ab90-7c5e343e5ddb')\"\n",
              "              title=\"Convert this dataframe to an interactive table.\"\n",
              "              style=\"display:none;\">\n",
              "\n",
              "  <svg xmlns=\"http://www.w3.org/2000/svg\" height=\"24px\"viewBox=\"0 0 24 24\"\n",
              "       width=\"24px\">\n",
              "    <path d=\"M0 0h24v24H0V0z\" fill=\"none\"/>\n",
              "    <path d=\"M18.56 5.44l.94 2.06.94-2.06 2.06-.94-2.06-.94-.94-2.06-.94 2.06-2.06.94zm-11 1L8.5 8.5l.94-2.06 2.06-.94-2.06-.94L8.5 2.5l-.94 2.06-2.06.94zm10 10l.94 2.06.94-2.06 2.06-.94-2.06-.94-.94-2.06-.94 2.06-2.06.94z\"/><path d=\"M17.41 7.96l-1.37-1.37c-.4-.4-.92-.59-1.43-.59-.52 0-1.04.2-1.43.59L10.3 9.45l-7.72 7.72c-.78.78-.78 2.05 0 2.83L4 21.41c.39.39.9.59 1.41.59.51 0 1.02-.2 1.41-.59l7.78-7.78 2.81-2.81c.8-.78.8-2.07 0-2.86zM5.41 20L4 18.59l7.72-7.72 1.47 1.35L5.41 20z\"/>\n",
              "  </svg>\n",
              "      </button>\n",
              "\n",
              "\n",
              "\n",
              "    <div id=\"df-b1ed4138-d1d1-442e-9406-0310d7adb84a\">\n",
              "      <button class=\"colab-df-quickchart\" onclick=\"quickchart('df-b1ed4138-d1d1-442e-9406-0310d7adb84a')\"\n",
              "              title=\"Suggest charts.\"\n",
              "              style=\"display:none;\">\n",
              "\n",
              "<svg xmlns=\"http://www.w3.org/2000/svg\" height=\"24px\"viewBox=\"0 0 24 24\"\n",
              "     width=\"24px\">\n",
              "    <g>\n",
              "        <path d=\"M19 3H5c-1.1 0-2 .9-2 2v14c0 1.1.9 2 2 2h14c1.1 0 2-.9 2-2V5c0-1.1-.9-2-2-2zM9 17H7v-7h2v7zm4 0h-2V7h2v10zm4 0h-2v-4h2v4z\"/>\n",
              "    </g>\n",
              "</svg>\n",
              "      </button>\n",
              "    </div>\n",
              "\n",
              "<style>\n",
              "  .colab-df-quickchart {\n",
              "    background-color: #E8F0FE;\n",
              "    border: none;\n",
              "    border-radius: 50%;\n",
              "    cursor: pointer;\n",
              "    display: none;\n",
              "    fill: #1967D2;\n",
              "    height: 32px;\n",
              "    padding: 0 0 0 0;\n",
              "    width: 32px;\n",
              "  }\n",
              "\n",
              "  .colab-df-quickchart:hover {\n",
              "    background-color: #E2EBFA;\n",
              "    box-shadow: 0px 1px 2px rgba(60, 64, 67, 0.3), 0px 1px 3px 1px rgba(60, 64, 67, 0.15);\n",
              "    fill: #174EA6;\n",
              "  }\n",
              "\n",
              "  [theme=dark] .colab-df-quickchart {\n",
              "    background-color: #3B4455;\n",
              "    fill: #D2E3FC;\n",
              "  }\n",
              "\n",
              "  [theme=dark] .colab-df-quickchart:hover {\n",
              "    background-color: #434B5C;\n",
              "    box-shadow: 0px 1px 3px 1px rgba(0, 0, 0, 0.15);\n",
              "    filter: drop-shadow(0px 1px 2px rgba(0, 0, 0, 0.3));\n",
              "    fill: #FFFFFF;\n",
              "  }\n",
              "</style>\n",
              "\n",
              "    <script>\n",
              "      async function quickchart(key) {\n",
              "        const containerElement = document.querySelector('#' + key);\n",
              "        const charts = await google.colab.kernel.invokeFunction(\n",
              "            'suggestCharts', [key], {});\n",
              "      }\n",
              "    </script>\n",
              "\n",
              "      <script>\n",
              "\n",
              "function displayQuickchartButton(domScope) {\n",
              "  let quickchartButtonEl =\n",
              "    domScope.querySelector('#df-b1ed4138-d1d1-442e-9406-0310d7adb84a button.colab-df-quickchart');\n",
              "  quickchartButtonEl.style.display =\n",
              "    google.colab.kernel.accessAllowed ? 'block' : 'none';\n",
              "}\n",
              "\n",
              "        displayQuickchartButton(document);\n",
              "      </script>\n",
              "      <style>\n",
              "    .colab-df-container {\n",
              "      display:flex;\n",
              "      flex-wrap:wrap;\n",
              "      gap: 12px;\n",
              "    }\n",
              "\n",
              "    .colab-df-convert {\n",
              "      background-color: #E8F0FE;\n",
              "      border: none;\n",
              "      border-radius: 50%;\n",
              "      cursor: pointer;\n",
              "      display: none;\n",
              "      fill: #1967D2;\n",
              "      height: 32px;\n",
              "      padding: 0 0 0 0;\n",
              "      width: 32px;\n",
              "    }\n",
              "\n",
              "    .colab-df-convert:hover {\n",
              "      background-color: #E2EBFA;\n",
              "      box-shadow: 0px 1px 2px rgba(60, 64, 67, 0.3), 0px 1px 3px 1px rgba(60, 64, 67, 0.15);\n",
              "      fill: #174EA6;\n",
              "    }\n",
              "\n",
              "    [theme=dark] .colab-df-convert {\n",
              "      background-color: #3B4455;\n",
              "      fill: #D2E3FC;\n",
              "    }\n",
              "\n",
              "    [theme=dark] .colab-df-convert:hover {\n",
              "      background-color: #434B5C;\n",
              "      box-shadow: 0px 1px 3px 1px rgba(0, 0, 0, 0.15);\n",
              "      filter: drop-shadow(0px 1px 2px rgba(0, 0, 0, 0.3));\n",
              "      fill: #FFFFFF;\n",
              "    }\n",
              "  </style>\n",
              "\n",
              "      <script>\n",
              "        const buttonEl =\n",
              "          document.querySelector('#df-b4534a24-29ca-4cee-ab90-7c5e343e5ddb button.colab-df-convert');\n",
              "        buttonEl.style.display =\n",
              "          google.colab.kernel.accessAllowed ? 'block' : 'none';\n",
              "\n",
              "        async function convertToInteractive(key) {\n",
              "          const element = document.querySelector('#df-b4534a24-29ca-4cee-ab90-7c5e343e5ddb');\n",
              "          const dataTable =\n",
              "            await google.colab.kernel.invokeFunction('convertToInteractive',\n",
              "                                                     [key], {});\n",
              "          if (!dataTable) return;\n",
              "\n",
              "          const docLinkHtml = 'Like what you see? Visit the ' +\n",
              "            '<a target=\"_blank\" href=https://colab.research.google.com/notebooks/data_table.ipynb>data table notebook</a>'\n",
              "            + ' to learn more about interactive tables.';\n",
              "          element.innerHTML = '';\n",
              "          dataTable['output_type'] = 'display_data';\n",
              "          await google.colab.output.renderOutput(dataTable, element);\n",
              "          const docLink = document.createElement('div');\n",
              "          docLink.innerHTML = docLinkHtml;\n",
              "          element.appendChild(docLink);\n",
              "        }\n",
              "      </script>\n",
              "    </div>\n",
              "  </div>\n"
            ]
          },
          "metadata": {},
          "execution_count": 93
        }
      ]
    },
    {
      "cell_type": "code",
      "source": [
        "train.info()"
      ],
      "metadata": {
        "colab": {
          "base_uri": "https://localhost:8080/"
        },
        "id": "rbhcbU0RdHbQ",
        "outputId": "507e7d64-0028-45fb-8b9d-6efadf4bb8fe"
      },
      "execution_count": 95,
      "outputs": [
        {
          "output_type": "stream",
          "name": "stdout",
          "text": [
            "<class 'pandas.core.frame.DataFrame'>\n",
            "Int64Index: 31647 entries, 18632 to 4398\n",
            "Data columns (total 33 columns):\n",
            " #   Column                     Non-Null Count  Dtype  \n",
            "---  ------                     --------------  -----  \n",
            " 0   age                        31647 non-null  int64  \n",
            " 1   marital                    31647 non-null  object \n",
            " 2   education                  31647 non-null  object \n",
            " 3   default                    31647 non-null  object \n",
            " 4   balance                    31647 non-null  int64  \n",
            " 5   housing                    31647 non-null  object \n",
            " 6   loan                       31647 non-null  object \n",
            " 7   contact                    31647 non-null  object \n",
            " 8   day                        31647 non-null  int64  \n",
            " 9   month                      31647 non-null  object \n",
            " 10  duration                   31647 non-null  int64  \n",
            " 11  campaign                   31647 non-null  int64  \n",
            " 12  pdays                      31647 non-null  int64  \n",
            " 13  previous                   31647 non-null  int64  \n",
            " 14  poutcome                   31647 non-null  object \n",
            " 15  y                          31647 non-null  int64  \n",
            " 16  age_tric                   31647 non-null  float64\n",
            " 17  balance_tric               31647 non-null  float64\n",
            " 18  day_tric                   31647 non-null  int64  \n",
            " 19  duration_tric              31647 non-null  float64\n",
            " 20  campaign_tric              31647 non-null  float64\n",
            " 21  pdays_tric                 31647 non-null  float64\n",
            " 22  previous_tric              31647 non-null  float64\n",
            " 23  financial-stability        31647 non-null  object \n",
            " 24  marital_coded              31647 non-null  float64\n",
            " 25  education_coded            31647 non-null  float64\n",
            " 26  default_coded              31647 non-null  float64\n",
            " 27  housing_coded              31647 non-null  float64\n",
            " 28  loan_coded                 31647 non-null  float64\n",
            " 29  contact_coded              31647 non-null  float64\n",
            " 30  month_coded                31647 non-null  float64\n",
            " 31  poutcome_coded             31647 non-null  float64\n",
            " 32  financial-stability_coded  31647 non-null  float64\n",
            "dtypes: float64(15), int64(9), object(9)\n",
            "memory usage: 8.2+ MB\n"
          ]
        }
      ]
    },
    {
      "cell_type": "markdown",
      "source": [
        "## Análisis Univariado"
      ],
      "metadata": {
        "id": "swV-yIkCbGTL"
      }
    },
    {
      "cell_type": "code",
      "source": [
        "categorical_features_coded = [x + '_coded' for x in variables_categoricas]\n",
        "categorical_features_coded"
      ],
      "metadata": {
        "id": "1xCIKQ-ba8nA",
        "colab": {
          "base_uri": "https://localhost:8080/"
        },
        "outputId": "8bf686f4-b814-4da2-8ce0-cb7888046df9"
      },
      "execution_count": 96,
      "outputs": [
        {
          "output_type": "execute_result",
          "data": {
            "text/plain": [
              "['marital_coded',\n",
              " 'education_coded',\n",
              " 'default_coded',\n",
              " 'housing_coded',\n",
              " 'loan_coded',\n",
              " 'contact_coded',\n",
              " 'month_coded',\n",
              " 'poutcome_coded',\n",
              " 'financial-stability_coded']"
            ]
          },
          "metadata": {},
          "execution_count": 96
        }
      ]
    },
    {
      "cell_type": "code",
      "source": [
        "univariate = train[variables_numericas_ric + categorical_features_coded].describe().transpose()\n",
        "univariate.reset_index(drop = False, inplace = True)\n",
        "\n",
        "univariate['missing_rate'] = 1 - univariate['count']/len(train)\n",
        "\n",
        "univariate.rename(columns = {'index' : 'feature',\n",
        "                             '25%': 'Q1',\n",
        "                             '50%' : 'median',\n",
        "                            '75%': 'Q3'}, inplace = True)\n",
        "univariate"
      ],
      "metadata": {
        "colab": {
          "base_uri": "https://localhost:8080/",
          "height": 551
        },
        "id": "vlX4ZZphbUwv",
        "outputId": "48efdaab-f9b6-44fb-8610-3576e6ae3c82"
      },
      "execution_count": 97,
      "outputs": [
        {
          "output_type": "execute_result",
          "data": {
            "text/plain": [
              "                      feature    count        mean          std          min  \\\n",
              "0                    age_tric  31647.0   40.846083    10.362827    18.000000   \n",
              "1                balance_tric  31647.0  940.950896  1188.413510 -1979.500000   \n",
              "2                    day_tric  31647.0   15.808260     8.335407     1.000000   \n",
              "3               duration_tric  31647.0  235.074731   177.150633     0.000000   \n",
              "4               campaign_tric  31647.0    2.390843     1.598883     1.000000   \n",
              "5                  pdays_tric  31647.0   -1.000000     0.000000    -1.000000   \n",
              "6               previous_tric  31647.0    0.000000     0.000000     0.000000   \n",
              "7               marital_coded  31647.0    0.116978     0.021594     0.100620   \n",
              "8             education_coded  31647.0    0.116978     0.023252     0.083944   \n",
              "9               default_coded  31647.0    0.116978     0.007890     0.059028   \n",
              "10              housing_coded  31647.0    0.116978     0.044105     0.077548   \n",
              "11                 loan_coded  31647.0    0.116978     0.021564     0.067740   \n",
              "12              contact_coded  31647.0    0.116978     0.048184     0.041028   \n",
              "13                month_coded  31647.0    0.116978     0.083791     0.068298   \n",
              "14             poutcome_coded  31647.0    0.116978     0.099894     0.091930   \n",
              "15  financial-stability_coded  31647.0    0.116978     0.033440     0.085622   \n",
              "\n",
              "            Q1      median           Q3          max  missing_rate  \n",
              "0    33.000000   39.000000    48.000000    70.500000           0.0  \n",
              "1    71.000000  451.000000  1438.000000  3488.500000           0.0  \n",
              "2     8.000000   16.000000    21.000000    31.000000           0.0  \n",
              "3   103.000000  180.000000   319.000000   643.000000           0.0  \n",
              "4     1.000000    2.000000     3.000000     6.000000           0.0  \n",
              "5    -1.000000   -1.000000    -1.000000    -1.000000           0.0  \n",
              "6     0.000000    0.000000     0.000000     0.000000           0.0  \n",
              "7     0.100620    0.100620     0.149648     0.149648           0.0  \n",
              "8     0.106541    0.106541     0.148891     0.148891           0.0  \n",
              "9     0.118052    0.118052     0.118052     0.118052           0.0  \n",
              "10    0.077548    0.077548     0.166311     0.166311           0.0  \n",
              "11    0.126422    0.126422     0.126422     0.126422           0.0  \n",
              "12    0.041028    0.148334     0.148334     0.148334           0.0  \n",
              "13    0.068298    0.098584     0.111842     0.517751           0.0  \n",
              "14    0.091930    0.091930     0.091930     0.645833           0.0  \n",
              "15    0.085622    0.107019     0.144037     0.248244           0.0  "
            ],
            "text/html": [
              "\n",
              "\n",
              "  <div id=\"df-ab49e5b2-d734-4f1d-8668-7d15e01edb3f\">\n",
              "    <div class=\"colab-df-container\">\n",
              "      <div>\n",
              "<style scoped>\n",
              "    .dataframe tbody tr th:only-of-type {\n",
              "        vertical-align: middle;\n",
              "    }\n",
              "\n",
              "    .dataframe tbody tr th {\n",
              "        vertical-align: top;\n",
              "    }\n",
              "\n",
              "    .dataframe thead th {\n",
              "        text-align: right;\n",
              "    }\n",
              "</style>\n",
              "<table border=\"1\" class=\"dataframe\">\n",
              "  <thead>\n",
              "    <tr style=\"text-align: right;\">\n",
              "      <th></th>\n",
              "      <th>feature</th>\n",
              "      <th>count</th>\n",
              "      <th>mean</th>\n",
              "      <th>std</th>\n",
              "      <th>min</th>\n",
              "      <th>Q1</th>\n",
              "      <th>median</th>\n",
              "      <th>Q3</th>\n",
              "      <th>max</th>\n",
              "      <th>missing_rate</th>\n",
              "    </tr>\n",
              "  </thead>\n",
              "  <tbody>\n",
              "    <tr>\n",
              "      <th>0</th>\n",
              "      <td>age_tric</td>\n",
              "      <td>31647.0</td>\n",
              "      <td>40.846083</td>\n",
              "      <td>10.362827</td>\n",
              "      <td>18.000000</td>\n",
              "      <td>33.000000</td>\n",
              "      <td>39.000000</td>\n",
              "      <td>48.000000</td>\n",
              "      <td>70.500000</td>\n",
              "      <td>0.0</td>\n",
              "    </tr>\n",
              "    <tr>\n",
              "      <th>1</th>\n",
              "      <td>balance_tric</td>\n",
              "      <td>31647.0</td>\n",
              "      <td>940.950896</td>\n",
              "      <td>1188.413510</td>\n",
              "      <td>-1979.500000</td>\n",
              "      <td>71.000000</td>\n",
              "      <td>451.000000</td>\n",
              "      <td>1438.000000</td>\n",
              "      <td>3488.500000</td>\n",
              "      <td>0.0</td>\n",
              "    </tr>\n",
              "    <tr>\n",
              "      <th>2</th>\n",
              "      <td>day_tric</td>\n",
              "      <td>31647.0</td>\n",
              "      <td>15.808260</td>\n",
              "      <td>8.335407</td>\n",
              "      <td>1.000000</td>\n",
              "      <td>8.000000</td>\n",
              "      <td>16.000000</td>\n",
              "      <td>21.000000</td>\n",
              "      <td>31.000000</td>\n",
              "      <td>0.0</td>\n",
              "    </tr>\n",
              "    <tr>\n",
              "      <th>3</th>\n",
              "      <td>duration_tric</td>\n",
              "      <td>31647.0</td>\n",
              "      <td>235.074731</td>\n",
              "      <td>177.150633</td>\n",
              "      <td>0.000000</td>\n",
              "      <td>103.000000</td>\n",
              "      <td>180.000000</td>\n",
              "      <td>319.000000</td>\n",
              "      <td>643.000000</td>\n",
              "      <td>0.0</td>\n",
              "    </tr>\n",
              "    <tr>\n",
              "      <th>4</th>\n",
              "      <td>campaign_tric</td>\n",
              "      <td>31647.0</td>\n",
              "      <td>2.390843</td>\n",
              "      <td>1.598883</td>\n",
              "      <td>1.000000</td>\n",
              "      <td>1.000000</td>\n",
              "      <td>2.000000</td>\n",
              "      <td>3.000000</td>\n",
              "      <td>6.000000</td>\n",
              "      <td>0.0</td>\n",
              "    </tr>\n",
              "    <tr>\n",
              "      <th>5</th>\n",
              "      <td>pdays_tric</td>\n",
              "      <td>31647.0</td>\n",
              "      <td>-1.000000</td>\n",
              "      <td>0.000000</td>\n",
              "      <td>-1.000000</td>\n",
              "      <td>-1.000000</td>\n",
              "      <td>-1.000000</td>\n",
              "      <td>-1.000000</td>\n",
              "      <td>-1.000000</td>\n",
              "      <td>0.0</td>\n",
              "    </tr>\n",
              "    <tr>\n",
              "      <th>6</th>\n",
              "      <td>previous_tric</td>\n",
              "      <td>31647.0</td>\n",
              "      <td>0.000000</td>\n",
              "      <td>0.000000</td>\n",
              "      <td>0.000000</td>\n",
              "      <td>0.000000</td>\n",
              "      <td>0.000000</td>\n",
              "      <td>0.000000</td>\n",
              "      <td>0.000000</td>\n",
              "      <td>0.0</td>\n",
              "    </tr>\n",
              "    <tr>\n",
              "      <th>7</th>\n",
              "      <td>marital_coded</td>\n",
              "      <td>31647.0</td>\n",
              "      <td>0.116978</td>\n",
              "      <td>0.021594</td>\n",
              "      <td>0.100620</td>\n",
              "      <td>0.100620</td>\n",
              "      <td>0.100620</td>\n",
              "      <td>0.149648</td>\n",
              "      <td>0.149648</td>\n",
              "      <td>0.0</td>\n",
              "    </tr>\n",
              "    <tr>\n",
              "      <th>8</th>\n",
              "      <td>education_coded</td>\n",
              "      <td>31647.0</td>\n",
              "      <td>0.116978</td>\n",
              "      <td>0.023252</td>\n",
              "      <td>0.083944</td>\n",
              "      <td>0.106541</td>\n",
              "      <td>0.106541</td>\n",
              "      <td>0.148891</td>\n",
              "      <td>0.148891</td>\n",
              "      <td>0.0</td>\n",
              "    </tr>\n",
              "    <tr>\n",
              "      <th>9</th>\n",
              "      <td>default_coded</td>\n",
              "      <td>31647.0</td>\n",
              "      <td>0.116978</td>\n",
              "      <td>0.007890</td>\n",
              "      <td>0.059028</td>\n",
              "      <td>0.118052</td>\n",
              "      <td>0.118052</td>\n",
              "      <td>0.118052</td>\n",
              "      <td>0.118052</td>\n",
              "      <td>0.0</td>\n",
              "    </tr>\n",
              "    <tr>\n",
              "      <th>10</th>\n",
              "      <td>housing_coded</td>\n",
              "      <td>31647.0</td>\n",
              "      <td>0.116978</td>\n",
              "      <td>0.044105</td>\n",
              "      <td>0.077548</td>\n",
              "      <td>0.077548</td>\n",
              "      <td>0.077548</td>\n",
              "      <td>0.166311</td>\n",
              "      <td>0.166311</td>\n",
              "      <td>0.0</td>\n",
              "    </tr>\n",
              "    <tr>\n",
              "      <th>11</th>\n",
              "      <td>loan_coded</td>\n",
              "      <td>31647.0</td>\n",
              "      <td>0.116978</td>\n",
              "      <td>0.021564</td>\n",
              "      <td>0.067740</td>\n",
              "      <td>0.126422</td>\n",
              "      <td>0.126422</td>\n",
              "      <td>0.126422</td>\n",
              "      <td>0.126422</td>\n",
              "      <td>0.0</td>\n",
              "    </tr>\n",
              "    <tr>\n",
              "      <th>12</th>\n",
              "      <td>contact_coded</td>\n",
              "      <td>31647.0</td>\n",
              "      <td>0.116978</td>\n",
              "      <td>0.048184</td>\n",
              "      <td>0.041028</td>\n",
              "      <td>0.041028</td>\n",
              "      <td>0.148334</td>\n",
              "      <td>0.148334</td>\n",
              "      <td>0.148334</td>\n",
              "      <td>0.0</td>\n",
              "    </tr>\n",
              "    <tr>\n",
              "      <th>13</th>\n",
              "      <td>month_coded</td>\n",
              "      <td>31647.0</td>\n",
              "      <td>0.116978</td>\n",
              "      <td>0.083791</td>\n",
              "      <td>0.068298</td>\n",
              "      <td>0.068298</td>\n",
              "      <td>0.098584</td>\n",
              "      <td>0.111842</td>\n",
              "      <td>0.517751</td>\n",
              "      <td>0.0</td>\n",
              "    </tr>\n",
              "    <tr>\n",
              "      <th>14</th>\n",
              "      <td>poutcome_coded</td>\n",
              "      <td>31647.0</td>\n",
              "      <td>0.116978</td>\n",
              "      <td>0.099894</td>\n",
              "      <td>0.091930</td>\n",
              "      <td>0.091930</td>\n",
              "      <td>0.091930</td>\n",
              "      <td>0.091930</td>\n",
              "      <td>0.645833</td>\n",
              "      <td>0.0</td>\n",
              "    </tr>\n",
              "    <tr>\n",
              "      <th>15</th>\n",
              "      <td>financial-stability_coded</td>\n",
              "      <td>31647.0</td>\n",
              "      <td>0.116978</td>\n",
              "      <td>0.033440</td>\n",
              "      <td>0.085622</td>\n",
              "      <td>0.085622</td>\n",
              "      <td>0.107019</td>\n",
              "      <td>0.144037</td>\n",
              "      <td>0.248244</td>\n",
              "      <td>0.0</td>\n",
              "    </tr>\n",
              "  </tbody>\n",
              "</table>\n",
              "</div>\n",
              "      <button class=\"colab-df-convert\" onclick=\"convertToInteractive('df-ab49e5b2-d734-4f1d-8668-7d15e01edb3f')\"\n",
              "              title=\"Convert this dataframe to an interactive table.\"\n",
              "              style=\"display:none;\">\n",
              "\n",
              "  <svg xmlns=\"http://www.w3.org/2000/svg\" height=\"24px\"viewBox=\"0 0 24 24\"\n",
              "       width=\"24px\">\n",
              "    <path d=\"M0 0h24v24H0V0z\" fill=\"none\"/>\n",
              "    <path d=\"M18.56 5.44l.94 2.06.94-2.06 2.06-.94-2.06-.94-.94-2.06-.94 2.06-2.06.94zm-11 1L8.5 8.5l.94-2.06 2.06-.94-2.06-.94L8.5 2.5l-.94 2.06-2.06.94zm10 10l.94 2.06.94-2.06 2.06-.94-2.06-.94-.94-2.06-.94 2.06-2.06.94z\"/><path d=\"M17.41 7.96l-1.37-1.37c-.4-.4-.92-.59-1.43-.59-.52 0-1.04.2-1.43.59L10.3 9.45l-7.72 7.72c-.78.78-.78 2.05 0 2.83L4 21.41c.39.39.9.59 1.41.59.51 0 1.02-.2 1.41-.59l7.78-7.78 2.81-2.81c.8-.78.8-2.07 0-2.86zM5.41 20L4 18.59l7.72-7.72 1.47 1.35L5.41 20z\"/>\n",
              "  </svg>\n",
              "      </button>\n",
              "\n",
              "\n",
              "\n",
              "    <div id=\"df-9ff2859f-71d7-471c-94b8-6a6f70259060\">\n",
              "      <button class=\"colab-df-quickchart\" onclick=\"quickchart('df-9ff2859f-71d7-471c-94b8-6a6f70259060')\"\n",
              "              title=\"Suggest charts.\"\n",
              "              style=\"display:none;\">\n",
              "\n",
              "<svg xmlns=\"http://www.w3.org/2000/svg\" height=\"24px\"viewBox=\"0 0 24 24\"\n",
              "     width=\"24px\">\n",
              "    <g>\n",
              "        <path d=\"M19 3H5c-1.1 0-2 .9-2 2v14c0 1.1.9 2 2 2h14c1.1 0 2-.9 2-2V5c0-1.1-.9-2-2-2zM9 17H7v-7h2v7zm4 0h-2V7h2v10zm4 0h-2v-4h2v4z\"/>\n",
              "    </g>\n",
              "</svg>\n",
              "      </button>\n",
              "    </div>\n",
              "\n",
              "<style>\n",
              "  .colab-df-quickchart {\n",
              "    background-color: #E8F0FE;\n",
              "    border: none;\n",
              "    border-radius: 50%;\n",
              "    cursor: pointer;\n",
              "    display: none;\n",
              "    fill: #1967D2;\n",
              "    height: 32px;\n",
              "    padding: 0 0 0 0;\n",
              "    width: 32px;\n",
              "  }\n",
              "\n",
              "  .colab-df-quickchart:hover {\n",
              "    background-color: #E2EBFA;\n",
              "    box-shadow: 0px 1px 2px rgba(60, 64, 67, 0.3), 0px 1px 3px 1px rgba(60, 64, 67, 0.15);\n",
              "    fill: #174EA6;\n",
              "  }\n",
              "\n",
              "  [theme=dark] .colab-df-quickchart {\n",
              "    background-color: #3B4455;\n",
              "    fill: #D2E3FC;\n",
              "  }\n",
              "\n",
              "  [theme=dark] .colab-df-quickchart:hover {\n",
              "    background-color: #434B5C;\n",
              "    box-shadow: 0px 1px 3px 1px rgba(0, 0, 0, 0.15);\n",
              "    filter: drop-shadow(0px 1px 2px rgba(0, 0, 0, 0.3));\n",
              "    fill: #FFFFFF;\n",
              "  }\n",
              "</style>\n",
              "\n",
              "    <script>\n",
              "      async function quickchart(key) {\n",
              "        const containerElement = document.querySelector('#' + key);\n",
              "        const charts = await google.colab.kernel.invokeFunction(\n",
              "            'suggestCharts', [key], {});\n",
              "      }\n",
              "    </script>\n",
              "\n",
              "      <script>\n",
              "\n",
              "function displayQuickchartButton(domScope) {\n",
              "  let quickchartButtonEl =\n",
              "    domScope.querySelector('#df-9ff2859f-71d7-471c-94b8-6a6f70259060 button.colab-df-quickchart');\n",
              "  quickchartButtonEl.style.display =\n",
              "    google.colab.kernel.accessAllowed ? 'block' : 'none';\n",
              "}\n",
              "\n",
              "        displayQuickchartButton(document);\n",
              "      </script>\n",
              "      <style>\n",
              "    .colab-df-container {\n",
              "      display:flex;\n",
              "      flex-wrap:wrap;\n",
              "      gap: 12px;\n",
              "    }\n",
              "\n",
              "    .colab-df-convert {\n",
              "      background-color: #E8F0FE;\n",
              "      border: none;\n",
              "      border-radius: 50%;\n",
              "      cursor: pointer;\n",
              "      display: none;\n",
              "      fill: #1967D2;\n",
              "      height: 32px;\n",
              "      padding: 0 0 0 0;\n",
              "      width: 32px;\n",
              "    }\n",
              "\n",
              "    .colab-df-convert:hover {\n",
              "      background-color: #E2EBFA;\n",
              "      box-shadow: 0px 1px 2px rgba(60, 64, 67, 0.3), 0px 1px 3px 1px rgba(60, 64, 67, 0.15);\n",
              "      fill: #174EA6;\n",
              "    }\n",
              "\n",
              "    [theme=dark] .colab-df-convert {\n",
              "      background-color: #3B4455;\n",
              "      fill: #D2E3FC;\n",
              "    }\n",
              "\n",
              "    [theme=dark] .colab-df-convert:hover {\n",
              "      background-color: #434B5C;\n",
              "      box-shadow: 0px 1px 3px 1px rgba(0, 0, 0, 0.15);\n",
              "      filter: drop-shadow(0px 1px 2px rgba(0, 0, 0, 0.3));\n",
              "      fill: #FFFFFF;\n",
              "    }\n",
              "  </style>\n",
              "\n",
              "      <script>\n",
              "        const buttonEl =\n",
              "          document.querySelector('#df-ab49e5b2-d734-4f1d-8668-7d15e01edb3f button.colab-df-convert');\n",
              "        buttonEl.style.display =\n",
              "          google.colab.kernel.accessAllowed ? 'block' : 'none';\n",
              "\n",
              "        async function convertToInteractive(key) {\n",
              "          const element = document.querySelector('#df-ab49e5b2-d734-4f1d-8668-7d15e01edb3f');\n",
              "          const dataTable =\n",
              "            await google.colab.kernel.invokeFunction('convertToInteractive',\n",
              "                                                     [key], {});\n",
              "          if (!dataTable) return;\n",
              "\n",
              "          const docLinkHtml = 'Like what you see? Visit the ' +\n",
              "            '<a target=\"_blank\" href=https://colab.research.google.com/notebooks/data_table.ipynb>data table notebook</a>'\n",
              "            + ' to learn more about interactive tables.';\n",
              "          element.innerHTML = '';\n",
              "          dataTable['output_type'] = 'display_data';\n",
              "          await google.colab.output.renderOutput(dataTable, element);\n",
              "          const docLink = document.createElement('div');\n",
              "          docLink.innerHTML = docLinkHtml;\n",
              "          element.appendChild(docLink);\n",
              "        }\n",
              "      </script>\n",
              "    </div>\n",
              "  </div>\n"
            ]
          },
          "metadata": {},
          "execution_count": 97
        }
      ]
    },
    {
      "cell_type": "code",
      "source": [
        "# Tratamiento de outliers por percentiles\n",
        "\n",
        "for col in univariate.feature.tolist():\n",
        "  desc = univariate.loc[univariate.feature == col]\n",
        "\n",
        "  lower_limit = desc.p5.values[0]\n",
        "  upper_limit = desc.p95.values[0]\n",
        "\n",
        "  train[col + '_t'] = train[col].apply(lambda x: lower_limit if x <= lower_limit else\n",
        "                                                    upper_limit if x >= upper_limit else\n",
        "                                                    x)\n",
        "\n",
        "  test[col + '_t'] = test[col].apply(lambda x: lower_limit if x <= lower_limit else\n",
        "                                               upper_limit if x >= upper_limit else\n",
        "                                               x)"
      ],
      "metadata": {
        "id": "8ccBGIN0bYX_"
      },
      "execution_count": null,
      "outputs": []
    },
    {
      "cell_type": "code",
      "source": [
        "print(len(univariate.feature.tolist()))\n",
        "univariate.feature.tolist()"
      ],
      "metadata": {
        "colab": {
          "base_uri": "https://localhost:8080/"
        },
        "id": "BQghdzTzcFcN",
        "outputId": "5069dabe-978e-4c51-b7d2-dd0667c8459f"
      },
      "execution_count": 98,
      "outputs": [
        {
          "output_type": "stream",
          "name": "stdout",
          "text": [
            "16\n"
          ]
        },
        {
          "output_type": "execute_result",
          "data": {
            "text/plain": [
              "['age_tric',\n",
              " 'balance_tric',\n",
              " 'day_tric',\n",
              " 'duration_tric',\n",
              " 'campaign_tric',\n",
              " 'pdays_tric',\n",
              " 'previous_tric',\n",
              " 'marital_coded',\n",
              " 'education_coded',\n",
              " 'default_coded',\n",
              " 'housing_coded',\n",
              " 'loan_coded',\n",
              " 'contact_coded',\n",
              " 'month_coded',\n",
              " 'poutcome_coded',\n",
              " 'financial-stability_coded']"
            ]
          },
          "metadata": {},
          "execution_count": 98
        }
      ]
    },
    {
      "cell_type": "code",
      "source": [
        "sns.boxplot(x = train.age)"
      ],
      "metadata": {
        "colab": {
          "base_uri": "https://localhost:8080/",
          "height": 466
        },
        "id": "e-IpfSjkcl-5",
        "outputId": "99b80986-e23a-4354-c735-154db8c2c55d"
      },
      "execution_count": 99,
      "outputs": [
        {
          "output_type": "execute_result",
          "data": {
            "text/plain": [
              "<Axes: xlabel='age'>"
            ]
          },
          "metadata": {},
          "execution_count": 99
        },
        {
          "output_type": "display_data",
          "data": {
            "text/plain": [
              "<Figure size 640x480 with 1 Axes>"
            ],
            "image/png": "[encoded data removed]"
          },
          "metadata": {}
        }
      ]
    },
    {
      "cell_type": "code",
      "source": [
        "sns.displot(x = train.age)"
      ],
      "metadata": {
        "colab": {
          "base_uri": "https://localhost:8080/",
          "height": 523
        },
        "id": "yc5S_DQkAx2m",
        "outputId": "6bc0cc9a-ab5e-4905-eecb-f02ba7fbe42f"
      },
      "execution_count": 100,
      "outputs": [
        {
          "output_type": "execute_result",
          "data": {
            "text/plain": [
              "<seaborn.axisgrid.FacetGrid at 0x78a6f63934c0>"
            ]
          },
          "metadata": {},
          "execution_count": 100
        },
        {
          "output_type": "display_data",
          "data": {
            "text/plain": [
              "<Figure size 500x500 with 1 Axes>"
            ],
            "image/png": "[encoded data removed]"
          },
          "metadata": {}
        }
      ]
    },
    {
      "cell_type": "code",
      "source": [
        "sns.boxplot(x = train.age_tric)"
      ],
      "metadata": {
        "colab": {
          "base_uri": "https://localhost:8080/",
          "height": 467
        },
        "id": "xBk93zU6A5yA",
        "outputId": "0d86d738-7fe2-4bb9-8264-918f422da792"
      },
      "execution_count": 101,
      "outputs": [
        {
          "output_type": "execute_result",
          "data": {
            "text/plain": [
              "<Axes: xlabel='age_tric'>"
            ]
          },
          "metadata": {},
          "execution_count": 101
        },
        {
          "output_type": "display_data",
          "data": {
            "text/plain": [
              "<Figure size 640x480 with 1 Axes>"
            ],
            "image/png": "[encoded data removed]"
          },
          "metadata": {}
        }
      ]
    },
    {
      "cell_type": "code",
      "source": [
        "sns.displot(x = train.age_tric, bins=4)"
      ],
      "metadata": {
        "colab": {
          "base_uri": "https://localhost:8080/",
          "height": 523
        },
        "id": "p0eHJ2_dBCyV",
        "outputId": "4e362b7f-d1de-4ba2-fe90-61b6b6be130c"
      },
      "execution_count": 102,
      "outputs": [
        {
          "output_type": "execute_result",
          "data": {
            "text/plain": [
              "<seaborn.axisgrid.FacetGrid at 0x78a6f041c850>"
            ]
          },
          "metadata": {},
          "execution_count": 102
        },
        {
          "output_type": "display_data",
          "data": {
            "text/plain": [
              "<Figure size 500x500 with 1 Axes>"
            ],
            "image/png": "[encoded data removed]"
          },
          "metadata": {}
        }
      ]
    },
    {
      "cell_type": "markdown",
      "source": [
        "### Análisis Bivariado"
      ],
      "metadata": {
        "id": "Hl2n9eyyBLuV"
      }
    },
    {
      "cell_type": "code",
      "source": [
        "# Discretizar variables\n",
        "from sklearn.preprocessing import KBinsDiscretizer\n",
        "\n",
        "var = 'age_tric'\n",
        "temp = train.copy()\n",
        "temp[var]=temp[var]**4\n",
        "# POLINOMIAL DE GRADO 4: age_tric4\n",
        "temp = temp.fillna(temp.mean())\n",
        "discretizer = KBinsDiscretizer(n_bins =4,\n",
        "                               encode = 'ordinal',\n",
        "                               strategy = \"uniform\").fit(np.array(temp[var]).reshape(-1, 1))\n",
        "\n",
        "temp[var + '_rango'] = discretizer.transform(np.array(temp[var]).reshape(-1, 1))\n",
        "\n",
        "# Interpretación del ratio de evento por tramo de variable numérica\n",
        "sns.lineplot(data = temp.groupby(var + '_rango').agg({'y': 'mean'}).reset_index(),\n",
        "             x = var + '_rango',\n",
        "             y = 'y')"
      ],
      "metadata": {
        "colab": {
          "base_uri": "https://localhost:8080/",
          "height": 522
        },
        "id": "lCYrbRDWBUKX",
        "outputId": "bb0bedca-730b-4b02-bf84-45c39171b9fb"
      },
      "execution_count": 106,
      "outputs": [
        {
          "output_type": "stream",
          "name": "stderr",
          "text": [
            "<ipython-input-106-aa3cc1da2b94>:8: FutureWarning: The default value of numeric_only in DataFrame.mean is deprecated. In a future version, it will default to False. In addition, specifying 'numeric_only=None' is deprecated. Select only valid columns or specify the value of numeric_only to silence this warning.\n",
            "  temp = temp.fillna(temp.mean())\n"
          ]
        },
        {
          "output_type": "execute_result",
          "data": {
            "text/plain": [
              "<Axes: xlabel='age_tric_rango', ylabel='y'>"
            ]
          },
          "metadata": {},
          "execution_count": 106
        },
        {
          "output_type": "display_data",
          "data": {
            "text/plain": [
              "<Figure size 640x480 with 1 Axes>"
            ],
            "image/png": "[encoded data removed]"
          },
          "metadata": {}
        }
      ]
    },
    {
      "cell_type": "code",
      "source": [
        "# Discretizar variables\n",
        "from sklearn.preprocessing import KBinsDiscretizer\n",
        "\n",
        "var = 'balance_tric'\n",
        "temp = train.copy()\n",
        "temp[var]=temp[var]\n",
        "temp = temp.fillna(temp.mean())\n",
        "discretizer = KBinsDiscretizer(n_bins =4,\n",
        "                               encode = 'ordinal',\n",
        "                               strategy = \"uniform\").fit(np.array(temp[var]).reshape(-1, 1))\n",
        "\n",
        "temp[var + '_rango'] = discretizer.transform(np.array(temp[var]).reshape(-1, 1))\n",
        "\n",
        "# Interpretación del ratio de evento por tramo de variable numérica\n",
        "sns.lineplot(data = temp.groupby(var + '_rango').agg({'y': 'mean'}).reset_index(),\n",
        "             x = var + '_rango',\n",
        "             y = 'y')"
      ],
      "metadata": {
        "colab": {
          "base_uri": "https://localhost:8080/",
          "height": 522
        },
        "id": "X-MFPz9FCIsw",
        "outputId": "3af8511d-56d9-4c16-9511-deaf779da128"
      },
      "execution_count": 107,
      "outputs": [
        {
          "output_type": "stream",
          "name": "stderr",
          "text": [
            "<ipython-input-107-505f90374c7c>:7: FutureWarning: The default value of numeric_only in DataFrame.mean is deprecated. In a future version, it will default to False. In addition, specifying 'numeric_only=None' is deprecated. Select only valid columns or specify the value of numeric_only to silence this warning.\n",
            "  temp = temp.fillna(temp.mean())\n"
          ]
        },
        {
          "output_type": "execute_result",
          "data": {
            "text/plain": [
              "<Axes: xlabel='balance_tric_rango', ylabel='y'>"
            ]
          },
          "metadata": {},
          "execution_count": 107
        },
        {
          "output_type": "display_data",
          "data": {
            "text/plain": [
              "<Figure size 640x480 with 1 Axes>"
            ],
            "image/png": "[encoded data removed]"
          },
          "metadata": {}
        }
      ]
    },
    {
      "cell_type": "code",
      "source": [
        "# Discretizar variables\n",
        "from sklearn.preprocessing import KBinsDiscretizer\n",
        "\n",
        "var = 'day_tric'\n",
        "temp = train.copy()\n",
        "temp[var]=temp[var]**1\n",
        "temp = temp.fillna(temp.mean())\n",
        "discretizer = KBinsDiscretizer(n_bins =5,\n",
        "                               encode = 'ordinal',\n",
        "                               strategy = \"uniform\").fit(np.array(temp[var]).reshape(-1, 1))\n",
        "\n",
        "temp[var + '_rango'] = discretizer.transform(np.array(temp[var]).reshape(-1, 1))\n",
        "\n",
        "# Interpretación del ratio de evento por tramo de variable numérica\n",
        "sns.lineplot(data = temp.groupby(var + '_rango').agg({'y': 'mean'}).reset_index(),\n",
        "             x = var + '_rango',\n",
        "             y = 'y')"
      ],
      "metadata": {
        "colab": {
          "base_uri": "https://localhost:8080/",
          "height": 522
        },
        "id": "t4k1bVOhCVR-",
        "outputId": "76bf9629-5d44-45ed-e185-a9430bb8db4f"
      },
      "execution_count": 108,
      "outputs": [
        {
          "output_type": "stream",
          "name": "stderr",
          "text": [
            "<ipython-input-108-b7a25b407e4f>:7: FutureWarning: The default value of numeric_only in DataFrame.mean is deprecated. In a future version, it will default to False. In addition, specifying 'numeric_only=None' is deprecated. Select only valid columns or specify the value of numeric_only to silence this warning.\n",
            "  temp = temp.fillna(temp.mean())\n"
          ]
        },
        {
          "output_type": "execute_result",
          "data": {
            "text/plain": [
              "<Axes: xlabel='day_tric_rango', ylabel='y'>"
            ]
          },
          "metadata": {},
          "execution_count": 108
        },
        {
          "output_type": "display_data",
          "data": {
            "text/plain": [
              "<Figure size 640x480 with 1 Axes>"
            ],
            "image/png": "[encoded data removed]"
          },
          "metadata": {}
        }
      ]
    },
    {
      "cell_type": "code",
      "source": [
        "# Discretizar variables\n",
        "from sklearn.preprocessing import KBinsDiscretizer\n",
        "\n",
        "var = 'campaign_tric'\n",
        "temp = train.copy()\n",
        "temp[var]=temp[var]\n",
        "temp = temp.fillna(temp.mean())\n",
        "discretizer = KBinsDiscretizer(n_bins =4,\n",
        "                               encode = 'ordinal',\n",
        "                               strategy = \"uniform\").fit(np.array(temp[var]).reshape(-1, 1))\n",
        "\n",
        "temp[var + '_rango'] = discretizer.transform(np.array(temp[var]).reshape(-1, 1))\n",
        "\n",
        "# Interpretación del ratio de evento por tramo de variable numérica\n",
        "sns.lineplot(data = temp.groupby(var + '_rango').agg({'y': 'mean'}).reset_index(),\n",
        "             x = var + '_rango',\n",
        "             y = 'y')"
      ],
      "metadata": {
        "colab": {
          "base_uri": "https://localhost:8080/",
          "height": 522
        },
        "id": "84yt6aRODa_p",
        "outputId": "9dbe3cb0-1a9b-459d-f0e7-f75b5964628e"
      },
      "execution_count": 109,
      "outputs": [
        {
          "output_type": "stream",
          "name": "stderr",
          "text": [
            "<ipython-input-109-99165da6ea51>:7: FutureWarning: The default value of numeric_only in DataFrame.mean is deprecated. In a future version, it will default to False. In addition, specifying 'numeric_only=None' is deprecated. Select only valid columns or specify the value of numeric_only to silence this warning.\n",
            "  temp = temp.fillna(temp.mean())\n"
          ]
        },
        {
          "output_type": "execute_result",
          "data": {
            "text/plain": [
              "<Axes: xlabel='campaign_tric_rango', ylabel='y'>"
            ]
          },
          "metadata": {},
          "execution_count": 109
        },
        {
          "output_type": "display_data",
          "data": {
            "text/plain": [
              "<Figure size 640x480 with 1 Axes>"
            ],
            "image/png": "[encoded data removed]"
          },
          "metadata": {}
        }
      ]
    },
    {
      "cell_type": "code",
      "source": [
        "# Discretizar variables\n",
        "from sklearn.preprocessing import KBinsDiscretizer\n",
        "\n",
        "var = 'pdays_tric'\n",
        "temp = train.copy()\n",
        "temp[var]=temp[var]\n",
        "temp = temp.fillna(temp.mean())\n",
        "discretizer = KBinsDiscretizer(n_bins =4,\n",
        "                               encode = 'ordinal',\n",
        "                               strategy = \"uniform\").fit(np.array(temp[var]).reshape(-1, 1))\n",
        "\n",
        "temp[var + '_rango'] = discretizer.transform(np.array(temp[var]).reshape(-1, 1))\n",
        "\n",
        "# Interpretación del ratio de evento por tramo de variable numérica\n",
        "sns.lineplot(data = temp.groupby(var + '_rango').agg({'y': 'mean'}).reset_index(),\n",
        "             x = var + '_rango',\n",
        "             y = 'y')"
      ],
      "metadata": {
        "colab": {
          "base_uri": "https://localhost:8080/",
          "height": 557
        },
        "id": "UE2oLPseD0vv",
        "outputId": "357b68df-a117-4088-cc1e-92ae6f9f8b7c"
      },
      "execution_count": 110,
      "outputs": [
        {
          "output_type": "stream",
          "name": "stderr",
          "text": [
            "<ipython-input-110-a03c89747ecc>:7: FutureWarning: The default value of numeric_only in DataFrame.mean is deprecated. In a future version, it will default to False. In addition, specifying 'numeric_only=None' is deprecated. Select only valid columns or specify the value of numeric_only to silence this warning.\n",
            "  temp = temp.fillna(temp.mean())\n",
            "/usr/local/lib/python3.10/dist-packages/sklearn/preprocessing/_discretization.py:245: UserWarning: Feature 0 is constant and will be replaced with 0.\n",
            "  warnings.warn(\n"
          ]
        },
        {
          "output_type": "execute_result",
          "data": {
            "text/plain": [
              "<Axes: xlabel='pdays_tric_rango', ylabel='y'>"
            ]
          },
          "metadata": {},
          "execution_count": 110
        },
        {
          "output_type": "display_data",
          "data": {
            "text/plain": [
              "<Figure size 640x480 with 1 Axes>"
            ],
            "image/png": "[encoded data removed]"
          },
          "metadata": {}
        }
      ]
    },
    {
      "cell_type": "code",
      "source": [
        "# Discretizar variables\n",
        "from sklearn.preprocessing import KBinsDiscretizer\n",
        "\n",
        "var = 'duration_tric'\n",
        "temp = train.copy()\n",
        "temp[var]=temp[var]**2\n",
        "# polinomial de grado 2: duration_tric2\n",
        "temp = temp.fillna(temp.mean())\n",
        "discretizer = KBinsDiscretizer(n_bins =4,\n",
        "                               encode = 'ordinal',\n",
        "                               strategy = \"uniform\").fit(np.array(temp[var]).reshape(-1, 1))\n",
        "\n",
        "temp[var + '_rango'] = discretizer.transform(np.array(temp[var]).reshape(-1, 1))\n",
        "\n",
        "# Interpretación del ratio de evento por tramo de variable numérica\n",
        "sns.lineplot(data = temp.groupby(var + '_rango').agg({'y': 'mean'}).reset_index(),\n",
        "             x = var + '_rango',\n",
        "             y = 'y')"
      ],
      "metadata": {
        "colab": {
          "base_uri": "https://localhost:8080/",
          "height": 522
        },
        "id": "OdiEf8nvCo_3",
        "outputId": "f28af84a-7e7a-460f-a3e3-4234f788f2b2"
      },
      "execution_count": 111,
      "outputs": [
        {
          "output_type": "stream",
          "name": "stderr",
          "text": [
            "<ipython-input-111-b98a5fc12ed7>:8: FutureWarning: The default value of numeric_only in DataFrame.mean is deprecated. In a future version, it will default to False. In addition, specifying 'numeric_only=None' is deprecated. Select only valid columns or specify the value of numeric_only to silence this warning.\n",
            "  temp = temp.fillna(temp.mean())\n"
          ]
        },
        {
          "output_type": "execute_result",
          "data": {
            "text/plain": [
              "<Axes: xlabel='duration_tric_rango', ylabel='y'>"
            ]
          },
          "metadata": {},
          "execution_count": 111
        },
        {
          "output_type": "display_data",
          "data": {
            "text/plain": [
              "<Figure size 640x480 with 1 Axes>"
            ],
            "image/png": "[encoded data removed]"
          },
          "metadata": {}
        }
      ]
    },
    {
      "cell_type": "markdown",
      "source": [
        "**completar**"
      ],
      "metadata": {
        "id": "iI7eJIFVYaY5"
      }
    },
    {
      "cell_type": "code",
      "source": [
        "variables_numericas_ric"
      ],
      "metadata": {
        "colab": {
          "base_uri": "https://localhost:8080/"
        },
        "id": "2gXEimlGFGIo",
        "outputId": "e73115e3-bed0-4658-b487-87ee1a8cd7d1"
      },
      "execution_count": 112,
      "outputs": [
        {
          "output_type": "execute_result",
          "data": {
            "text/plain": [
              "['age_tric',\n",
              " 'balance_tric',\n",
              " 'day_tric',\n",
              " 'duration_tric',\n",
              " 'campaign_tric',\n",
              " 'pdays_tric',\n",
              " 'previous_tric']"
            ]
          },
          "metadata": {},
          "execution_count": 112
        }
      ]
    },
    {
      "cell_type": "code",
      "source": [
        "# TRANSFORMACIÓN POLINOMIAL EN TRAIN DE ALGUNAS VARAIBLES NUMERICAS\n",
        "train[\"age_tric4\"]=train[\"age_tric\"]**4\n",
        "train[\"duration_tric2\"]=train[\"duration_tric\"]**2\n",
        "\n",
        "\n",
        "# TRANSFORMACIÓN POLINOMIAL EN TEST DE ALGUNAS VARAIBLES NUMERICAS\n",
        "test[\"age_tric4\"]=test[\"age_tric\"]**4\n",
        "test[\"duration_tric2\"]=test[\"duration_tric\"]**2"
      ],
      "metadata": {
        "id": "kxnOMmptFKnZ"
      },
      "execution_count": 113,
      "outputs": []
    },
    {
      "cell_type": "code",
      "source": [
        "variables_numericas_ric.remove(\"age_tric\")\n",
        "variables_numericas_ric.remove('duration_tric')\n",
        "variables_numericas_ric.append(\"age_tric4\")\n",
        "variables_numericas_ric.append(\"duration_tric2\")\n",
        "variables_numericas_ric"
      ],
      "metadata": {
        "colab": {
          "base_uri": "https://localhost:8080/"
        },
        "id": "XhwLX2BMFcA5",
        "outputId": "7497431b-c810-4236-d898-8850ce976574"
      },
      "execution_count": 114,
      "outputs": [
        {
          "output_type": "execute_result",
          "data": {
            "text/plain": [
              "['balance_tric',\n",
              " 'day_tric',\n",
              " 'campaign_tric',\n",
              " 'pdays_tric',\n",
              " 'previous_tric',\n",
              " 'age_tric4',\n",
              " 'duration_tric2']"
            ]
          },
          "metadata": {},
          "execution_count": 114
        }
      ]
    },
    {
      "cell_type": "code",
      "source": [
        "# analisis de la realcion entre variables categoricas y target. Seleccion:\n",
        "\n",
        "from scipy.stats import chi2_contingency\n",
        "\n",
        "# Prueba de chi-cuadrado para evaluar la asociación\n",
        "for variable in categorical_features_coded:\n",
        "    crosstab = pd.crosstab(train[variable], train[\"y\"])\n",
        "    chi2, p_value, _, _ = chi2_contingency(crosstab)\n",
        "    print(f\"Variable: {variable}\")\n",
        "    print(f\"Estadístico de chi-cuadrado: {chi2}\")\n",
        "    print(f\"Valor p: {round(p_value,5)}\\n\")"
      ],
      "metadata": {
        "colab": {
          "base_uri": "https://localhost:8080/"
        },
        "id": "r1iFSfjJFu0Z",
        "outputId": "d0f48205-91d3-4203-ccc4-f111aaa4d08d"
      },
      "execution_count": 115,
      "outputs": [
        {
          "output_type": "stream",
          "name": "stdout",
          "text": [
            "Variable: marital_coded\n",
            "Estadístico de chi-cuadrado: 142.85854765355052\n",
            "Valor p: 0.0\n",
            "\n",
            "Variable: education_coded\n",
            "Estadístico de chi-cuadrado: 165.63541610530604\n",
            "Valor p: 0.0\n",
            "\n",
            "Variable: default_coded\n",
            "Estadístico de chi-cuadrado: 18.506484755587188\n",
            "Valor p: 2e-05\n",
            "\n",
            "Variable: housing_coded\n",
            "Estadístico de chi-cuadrado: 595.0995298330809\n",
            "Valor p: 0.0\n",
            "\n",
            "Variable: loan_coded\n",
            "Estadístico de chi-cuadrado: 141.89460969186968\n",
            "Valor p: 0.0\n",
            "\n",
            "Variable: contact_coded\n",
            "Estadístico de chi-cuadrado: 711.2973278618297\n",
            "Valor p: 0.0\n",
            "\n",
            "Variable: month_coded\n",
            "Estadístico de chi-cuadrado: 2150.9912722842596\n",
            "Valor p: 0.0\n",
            "\n",
            "Variable: poutcome_coded\n",
            "Estadístico de chi-cuadrado: 3057.217270673017\n",
            "Valor p: 0.0\n",
            "\n",
            "Variable: financial-stability_coded\n",
            "Estadístico de chi-cuadrado: 342.5922012654127\n",
            "Valor p: 0.0\n",
            "\n"
          ]
        }
      ]
    },
    {
      "cell_type": "markdown",
      "source": [
        "**Anáisis bivariado entre variable categoricas y el target**\n",
        "\n",
        "Con un nivel de significancia del 5% se concluye que:\n",
        "Existe una realción o asociatividad entre las variables categoricas y la variable objetivo. Es decir, esta reliación no es por el azar.\n"
      ],
      "metadata": {
        "id": "C-6RZBjnF0zx"
      }
    },
    {
      "cell_type": "markdown",
      "source": [
        "## Tratamiento de Missing"
      ],
      "metadata": {
        "id": "KitYfqXlgX-g"
      }
    },
    {
      "cell_type": "code",
      "source": [
        "train = train.fillna(train.median())\n",
        "test  = test.fillna(train.median())"
      ],
      "metadata": {
        "id": "x9EsmrXDga1X",
        "colab": {
          "base_uri": "https://localhost:8080/"
        },
        "outputId": "374a0b80-dfd2-4088-edaa-85e107c4e37c"
      },
      "execution_count": 116,
      "outputs": [
        {
          "output_type": "stream",
          "name": "stderr",
          "text": [
            "<ipython-input-116-b1ef414424de>:1: FutureWarning: The default value of numeric_only in DataFrame.median is deprecated. In a future version, it will default to False. In addition, specifying 'numeric_only=None' is deprecated. Select only valid columns or specify the value of numeric_only to silence this warning.\n",
            "  train = train.fillna(train.median())\n",
            "<ipython-input-116-b1ef414424de>:2: FutureWarning: The default value of numeric_only in DataFrame.median is deprecated. In a future version, it will default to False. In addition, specifying 'numeric_only=None' is deprecated. Select only valid columns or specify the value of numeric_only to silence this warning.\n",
            "  test  = test.fillna(train.median())\n"
          ]
        }
      ]
    },
    {
      "cell_type": "markdown",
      "source": [
        "## Pre-Selección de Variables"
      ],
      "metadata": {
        "id": "9LrZKkowg9dS"
      }
    },
    {
      "cell_type": "code",
      "source": [
        "numerical_features = variables_numericas"
      ],
      "metadata": {
        "id": "2bw4eE7GYgW9"
      },
      "execution_count": 119,
      "outputs": []
    },
    {
      "cell_type": "code",
      "source": [
        "variables_numericas_ric"
      ],
      "metadata": {
        "colab": {
          "base_uri": "https://localhost:8080/"
        },
        "id": "13J0kHx3IBMg",
        "outputId": "aefaffe9-cc54-4212-a1a8-503e29ffd4d2"
      },
      "execution_count": 121,
      "outputs": [
        {
          "output_type": "execute_result",
          "data": {
            "text/plain": [
              "['balance_tric',\n",
              " 'day_tric',\n",
              " 'campaign_tric',\n",
              " 'pdays_tric',\n",
              " 'previous_tric',\n",
              " 'age_tric4',\n",
              " 'duration_tric2']"
            ]
          },
          "metadata": {},
          "execution_count": 121
        }
      ]
    },
    {
      "cell_type": "code",
      "source": [
        "## Pre-Selección de Variables usando el GINI\n",
        "\n",
        "from sklearn.metrics import roc_auc_score\n",
        "\n",
        "dfgini = pd.DataFrame({'feature': variables_numericas_ric + categorical_features_coded,\n",
        "                       'gini': [roc_auc_score(train.y, train[col])*2-1 for col in variables_numericas_ric + categorical_features_coded]})\n",
        "\n",
        "dfgini['gini_abs'] = dfgini.gini.apply(lambda x: abs(x))\n",
        "\n",
        "dfgini.sort_values(by = 'gini_abs', ascending = False)"
      ],
      "metadata": {
        "colab": {
          "base_uri": "https://localhost:8080/",
          "height": 551
        },
        "id": "vYvGNU_uGQ_l",
        "outputId": "6ef1aa83-5771-4eda-c9e2-32a1734a4be8"
      },
      "execution_count": 117,
      "outputs": [
        {
          "output_type": "execute_result",
          "data": {
            "text/plain": [
              "                      feature      gini  gini_abs\n",
              "6              duration_tric2  0.612573  0.612573\n",
              "13                month_coded  0.306552  0.306552\n",
              "14             poutcome_coded  0.225030  0.225030\n",
              "12              contact_coded  0.214510  0.214510\n",
              "10              housing_coded  0.212155  0.212155\n",
              "0                balance_tric  0.174030  0.174030\n",
              "15  financial-stability_coded  0.160436  0.160436\n",
              "2               campaign_tric -0.138345  0.138345\n",
              "8             education_coded  0.118132  0.118132\n",
              "7               marital_coded  0.103978  0.103978\n",
              "11                 loan_coded  0.076712  0.076712\n",
              "1                    day_tric -0.055319  0.055319\n",
              "5                   age_tric4 -0.020719  0.020719\n",
              "9               default_coded  0.010211  0.010211\n",
              "3                  pdays_tric  0.000000  0.000000\n",
              "4               previous_tric  0.000000  0.000000"
            ],
            "text/html": [
              "\n",
              "\n",
              "  <div id=\"df-a51c2d54-0a22-4cc3-97c3-ba17d6dff790\">\n",
              "    <div class=\"colab-df-container\">\n",
              "      <div>\n",
              "<style scoped>\n",
              "    .dataframe tbody tr th:only-of-type {\n",
              "        vertical-align: middle;\n",
              "    }\n",
              "\n",
              "    .dataframe tbody tr th {\n",
              "        vertical-align: top;\n",
              "    }\n",
              "\n",
              "    .dataframe thead th {\n",
              "        text-align: right;\n",
              "    }\n",
              "</style>\n",
              "<table border=\"1\" class=\"dataframe\">\n",
              "  <thead>\n",
              "    <tr style=\"text-align: right;\">\n",
              "      <th></th>\n",
              "      <th>feature</th>\n",
              "      <th>gini</th>\n",
              "      <th>gini_abs</th>\n",
              "    </tr>\n",
              "  </thead>\n",
              "  <tbody>\n",
              "    <tr>\n",
              "      <th>6</th>\n",
              "      <td>duration_tric2</td>\n",
              "      <td>0.612573</td>\n",
              "      <td>0.612573</td>\n",
              "    </tr>\n",
              "    <tr>\n",
              "      <th>13</th>\n",
              "      <td>month_coded</td>\n",
              "      <td>0.306552</td>\n",
              "      <td>0.306552</td>\n",
              "    </tr>\n",
              "    <tr>\n",
              "      <th>14</th>\n",
              "      <td>poutcome_coded</td>\n",
              "      <td>0.225030</td>\n",
              "      <td>0.225030</td>\n",
              "    </tr>\n",
              "    <tr>\n",
              "      <th>12</th>\n",
              "      <td>contact_coded</td>\n",
              "      <td>0.214510</td>\n",
              "      <td>0.214510</td>\n",
              "    </tr>\n",
              "    <tr>\n",
              "      <th>10</th>\n",
              "      <td>housing_coded</td>\n",
              "      <td>0.212155</td>\n",
              "      <td>0.212155</td>\n",
              "    </tr>\n",
              "    <tr>\n",
              "      <th>0</th>\n",
              "      <td>balance_tric</td>\n",
              "      <td>0.174030</td>\n",
              "      <td>0.174030</td>\n",
              "    </tr>\n",
              "    <tr>\n",
              "      <th>15</th>\n",
              "      <td>financial-stability_coded</td>\n",
              "      <td>0.160436</td>\n",
              "      <td>0.160436</td>\n",
              "    </tr>\n",
              "    <tr>\n",
              "      <th>2</th>\n",
              "      <td>campaign_tric</td>\n",
              "      <td>-0.138345</td>\n",
              "      <td>0.138345</td>\n",
              "    </tr>\n",
              "    <tr>\n",
              "      <th>8</th>\n",
              "      <td>education_coded</td>\n",
              "      <td>0.118132</td>\n",
              "      <td>0.118132</td>\n",
              "    </tr>\n",
              "    <tr>\n",
              "      <th>7</th>\n",
              "      <td>marital_coded</td>\n",
              "      <td>0.103978</td>\n",
              "      <td>0.103978</td>\n",
              "    </tr>\n",
              "    <tr>\n",
              "      <th>11</th>\n",
              "      <td>loan_coded</td>\n",
              "      <td>0.076712</td>\n",
              "      <td>0.076712</td>\n",
              "    </tr>\n",
              "    <tr>\n",
              "      <th>1</th>\n",
              "      <td>day_tric</td>\n",
              "      <td>-0.055319</td>\n",
              "      <td>0.055319</td>\n",
              "    </tr>\n",
              "    <tr>\n",
              "      <th>5</th>\n",
              "      <td>age_tric4</td>\n",
              "      <td>-0.020719</td>\n",
              "      <td>0.020719</td>\n",
              "    </tr>\n",
              "    <tr>\n",
              "      <th>9</th>\n",
              "      <td>default_coded</td>\n",
              "      <td>0.010211</td>\n",
              "      <td>0.010211</td>\n",
              "    </tr>\n",
              "    <tr>\n",
              "      <th>3</th>\n",
              "      <td>pdays_tric</td>\n",
              "      <td>0.000000</td>\n",
              "      <td>0.000000</td>\n",
              "    </tr>\n",
              "    <tr>\n",
              "      <th>4</th>\n",
              "      <td>previous_tric</td>\n",
              "      <td>0.000000</td>\n",
              "      <td>0.000000</td>\n",
              "    </tr>\n",
              "  </tbody>\n",
              "</table>\n",
              "</div>\n",
              "      <button class=\"colab-df-convert\" onclick=\"convertToInteractive('df-a51c2d54-0a22-4cc3-97c3-ba17d6dff790')\"\n",
              "              title=\"Convert this dataframe to an interactive table.\"\n",
              "              style=\"display:none;\">\n",
              "\n",
              "  <svg xmlns=\"http://www.w3.org/2000/svg\" height=\"24px\"viewBox=\"0 0 24 24\"\n",
              "       width=\"24px\">\n",
              "    <path d=\"M0 0h24v24H0V0z\" fill=\"none\"/>\n",
              "    <path d=\"M18.56 5.44l.94 2.06.94-2.06 2.06-.94-2.06-.94-.94-2.06-.94 2.06-2.06.94zm-11 1L8.5 8.5l.94-2.06 2.06-.94-2.06-.94L8.5 2.5l-.94 2.06-2.06.94zm10 10l.94 2.06.94-2.06 2.06-.94-2.06-.94-.94-2.06-.94 2.06-2.06.94z\"/><path d=\"M17.41 7.96l-1.37-1.37c-.4-.4-.92-.59-1.43-.59-.52 0-1.04.2-1.43.59L10.3 9.45l-7.72 7.72c-.78.78-.78 2.05 0 2.83L4 21.41c.39.39.9.59 1.41.59.51 0 1.02-.2 1.41-.59l7.78-7.78 2.81-2.81c.8-.78.8-2.07 0-2.86zM5.41 20L4 18.59l7.72-7.72 1.47 1.35L5.41 20z\"/>\n",
              "  </svg>\n",
              "      </button>\n",
              "\n",
              "\n",
              "\n",
              "    <div id=\"df-3669a65c-52a0-4240-9a1b-e5ec41ec431a\">\n",
              "      <button class=\"colab-df-quickchart\" onclick=\"quickchart('df-3669a65c-52a0-4240-9a1b-e5ec41ec431a')\"\n",
              "              title=\"Suggest charts.\"\n",
              "              style=\"display:none;\">\n",
              "\n",
              "<svg xmlns=\"http://www.w3.org/2000/svg\" height=\"24px\"viewBox=\"0 0 24 24\"\n",
              "     width=\"24px\">\n",
              "    <g>\n",
              "        <path d=\"M19 3H5c-1.1 0-2 .9-2 2v14c0 1.1.9 2 2 2h14c1.1 0 2-.9 2-2V5c0-1.1-.9-2-2-2zM9 17H7v-7h2v7zm4 0h-2V7h2v10zm4 0h-2v-4h2v4z\"/>\n",
              "    </g>\n",
              "</svg>\n",
              "      </button>\n",
              "    </div>\n",
              "\n",
              "<style>\n",
              "  .colab-df-quickchart {\n",
              "    background-color: #E8F0FE;\n",
              "    border: none;\n",
              "    border-radius: 50%;\n",
              "    cursor: pointer;\n",
              "    display: none;\n",
              "    fill: #1967D2;\n",
              "    height: 32px;\n",
              "    padding: 0 0 0 0;\n",
              "    width: 32px;\n",
              "  }\n",
              "\n",
              "  .colab-df-quickchart:hover {\n",
              "    background-color: #E2EBFA;\n",
              "    box-shadow: 0px 1px 2px rgba(60, 64, 67, 0.3), 0px 1px 3px 1px rgba(60, 64, 67, 0.15);\n",
              "    fill: #174EA6;\n",
              "  }\n",
              "\n",
              "  [theme=dark] .colab-df-quickchart {\n",
              "    background-color: #3B4455;\n",
              "    fill: #D2E3FC;\n",
              "  }\n",
              "\n",
              "  [theme=dark] .colab-df-quickchart:hover {\n",
              "    background-color: #434B5C;\n",
              "    box-shadow: 0px 1px 3px 1px rgba(0, 0, 0, 0.15);\n",
              "    filter: drop-shadow(0px 1px 2px rgba(0, 0, 0, 0.3));\n",
              "    fill: #FFFFFF;\n",
              "  }\n",
              "</style>\n",
              "\n",
              "    <script>\n",
              "      async function quickchart(key) {\n",
              "        const containerElement = document.querySelector('#' + key);\n",
              "        const charts = await google.colab.kernel.invokeFunction(\n",
              "            'suggestCharts', [key], {});\n",
              "      }\n",
              "    </script>\n",
              "\n",
              "      <script>\n",
              "\n",
              "function displayQuickchartButton(domScope) {\n",
              "  let quickchartButtonEl =\n",
              "    domScope.querySelector('#df-3669a65c-52a0-4240-9a1b-e5ec41ec431a button.colab-df-quickchart');\n",
              "  quickchartButtonEl.style.display =\n",
              "    google.colab.kernel.accessAllowed ? 'block' : 'none';\n",
              "}\n",
              "\n",
              "        displayQuickchartButton(document);\n",
              "      </script>\n",
              "      <style>\n",
              "    .colab-df-container {\n",
              "      display:flex;\n",
              "      flex-wrap:wrap;\n",
              "      gap: 12px;\n",
              "    }\n",
              "\n",
              "    .colab-df-convert {\n",
              "      background-color: #E8F0FE;\n",
              "      border: none;\n",
              "      border-radius: 50%;\n",
              "      cursor: pointer;\n",
              "      display: none;\n",
              "      fill: #1967D2;\n",
              "      height: 32px;\n",
              "      padding: 0 0 0 0;\n",
              "      width: 32px;\n",
              "    }\n",
              "\n",
              "    .colab-df-convert:hover {\n",
              "      background-color: #E2EBFA;\n",
              "      box-shadow: 0px 1px 2px rgba(60, 64, 67, 0.3), 0px 1px 3px 1px rgba(60, 64, 67, 0.15);\n",
              "      fill: #174EA6;\n",
              "    }\n",
              "\n",
              "    [theme=dark] .colab-df-convert {\n",
              "      background-color: #3B4455;\n",
              "      fill: #D2E3FC;\n",
              "    }\n",
              "\n",
              "    [theme=dark] .colab-df-convert:hover {\n",
              "      background-color: #434B5C;\n",
              "      box-shadow: 0px 1px 3px 1px rgba(0, 0, 0, 0.15);\n",
              "      filter: drop-shadow(0px 1px 2px rgba(0, 0, 0, 0.3));\n",
              "      fill: #FFFFFF;\n",
              "    }\n",
              "  </style>\n",
              "\n",
              "      <script>\n",
              "        const buttonEl =\n",
              "          document.querySelector('#df-a51c2d54-0a22-4cc3-97c3-ba17d6dff790 button.colab-df-convert');\n",
              "        buttonEl.style.display =\n",
              "          google.colab.kernel.accessAllowed ? 'block' : 'none';\n",
              "\n",
              "        async function convertToInteractive(key) {\n",
              "          const element = document.querySelector('#df-a51c2d54-0a22-4cc3-97c3-ba17d6dff790');\n",
              "          const dataTable =\n",
              "            await google.colab.kernel.invokeFunction('convertToInteractive',\n",
              "                                                     [key], {});\n",
              "          if (!dataTable) return;\n",
              "\n",
              "          const docLinkHtml = 'Like what you see? Visit the ' +\n",
              "            '<a target=\"_blank\" href=https://colab.research.google.com/notebooks/data_table.ipynb>data table notebook</a>'\n",
              "            + ' to learn more about interactive tables.';\n",
              "          element.innerHTML = '';\n",
              "          dataTable['output_type'] = 'display_data';\n",
              "          await google.colab.output.renderOutput(dataTable, element);\n",
              "          const docLink = document.createElement('div');\n",
              "          docLink.innerHTML = docLinkHtml;\n",
              "          element.appendChild(docLink);\n",
              "        }\n",
              "      </script>\n",
              "    </div>\n",
              "  </div>\n"
            ]
          },
          "metadata": {},
          "execution_count": 117
        }
      ]
    },
    {
      "cell_type": "markdown",
      "source": [
        "Variables sin relacion con la variable objetivo Y: pdays_tric, previous_tric\n",
        "\n",
        "Variables con relacion inversa o negativa con la variable objetivo Y:\n",
        "\n",
        "campaign_tric, day_tric,age_tric4\n",
        "\n",
        "Variables con relacion directa o positiva: el resto de variables"
      ],
      "metadata": {
        "id": "IezGLGElGhQa"
      }
    },
    {
      "cell_type": "code",
      "source": [
        "univariate = train[variables_numericas_ric + categorical_features_coded].describe().transpose()\n",
        "univariate.reset_index(drop = False, inplace = True)\n",
        "\n",
        "univariate['missing_rate'] = 1 - univariate['count']/len(train)\n",
        "\n",
        "univariate.rename(columns = {'index' : 'feature',\n",
        "                             '25%': 'Q1',\n",
        "                             '50%' : 'median',\n",
        "                            '75%': 'Q3'}, inplace = True)\n",
        "univariate"
      ],
      "metadata": {
        "colab": {
          "base_uri": "https://localhost:8080/",
          "height": 551
        },
        "id": "4fKQFWU8H45a",
        "outputId": "eb3435bf-fae0-460b-a6e8-1cb93bc07714"
      },
      "execution_count": 122,
      "outputs": [
        {
          "output_type": "execute_result",
          "data": {
            "text/plain": [
              "                      feature    count          mean           std  \\\n",
              "0                balance_tric  31647.0  9.409509e+02  1.188414e+03   \n",
              "1                    day_tric  31647.0  1.580826e+01  8.335407e+00   \n",
              "2               campaign_tric  31647.0  2.390843e+00  1.598883e+00   \n",
              "3                  pdays_tric  31647.0 -1.000000e+00  0.000000e+00   \n",
              "4               previous_tric  31647.0  0.000000e+00  0.000000e+00   \n",
              "5                   age_tric4  31647.0  3.986741e+06  4.247396e+06   \n",
              "6              duration_tric2  31647.0  8.664148e+04  1.200240e+05   \n",
              "7               marital_coded  31647.0  1.169779e-01  2.159392e-02   \n",
              "8             education_coded  31647.0  1.169779e-01  2.325171e-02   \n",
              "9               default_coded  31647.0  1.169779e-01  7.890326e-03   \n",
              "10              housing_coded  31647.0  1.169779e-01  4.410485e-02   \n",
              "11                 loan_coded  31647.0  1.169779e-01  2.156394e-02   \n",
              "12              contact_coded  31647.0  1.169779e-01  4.818412e-02   \n",
              "13                month_coded  31647.0  1.169779e-01  8.379104e-02   \n",
              "14             poutcome_coded  31647.0  1.169779e-01  9.989447e-02   \n",
              "15  financial-stability_coded  31647.0  1.169779e-01  3.344006e-02   \n",
              "\n",
              "              min            Q1        median            Q3           max  \\\n",
              "0    -1979.500000  7.100000e+01  4.510000e+02  1.438000e+03  3.488500e+03   \n",
              "1        1.000000  8.000000e+00  1.600000e+01  2.100000e+01  3.100000e+01   \n",
              "2        1.000000  1.000000e+00  2.000000e+00  3.000000e+00  6.000000e+00   \n",
              "3       -1.000000 -1.000000e+00 -1.000000e+00 -1.000000e+00 -1.000000e+00   \n",
              "4        0.000000  0.000000e+00  0.000000e+00  0.000000e+00  0.000000e+00   \n",
              "5   104976.000000  1.185921e+06  2.313441e+06  5.308416e+06  2.470339e+07   \n",
              "6        0.000000  1.060900e+04  3.240000e+04  1.017610e+05  4.134490e+05   \n",
              "7        0.100620  1.006197e-01  1.006197e-01  1.496485e-01  1.496485e-01   \n",
              "8        0.083944  1.065407e-01  1.065407e-01  1.488908e-01  1.488908e-01   \n",
              "9        0.059028  1.180522e-01  1.180522e-01  1.180522e-01  1.180522e-01   \n",
              "10       0.077548  7.754847e-02  7.754847e-02  1.663110e-01  1.663110e-01   \n",
              "11       0.067740  1.264216e-01  1.264216e-01  1.264216e-01  1.264216e-01   \n",
              "12       0.041028  4.102790e-02  1.483337e-01  1.483337e-01  1.483337e-01   \n",
              "13       0.068298  6.829776e-02  9.858388e-02  1.118421e-01  5.177515e-01   \n",
              "14       0.091930  9.192964e-02  9.192964e-02  9.192964e-02  6.458333e-01   \n",
              "15       0.085622  8.562183e-02  1.070189e-01  1.440371e-01  2.482436e-01   \n",
              "\n",
              "    missing_rate  \n",
              "0            0.0  \n",
              "1            0.0  \n",
              "2            0.0  \n",
              "3            0.0  \n",
              "4            0.0  \n",
              "5            0.0  \n",
              "6            0.0  \n",
              "7            0.0  \n",
              "8            0.0  \n",
              "9            0.0  \n",
              "10           0.0  \n",
              "11           0.0  \n",
              "12           0.0  \n",
              "13           0.0  \n",
              "14           0.0  \n",
              "15           0.0  "
            ],
            "text/html": [
              "\n",
              "\n",
              "  <div id=\"df-88aafdba-9a69-443d-b155-6ac1f910e6d3\">\n",
              "    <div class=\"colab-df-container\">\n",
              "      <div>\n",
              "<style scoped>\n",
              "    .dataframe tbody tr th:only-of-type {\n",
              "        vertical-align: middle;\n",
              "    }\n",
              "\n",
              "    .dataframe tbody tr th {\n",
              "        vertical-align: top;\n",
              "    }\n",
              "\n",
              "    .dataframe thead th {\n",
              "        text-align: right;\n",
              "    }\n",
              "</style>\n",
              "<table border=\"1\" class=\"dataframe\">\n",
              "  <thead>\n",
              "    <tr style=\"text-align: right;\">\n",
              "      <th></th>\n",
              "      <th>feature</th>\n",
              "      <th>count</th>\n",
              "      <th>mean</th>\n",
              "      <th>std</th>\n",
              "      <th>min</th>\n",
              "      <th>Q1</th>\n",
              "      <th>median</th>\n",
              "      <th>Q3</th>\n",
              "      <th>max</th>\n",
              "      <th>missing_rate</th>\n",
              "    </tr>\n",
              "  </thead>\n",
              "  <tbody>\n",
              "    <tr>\n",
              "      <th>0</th>\n",
              "      <td>balance_tric</td>\n",
              "      <td>31647.0</td>\n",
              "      <td>9.409509e+02</td>\n",
              "      <td>1.188414e+03</td>\n",
              "      <td>-1979.500000</td>\n",
              "      <td>7.100000e+01</td>\n",
              "      <td>4.510000e+02</td>\n",
              "      <td>1.438000e+03</td>\n",
              "      <td>3.488500e+03</td>\n",
              "      <td>0.0</td>\n",
              "    </tr>\n",
              "    <tr>\n",
              "      <th>1</th>\n",
              "      <td>day_tric</td>\n",
              "      <td>31647.0</td>\n",
              "      <td>1.580826e+01</td>\n",
              "      <td>8.335407e+00</td>\n",
              "      <td>1.000000</td>\n",
              "      <td>8.000000e+00</td>\n",
              "      <td>1.600000e+01</td>\n",
              "      <td>2.100000e+01</td>\n",
              "      <td>3.100000e+01</td>\n",
              "      <td>0.0</td>\n",
              "    </tr>\n",
              "    <tr>\n",
              "      <th>2</th>\n",
              "      <td>campaign_tric</td>\n",
              "      <td>31647.0</td>\n",
              "      <td>2.390843e+00</td>\n",
              "      <td>1.598883e+00</td>\n",
              "      <td>1.000000</td>\n",
              "      <td>1.000000e+00</td>\n",
              "      <td>2.000000e+00</td>\n",
              "      <td>3.000000e+00</td>\n",
              "      <td>6.000000e+00</td>\n",
              "      <td>0.0</td>\n",
              "    </tr>\n",
              "    <tr>\n",
              "      <th>3</th>\n",
              "      <td>pdays_tric</td>\n",
              "      <td>31647.0</td>\n",
              "      <td>-1.000000e+00</td>\n",
              "      <td>0.000000e+00</td>\n",
              "      <td>-1.000000</td>\n",
              "      <td>-1.000000e+00</td>\n",
              "      <td>-1.000000e+00</td>\n",
              "      <td>-1.000000e+00</td>\n",
              "      <td>-1.000000e+00</td>\n",
              "      <td>0.0</td>\n",
              "    </tr>\n",
              "    <tr>\n",
              "      <th>4</th>\n",
              "      <td>previous_tric</td>\n",
              "      <td>31647.0</td>\n",
              "      <td>0.000000e+00</td>\n",
              "      <td>0.000000e+00</td>\n",
              "      <td>0.000000</td>\n",
              "      <td>0.000000e+00</td>\n",
              "      <td>0.000000e+00</td>\n",
              "      <td>0.000000e+00</td>\n",
              "      <td>0.000000e+00</td>\n",
              "      <td>0.0</td>\n",
              "    </tr>\n",
              "    <tr>\n",
              "      <th>5</th>\n",
              "      <td>age_tric4</td>\n",
              "      <td>31647.0</td>\n",
              "      <td>3.986741e+06</td>\n",
              "      <td>4.247396e+06</td>\n",
              "      <td>104976.000000</td>\n",
              "      <td>1.185921e+06</td>\n",
              "      <td>2.313441e+06</td>\n",
              "      <td>5.308416e+06</td>\n",
              "      <td>2.470339e+07</td>\n",
              "      <td>0.0</td>\n",
              "    </tr>\n",
              "    <tr>\n",
              "      <th>6</th>\n",
              "      <td>duration_tric2</td>\n",
              "      <td>31647.0</td>\n",
              "      <td>8.664148e+04</td>\n",
              "      <td>1.200240e+05</td>\n",
              "      <td>0.000000</td>\n",
              "      <td>1.060900e+04</td>\n",
              "      <td>3.240000e+04</td>\n",
              "      <td>1.017610e+05</td>\n",
              "      <td>4.134490e+05</td>\n",
              "      <td>0.0</td>\n",
              "    </tr>\n",
              "    <tr>\n",
              "      <th>7</th>\n",
              "      <td>marital_coded</td>\n",
              "      <td>31647.0</td>\n",
              "      <td>1.169779e-01</td>\n",
              "      <td>2.159392e-02</td>\n",
              "      <td>0.100620</td>\n",
              "      <td>1.006197e-01</td>\n",
              "      <td>1.006197e-01</td>\n",
              "      <td>1.496485e-01</td>\n",
              "      <td>1.496485e-01</td>\n",
              "      <td>0.0</td>\n",
              "    </tr>\n",
              "    <tr>\n",
              "      <th>8</th>\n",
              "      <td>education_coded</td>\n",
              "      <td>31647.0</td>\n",
              "      <td>1.169779e-01</td>\n",
              "      <td>2.325171e-02</td>\n",
              "      <td>0.083944</td>\n",
              "      <td>1.065407e-01</td>\n",
              "      <td>1.065407e-01</td>\n",
              "      <td>1.488908e-01</td>\n",
              "      <td>1.488908e-01</td>\n",
              "      <td>0.0</td>\n",
              "    </tr>\n",
              "    <tr>\n",
              "      <th>9</th>\n",
              "      <td>default_coded</td>\n",
              "      <td>31647.0</td>\n",
              "      <td>1.169779e-01</td>\n",
              "      <td>7.890326e-03</td>\n",
              "      <td>0.059028</td>\n",
              "      <td>1.180522e-01</td>\n",
              "      <td>1.180522e-01</td>\n",
              "      <td>1.180522e-01</td>\n",
              "      <td>1.180522e-01</td>\n",
              "      <td>0.0</td>\n",
              "    </tr>\n",
              "    <tr>\n",
              "      <th>10</th>\n",
              "      <td>housing_coded</td>\n",
              "      <td>31647.0</td>\n",
              "      <td>1.169779e-01</td>\n",
              "      <td>4.410485e-02</td>\n",
              "      <td>0.077548</td>\n",
              "      <td>7.754847e-02</td>\n",
              "      <td>7.754847e-02</td>\n",
              "      <td>1.663110e-01</td>\n",
              "      <td>1.663110e-01</td>\n",
              "      <td>0.0</td>\n",
              "    </tr>\n",
              "    <tr>\n",
              "      <th>11</th>\n",
              "      <td>loan_coded</td>\n",
              "      <td>31647.0</td>\n",
              "      <td>1.169779e-01</td>\n",
              "      <td>2.156394e-02</td>\n",
              "      <td>0.067740</td>\n",
              "      <td>1.264216e-01</td>\n",
              "      <td>1.264216e-01</td>\n",
              "      <td>1.264216e-01</td>\n",
              "      <td>1.264216e-01</td>\n",
              "      <td>0.0</td>\n",
              "    </tr>\n",
              "    <tr>\n",
              "      <th>12</th>\n",
              "      <td>contact_coded</td>\n",
              "      <td>31647.0</td>\n",
              "      <td>1.169779e-01</td>\n",
              "      <td>4.818412e-02</td>\n",
              "      <td>0.041028</td>\n",
              "      <td>4.102790e-02</td>\n",
              "      <td>1.483337e-01</td>\n",
              "      <td>1.483337e-01</td>\n",
              "      <td>1.483337e-01</td>\n",
              "      <td>0.0</td>\n",
              "    </tr>\n",
              "    <tr>\n",
              "      <th>13</th>\n",
              "      <td>month_coded</td>\n",
              "      <td>31647.0</td>\n",
              "      <td>1.169779e-01</td>\n",
              "      <td>8.379104e-02</td>\n",
              "      <td>0.068298</td>\n",
              "      <td>6.829776e-02</td>\n",
              "      <td>9.858388e-02</td>\n",
              "      <td>1.118421e-01</td>\n",
              "      <td>5.177515e-01</td>\n",
              "      <td>0.0</td>\n",
              "    </tr>\n",
              "    <tr>\n",
              "      <th>14</th>\n",
              "      <td>poutcome_coded</td>\n",
              "      <td>31647.0</td>\n",
              "      <td>1.169779e-01</td>\n",
              "      <td>9.989447e-02</td>\n",
              "      <td>0.091930</td>\n",
              "      <td>9.192964e-02</td>\n",
              "      <td>9.192964e-02</td>\n",
              "      <td>9.192964e-02</td>\n",
              "      <td>6.458333e-01</td>\n",
              "      <td>0.0</td>\n",
              "    </tr>\n",
              "    <tr>\n",
              "      <th>15</th>\n",
              "      <td>financial-stability_coded</td>\n",
              "      <td>31647.0</td>\n",
              "      <td>1.169779e-01</td>\n",
              "      <td>3.344006e-02</td>\n",
              "      <td>0.085622</td>\n",
              "      <td>8.562183e-02</td>\n",
              "      <td>1.070189e-01</td>\n",
              "      <td>1.440371e-01</td>\n",
              "      <td>2.482436e-01</td>\n",
              "      <td>0.0</td>\n",
              "    </tr>\n",
              "  </tbody>\n",
              "</table>\n",
              "</div>\n",
              "      <button class=\"colab-df-convert\" onclick=\"convertToInteractive('df-88aafdba-9a69-443d-b155-6ac1f910e6d3')\"\n",
              "              title=\"Convert this dataframe to an interactive table.\"\n",
              "              style=\"display:none;\">\n",
              "\n",
              "  <svg xmlns=\"http://www.w3.org/2000/svg\" height=\"24px\"viewBox=\"0 0 24 24\"\n",
              "       width=\"24px\">\n",
              "    <path d=\"M0 0h24v24H0V0z\" fill=\"none\"/>\n",
              "    <path d=\"M18.56 5.44l.94 2.06.94-2.06 2.06-.94-2.06-.94-.94-2.06-.94 2.06-2.06.94zm-11 1L8.5 8.5l.94-2.06 2.06-.94-2.06-.94L8.5 2.5l-.94 2.06-2.06.94zm10 10l.94 2.06.94-2.06 2.06-.94-2.06-.94-.94-2.06-.94 2.06-2.06.94z\"/><path d=\"M17.41 7.96l-1.37-1.37c-.4-.4-.92-.59-1.43-.59-.52 0-1.04.2-1.43.59L10.3 9.45l-7.72 7.72c-.78.78-.78 2.05 0 2.83L4 21.41c.39.39.9.59 1.41.59.51 0 1.02-.2 1.41-.59l7.78-7.78 2.81-2.81c.8-.78.8-2.07 0-2.86zM5.41 20L4 18.59l7.72-7.72 1.47 1.35L5.41 20z\"/>\n",
              "  </svg>\n",
              "      </button>\n",
              "\n",
              "\n",
              "\n",
              "    <div id=\"df-bd0e5306-dc1b-44af-975c-8e808a0e3e50\">\n",
              "      <button class=\"colab-df-quickchart\" onclick=\"quickchart('df-bd0e5306-dc1b-44af-975c-8e808a0e3e50')\"\n",
              "              title=\"Suggest charts.\"\n",
              "              style=\"display:none;\">\n",
              "\n",
              "<svg xmlns=\"http://www.w3.org/2000/svg\" height=\"24px\"viewBox=\"0 0 24 24\"\n",
              "     width=\"24px\">\n",
              "    <g>\n",
              "        <path d=\"M19 3H5c-1.1 0-2 .9-2 2v14c0 1.1.9 2 2 2h14c1.1 0 2-.9 2-2V5c0-1.1-.9-2-2-2zM9 17H7v-7h2v7zm4 0h-2V7h2v10zm4 0h-2v-4h2v4z\"/>\n",
              "    </g>\n",
              "</svg>\n",
              "      </button>\n",
              "    </div>\n",
              "\n",
              "<style>\n",
              "  .colab-df-quickchart {\n",
              "    background-color: #E8F0FE;\n",
              "    border: none;\n",
              "    border-radius: 50%;\n",
              "    cursor: pointer;\n",
              "    display: none;\n",
              "    fill: #1967D2;\n",
              "    height: 32px;\n",
              "    padding: 0 0 0 0;\n",
              "    width: 32px;\n",
              "  }\n",
              "\n",
              "  .colab-df-quickchart:hover {\n",
              "    background-color: #E2EBFA;\n",
              "    box-shadow: 0px 1px 2px rgba(60, 64, 67, 0.3), 0px 1px 3px 1px rgba(60, 64, 67, 0.15);\n",
              "    fill: #174EA6;\n",
              "  }\n",
              "\n",
              "  [theme=dark] .colab-df-quickchart {\n",
              "    background-color: #3B4455;\n",
              "    fill: #D2E3FC;\n",
              "  }\n",
              "\n",
              "  [theme=dark] .colab-df-quickchart:hover {\n",
              "    background-color: #434B5C;\n",
              "    box-shadow: 0px 1px 3px 1px rgba(0, 0, 0, 0.15);\n",
              "    filter: drop-shadow(0px 1px 2px rgba(0, 0, 0, 0.3));\n",
              "    fill: #FFFFFF;\n",
              "  }\n",
              "</style>\n",
              "\n",
              "    <script>\n",
              "      async function quickchart(key) {\n",
              "        const containerElement = document.querySelector('#' + key);\n",
              "        const charts = await google.colab.kernel.invokeFunction(\n",
              "            'suggestCharts', [key], {});\n",
              "      }\n",
              "    </script>\n",
              "\n",
              "      <script>\n",
              "\n",
              "function displayQuickchartButton(domScope) {\n",
              "  let quickchartButtonEl =\n",
              "    domScope.querySelector('#df-bd0e5306-dc1b-44af-975c-8e808a0e3e50 button.colab-df-quickchart');\n",
              "  quickchartButtonEl.style.display =\n",
              "    google.colab.kernel.accessAllowed ? 'block' : 'none';\n",
              "}\n",
              "\n",
              "        displayQuickchartButton(document);\n",
              "      </script>\n",
              "      <style>\n",
              "    .colab-df-container {\n",
              "      display:flex;\n",
              "      flex-wrap:wrap;\n",
              "      gap: 12px;\n",
              "    }\n",
              "\n",
              "    .colab-df-convert {\n",
              "      background-color: #E8F0FE;\n",
              "      border: none;\n",
              "      border-radius: 50%;\n",
              "      cursor: pointer;\n",
              "      display: none;\n",
              "      fill: #1967D2;\n",
              "      height: 32px;\n",
              "      padding: 0 0 0 0;\n",
              "      width: 32px;\n",
              "    }\n",
              "\n",
              "    .colab-df-convert:hover {\n",
              "      background-color: #E2EBFA;\n",
              "      box-shadow: 0px 1px 2px rgba(60, 64, 67, 0.3), 0px 1px 3px 1px rgba(60, 64, 67, 0.15);\n",
              "      fill: #174EA6;\n",
              "    }\n",
              "\n",
              "    [theme=dark] .colab-df-convert {\n",
              "      background-color: #3B4455;\n",
              "      fill: #D2E3FC;\n",
              "    }\n",
              "\n",
              "    [theme=dark] .colab-df-convert:hover {\n",
              "      background-color: #434B5C;\n",
              "      box-shadow: 0px 1px 3px 1px rgba(0, 0, 0, 0.15);\n",
              "      filter: drop-shadow(0px 1px 2px rgba(0, 0, 0, 0.3));\n",
              "      fill: #FFFFFF;\n",
              "    }\n",
              "  </style>\n",
              "\n",
              "      <script>\n",
              "        const buttonEl =\n",
              "          document.querySelector('#df-88aafdba-9a69-443d-b155-6ac1f910e6d3 button.colab-df-convert');\n",
              "        buttonEl.style.display =\n",
              "          google.colab.kernel.accessAllowed ? 'block' : 'none';\n",
              "\n",
              "        async function convertToInteractive(key) {\n",
              "          const element = document.querySelector('#df-88aafdba-9a69-443d-b155-6ac1f910e6d3');\n",
              "          const dataTable =\n",
              "            await google.colab.kernel.invokeFunction('convertToInteractive',\n",
              "                                                     [key], {});\n",
              "          if (!dataTable) return;\n",
              "\n",
              "          const docLinkHtml = 'Like what you see? Visit the ' +\n",
              "            '<a target=\"_blank\" href=https://colab.research.google.com/notebooks/data_table.ipynb>data table notebook</a>'\n",
              "            + ' to learn more about interactive tables.';\n",
              "          element.innerHTML = '';\n",
              "          dataTable['output_type'] = 'display_data';\n",
              "          await google.colab.output.renderOutput(dataTable, element);\n",
              "          const docLink = document.createElement('div');\n",
              "          docLink.innerHTML = docLinkHtml;\n",
              "          element.appendChild(docLink);\n",
              "        }\n",
              "      </script>\n",
              "    </div>\n",
              "  </div>\n"
            ]
          },
          "metadata": {},
          "execution_count": 122
        }
      ]
    },
    {
      "cell_type": "code",
      "source": [
        "univariate_II = pd.merge(univariate, dfgini, on = 'feature', how = 'left')\n",
        "univariate_II.sort_values(by = 'gini_abs', ascending = False)"
      ],
      "metadata": {
        "colab": {
          "base_uri": "https://localhost:8080/",
          "height": 551
        },
        "id": "9uxB2ZC_HTLo",
        "outputId": "f669a3ea-7839-45e9-bd3e-f616f04a343c"
      },
      "execution_count": 123,
      "outputs": [
        {
          "output_type": "execute_result",
          "data": {
            "text/plain": [
              "                      feature    count          mean           std  \\\n",
              "6              duration_tric2  31647.0  8.664148e+04  1.200240e+05   \n",
              "13                month_coded  31647.0  1.169779e-01  8.379104e-02   \n",
              "14             poutcome_coded  31647.0  1.169779e-01  9.989447e-02   \n",
              "12              contact_coded  31647.0  1.169779e-01  4.818412e-02   \n",
              "10              housing_coded  31647.0  1.169779e-01  4.410485e-02   \n",
              "0                balance_tric  31647.0  9.409509e+02  1.188414e+03   \n",
              "15  financial-stability_coded  31647.0  1.169779e-01  3.344006e-02   \n",
              "2               campaign_tric  31647.0  2.390843e+00  1.598883e+00   \n",
              "8             education_coded  31647.0  1.169779e-01  2.325171e-02   \n",
              "7               marital_coded  31647.0  1.169779e-01  2.159392e-02   \n",
              "11                 loan_coded  31647.0  1.169779e-01  2.156394e-02   \n",
              "1                    day_tric  31647.0  1.580826e+01  8.335407e+00   \n",
              "5                   age_tric4  31647.0  3.986741e+06  4.247396e+06   \n",
              "9               default_coded  31647.0  1.169779e-01  7.890326e-03   \n",
              "3                  pdays_tric  31647.0 -1.000000e+00  0.000000e+00   \n",
              "4               previous_tric  31647.0  0.000000e+00  0.000000e+00   \n",
              "\n",
              "              min            Q1        median            Q3           max  \\\n",
              "6        0.000000  1.060900e+04  3.240000e+04  1.017610e+05  4.134490e+05   \n",
              "13       0.068298  6.829776e-02  9.858388e-02  1.118421e-01  5.177515e-01   \n",
              "14       0.091930  9.192964e-02  9.192964e-02  9.192964e-02  6.458333e-01   \n",
              "12       0.041028  4.102790e-02  1.483337e-01  1.483337e-01  1.483337e-01   \n",
              "10       0.077548  7.754847e-02  7.754847e-02  1.663110e-01  1.663110e-01   \n",
              "0    -1979.500000  7.100000e+01  4.510000e+02  1.438000e+03  3.488500e+03   \n",
              "15       0.085622  8.562183e-02  1.070189e-01  1.440371e-01  2.482436e-01   \n",
              "2        1.000000  1.000000e+00  2.000000e+00  3.000000e+00  6.000000e+00   \n",
              "8        0.083944  1.065407e-01  1.065407e-01  1.488908e-01  1.488908e-01   \n",
              "7        0.100620  1.006197e-01  1.006197e-01  1.496485e-01  1.496485e-01   \n",
              "11       0.067740  1.264216e-01  1.264216e-01  1.264216e-01  1.264216e-01   \n",
              "1        1.000000  8.000000e+00  1.600000e+01  2.100000e+01  3.100000e+01   \n",
              "5   104976.000000  1.185921e+06  2.313441e+06  5.308416e+06  2.470339e+07   \n",
              "9        0.059028  1.180522e-01  1.180522e-01  1.180522e-01  1.180522e-01   \n",
              "3       -1.000000 -1.000000e+00 -1.000000e+00 -1.000000e+00 -1.000000e+00   \n",
              "4        0.000000  0.000000e+00  0.000000e+00  0.000000e+00  0.000000e+00   \n",
              "\n",
              "    missing_rate      gini  gini_abs  \n",
              "6            0.0  0.612573  0.612573  \n",
              "13           0.0  0.306552  0.306552  \n",
              "14           0.0  0.225030  0.225030  \n",
              "12           0.0  0.214510  0.214510  \n",
              "10           0.0  0.212155  0.212155  \n",
              "0            0.0  0.174030  0.174030  \n",
              "15           0.0  0.160436  0.160436  \n",
              "2            0.0 -0.138345  0.138345  \n",
              "8            0.0  0.118132  0.118132  \n",
              "7            0.0  0.103978  0.103978  \n",
              "11           0.0  0.076712  0.076712  \n",
              "1            0.0 -0.055319  0.055319  \n",
              "5            0.0 -0.020719  0.020719  \n",
              "9            0.0  0.010211  0.010211  \n",
              "3            0.0  0.000000  0.000000  \n",
              "4            0.0  0.000000  0.000000  "
            ],
            "text/html": [
              "\n",
              "\n",
              "  <div id=\"df-a941b8e0-cd1b-4f5a-ab9e-f1f30b8c094a\">\n",
              "    <div class=\"colab-df-container\">\n",
              "      <div>\n",
              "<style scoped>\n",
              "    .dataframe tbody tr th:only-of-type {\n",
              "        vertical-align: middle;\n",
              "    }\n",
              "\n",
              "    .dataframe tbody tr th {\n",
              "        vertical-align: top;\n",
              "    }\n",
              "\n",
              "    .dataframe thead th {\n",
              "        text-align: right;\n",
              "    }\n",
              "</style>\n",
              "<table border=\"1\" class=\"dataframe\">\n",
              "  <thead>\n",
              "    <tr style=\"text-align: right;\">\n",
              "      <th></th>\n",
              "      <th>feature</th>\n",
              "      <th>count</th>\n",
              "      <th>mean</th>\n",
              "      <th>std</th>\n",
              "      <th>min</th>\n",
              "      <th>Q1</th>\n",
              "      <th>median</th>\n",
              "      <th>Q3</th>\n",
              "      <th>max</th>\n",
              "      <th>missing_rate</th>\n",
              "      <th>gini</th>\n",
              "      <th>gini_abs</th>\n",
              "    </tr>\n",
              "  </thead>\n",
              "  <tbody>\n",
              "    <tr>\n",
              "      <th>6</th>\n",
              "      <td>duration_tric2</td>\n",
              "      <td>31647.0</td>\n",
              "      <td>8.664148e+04</td>\n",
              "      <td>1.200240e+05</td>\n",
              "      <td>0.000000</td>\n",
              "      <td>1.060900e+04</td>\n",
              "      <td>3.240000e+04</td>\n",
              "      <td>1.017610e+05</td>\n",
              "      <td>4.134490e+05</td>\n",
              "      <td>0.0</td>\n",
              "      <td>0.612573</td>\n",
              "      <td>0.612573</td>\n",
              "    </tr>\n",
              "    <tr>\n",
              "      <th>13</th>\n",
              "      <td>month_coded</td>\n",
              "      <td>31647.0</td>\n",
              "      <td>1.169779e-01</td>\n",
              "      <td>8.379104e-02</td>\n",
              "      <td>0.068298</td>\n",
              "      <td>6.829776e-02</td>\n",
              "      <td>9.858388e-02</td>\n",
              "      <td>1.118421e-01</td>\n",
              "      <td>5.177515e-01</td>\n",
              "      <td>0.0</td>\n",
              "      <td>0.306552</td>\n",
              "      <td>0.306552</td>\n",
              "    </tr>\n",
              "    <tr>\n",
              "      <th>14</th>\n",
              "      <td>poutcome_coded</td>\n",
              "      <td>31647.0</td>\n",
              "      <td>1.169779e-01</td>\n",
              "      <td>9.989447e-02</td>\n",
              "      <td>0.091930</td>\n",
              "      <td>9.192964e-02</td>\n",
              "      <td>9.192964e-02</td>\n",
              "      <td>9.192964e-02</td>\n",
              "      <td>6.458333e-01</td>\n",
              "      <td>0.0</td>\n",
              "      <td>0.225030</td>\n",
              "      <td>0.225030</td>\n",
              "    </tr>\n",
              "    <tr>\n",
              "      <th>12</th>\n",
              "      <td>contact_coded</td>\n",
              "      <td>31647.0</td>\n",
              "      <td>1.169779e-01</td>\n",
              "      <td>4.818412e-02</td>\n",
              "      <td>0.041028</td>\n",
              "      <td>4.102790e-02</td>\n",
              "      <td>1.483337e-01</td>\n",
              "      <td>1.483337e-01</td>\n",
              "      <td>1.483337e-01</td>\n",
              "      <td>0.0</td>\n",
              "      <td>0.214510</td>\n",
              "      <td>0.214510</td>\n",
              "    </tr>\n",
              "    <tr>\n",
              "      <th>10</th>\n",
              "      <td>housing_coded</td>\n",
              "      <td>31647.0</td>\n",
              "      <td>1.169779e-01</td>\n",
              "      <td>4.410485e-02</td>\n",
              "      <td>0.077548</td>\n",
              "      <td>7.754847e-02</td>\n",
              "      <td>7.754847e-02</td>\n",
              "      <td>1.663110e-01</td>\n",
              "      <td>1.663110e-01</td>\n",
              "      <td>0.0</td>\n",
              "      <td>0.212155</td>\n",
              "      <td>0.212155</td>\n",
              "    </tr>\n",
              "    <tr>\n",
              "      <th>0</th>\n",
              "      <td>balance_tric</td>\n",
              "      <td>31647.0</td>\n",
              "      <td>9.409509e+02</td>\n",
              "      <td>1.188414e+03</td>\n",
              "      <td>-1979.500000</td>\n",
              "      <td>7.100000e+01</td>\n",
              "      <td>4.510000e+02</td>\n",
              "      <td>1.438000e+03</td>\n",
              "      <td>3.488500e+03</td>\n",
              "      <td>0.0</td>\n",
              "      <td>0.174030</td>\n",
              "      <td>0.174030</td>\n",
              "    </tr>\n",
              "    <tr>\n",
              "      <th>15</th>\n",
              "      <td>financial-stability_coded</td>\n",
              "      <td>31647.0</td>\n",
              "      <td>1.169779e-01</td>\n",
              "      <td>3.344006e-02</td>\n",
              "      <td>0.085622</td>\n",
              "      <td>8.562183e-02</td>\n",
              "      <td>1.070189e-01</td>\n",
              "      <td>1.440371e-01</td>\n",
              "      <td>2.482436e-01</td>\n",
              "      <td>0.0</td>\n",
              "      <td>0.160436</td>\n",
              "      <td>0.160436</td>\n",
              "    </tr>\n",
              "    <tr>\n",
              "      <th>2</th>\n",
              "      <td>campaign_tric</td>\n",
              "      <td>31647.0</td>\n",
              "      <td>2.390843e+00</td>\n",
              "      <td>1.598883e+00</td>\n",
              "      <td>1.000000</td>\n",
              "      <td>1.000000e+00</td>\n",
              "      <td>2.000000e+00</td>\n",
              "      <td>3.000000e+00</td>\n",
              "      <td>6.000000e+00</td>\n",
              "      <td>0.0</td>\n",
              "      <td>-0.138345</td>\n",
              "      <td>0.138345</td>\n",
              "    </tr>\n",
              "    <tr>\n",
              "      <th>8</th>\n",
              "      <td>education_coded</td>\n",
              "      <td>31647.0</td>\n",
              "      <td>1.169779e-01</td>\n",
              "      <td>2.325171e-02</td>\n",
              "      <td>0.083944</td>\n",
              "      <td>1.065407e-01</td>\n",
              "      <td>1.065407e-01</td>\n",
              "      <td>1.488908e-01</td>\n",
              "      <td>1.488908e-01</td>\n",
              "      <td>0.0</td>\n",
              "      <td>0.118132</td>\n",
              "      <td>0.118132</td>\n",
              "    </tr>\n",
              "    <tr>\n",
              "      <th>7</th>\n",
              "      <td>marital_coded</td>\n",
              "      <td>31647.0</td>\n",
              "      <td>1.169779e-01</td>\n",
              "      <td>2.159392e-02</td>\n",
              "      <td>0.100620</td>\n",
              "      <td>1.006197e-01</td>\n",
              "      <td>1.006197e-01</td>\n",
              "      <td>1.496485e-01</td>\n",
              "      <td>1.496485e-01</td>\n",
              "      <td>0.0</td>\n",
              "      <td>0.103978</td>\n",
              "      <td>0.103978</td>\n",
              "    </tr>\n",
              "    <tr>\n",
              "      <th>11</th>\n",
              "      <td>loan_coded</td>\n",
              "      <td>31647.0</td>\n",
              "      <td>1.169779e-01</td>\n",
              "      <td>2.156394e-02</td>\n",
              "      <td>0.067740</td>\n",
              "      <td>1.264216e-01</td>\n",
              "      <td>1.264216e-01</td>\n",
              "      <td>1.264216e-01</td>\n",
              "      <td>1.264216e-01</td>\n",
              "      <td>0.0</td>\n",
              "      <td>0.076712</td>\n",
              "      <td>0.076712</td>\n",
              "    </tr>\n",
              "    <tr>\n",
              "      <th>1</th>\n",
              "      <td>day_tric</td>\n",
              "      <td>31647.0</td>\n",
              "      <td>1.580826e+01</td>\n",
              "      <td>8.335407e+00</td>\n",
              "      <td>1.000000</td>\n",
              "      <td>8.000000e+00</td>\n",
              "      <td>1.600000e+01</td>\n",
              "      <td>2.100000e+01</td>\n",
              "      <td>3.100000e+01</td>\n",
              "      <td>0.0</td>\n",
              "      <td>-0.055319</td>\n",
              "      <td>0.055319</td>\n",
              "    </tr>\n",
              "    <tr>\n",
              "      <th>5</th>\n",
              "      <td>age_tric4</td>\n",
              "      <td>31647.0</td>\n",
              "      <td>3.986741e+06</td>\n",
              "      <td>4.247396e+06</td>\n",
              "      <td>104976.000000</td>\n",
              "      <td>1.185921e+06</td>\n",
              "      <td>2.313441e+06</td>\n",
              "      <td>5.308416e+06</td>\n",
              "      <td>2.470339e+07</td>\n",
              "      <td>0.0</td>\n",
              "      <td>-0.020719</td>\n",
              "      <td>0.020719</td>\n",
              "    </tr>\n",
              "    <tr>\n",
              "      <th>9</th>\n",
              "      <td>default_coded</td>\n",
              "      <td>31647.0</td>\n",
              "      <td>1.169779e-01</td>\n",
              "      <td>7.890326e-03</td>\n",
              "      <td>0.059028</td>\n",
              "      <td>1.180522e-01</td>\n",
              "      <td>1.180522e-01</td>\n",
              "      <td>1.180522e-01</td>\n",
              "      <td>1.180522e-01</td>\n",
              "      <td>0.0</td>\n",
              "      <td>0.010211</td>\n",
              "      <td>0.010211</td>\n",
              "    </tr>\n",
              "    <tr>\n",
              "      <th>3</th>\n",
              "      <td>pdays_tric</td>\n",
              "      <td>31647.0</td>\n",
              "      <td>-1.000000e+00</td>\n",
              "      <td>0.000000e+00</td>\n",
              "      <td>-1.000000</td>\n",
              "      <td>-1.000000e+00</td>\n",
              "      <td>-1.000000e+00</td>\n",
              "      <td>-1.000000e+00</td>\n",
              "      <td>-1.000000e+00</td>\n",
              "      <td>0.0</td>\n",
              "      <td>0.000000</td>\n",
              "      <td>0.000000</td>\n",
              "    </tr>\n",
              "    <tr>\n",
              "      <th>4</th>\n",
              "      <td>previous_tric</td>\n",
              "      <td>31647.0</td>\n",
              "      <td>0.000000e+00</td>\n",
              "      <td>0.000000e+00</td>\n",
              "      <td>0.000000</td>\n",
              "      <td>0.000000e+00</td>\n",
              "      <td>0.000000e+00</td>\n",
              "      <td>0.000000e+00</td>\n",
              "      <td>0.000000e+00</td>\n",
              "      <td>0.0</td>\n",
              "      <td>0.000000</td>\n",
              "      <td>0.000000</td>\n",
              "    </tr>\n",
              "  </tbody>\n",
              "</table>\n",
              "</div>\n",
              "      <button class=\"colab-df-convert\" onclick=\"convertToInteractive('df-a941b8e0-cd1b-4f5a-ab9e-f1f30b8c094a')\"\n",
              "              title=\"Convert this dataframe to an interactive table.\"\n",
              "              style=\"display:none;\">\n",
              "\n",
              "  <svg xmlns=\"http://www.w3.org/2000/svg\" height=\"24px\"viewBox=\"0 0 24 24\"\n",
              "       width=\"24px\">\n",
              "    <path d=\"M0 0h24v24H0V0z\" fill=\"none\"/>\n",
              "    <path d=\"M18.56 5.44l.94 2.06.94-2.06 2.06-.94-2.06-.94-.94-2.06-.94 2.06-2.06.94zm-11 1L8.5 8.5l.94-2.06 2.06-.94-2.06-.94L8.5 2.5l-.94 2.06-2.06.94zm10 10l.94 2.06.94-2.06 2.06-.94-2.06-.94-.94-2.06-.94 2.06-2.06.94z\"/><path d=\"M17.41 7.96l-1.37-1.37c-.4-.4-.92-.59-1.43-.59-.52 0-1.04.2-1.43.59L10.3 9.45l-7.72 7.72c-.78.78-.78 2.05 0 2.83L4 21.41c.39.39.9.59 1.41.59.51 0 1.02-.2 1.41-.59l7.78-7.78 2.81-2.81c.8-.78.8-2.07 0-2.86zM5.41 20L4 18.59l7.72-7.72 1.47 1.35L5.41 20z\"/>\n",
              "  </svg>\n",
              "      </button>\n",
              "\n",
              "\n",
              "\n",
              "    <div id=\"df-9f74092e-f460-446b-8f3f-86ddbf711bb4\">\n",
              "      <button class=\"colab-df-quickchart\" onclick=\"quickchart('df-9f74092e-f460-446b-8f3f-86ddbf711bb4')\"\n",
              "              title=\"Suggest charts.\"\n",
              "              style=\"display:none;\">\n",
              "\n",
              "<svg xmlns=\"http://www.w3.org/2000/svg\" height=\"24px\"viewBox=\"0 0 24 24\"\n",
              "     width=\"24px\">\n",
              "    <g>\n",
              "        <path d=\"M19 3H5c-1.1 0-2 .9-2 2v14c0 1.1.9 2 2 2h14c1.1 0 2-.9 2-2V5c0-1.1-.9-2-2-2zM9 17H7v-7h2v7zm4 0h-2V7h2v10zm4 0h-2v-4h2v4z\"/>\n",
              "    </g>\n",
              "</svg>\n",
              "      </button>\n",
              "    </div>\n",
              "\n",
              "<style>\n",
              "  .colab-df-quickchart {\n",
              "    background-color: #E8F0FE;\n",
              "    border: none;\n",
              "    border-radius: 50%;\n",
              "    cursor: pointer;\n",
              "    display: none;\n",
              "    fill: #1967D2;\n",
              "    height: 32px;\n",
              "    padding: 0 0 0 0;\n",
              "    width: 32px;\n",
              "  }\n",
              "\n",
              "  .colab-df-quickchart:hover {\n",
              "    background-color: #E2EBFA;\n",
              "    box-shadow: 0px 1px 2px rgba(60, 64, 67, 0.3), 0px 1px 3px 1px rgba(60, 64, 67, 0.15);\n",
              "    fill: #174EA6;\n",
              "  }\n",
              "\n",
              "  [theme=dark] .colab-df-quickchart {\n",
              "    background-color: #3B4455;\n",
              "    fill: #D2E3FC;\n",
              "  }\n",
              "\n",
              "  [theme=dark] .colab-df-quickchart:hover {\n",
              "    background-color: #434B5C;\n",
              "    box-shadow: 0px 1px 3px 1px rgba(0, 0, 0, 0.15);\n",
              "    filter: drop-shadow(0px 1px 2px rgba(0, 0, 0, 0.3));\n",
              "    fill: #FFFFFF;\n",
              "  }\n",
              "</style>\n",
              "\n",
              "    <script>\n",
              "      async function quickchart(key) {\n",
              "        const containerElement = document.querySelector('#' + key);\n",
              "        const charts = await google.colab.kernel.invokeFunction(\n",
              "            'suggestCharts', [key], {});\n",
              "      }\n",
              "    </script>\n",
              "\n",
              "      <script>\n",
              "\n",
              "function displayQuickchartButton(domScope) {\n",
              "  let quickchartButtonEl =\n",
              "    domScope.querySelector('#df-9f74092e-f460-446b-8f3f-86ddbf711bb4 button.colab-df-quickchart');\n",
              "  quickchartButtonEl.style.display =\n",
              "    google.colab.kernel.accessAllowed ? 'block' : 'none';\n",
              "}\n",
              "\n",
              "        displayQuickchartButton(document);\n",
              "      </script>\n",
              "      <style>\n",
              "    .colab-df-container {\n",
              "      display:flex;\n",
              "      flex-wrap:wrap;\n",
              "      gap: 12px;\n",
              "    }\n",
              "\n",
              "    .colab-df-convert {\n",
              "      background-color: #E8F0FE;\n",
              "      border: none;\n",
              "      border-radius: 50%;\n",
              "      cursor: pointer;\n",
              "      display: none;\n",
              "      fill: #1967D2;\n",
              "      height: 32px;\n",
              "      padding: 0 0 0 0;\n",
              "      width: 32px;\n",
              "    }\n",
              "\n",
              "    .colab-df-convert:hover {\n",
              "      background-color: #E2EBFA;\n",
              "      box-shadow: 0px 1px 2px rgba(60, 64, 67, 0.3), 0px 1px 3px 1px rgba(60, 64, 67, 0.15);\n",
              "      fill: #174EA6;\n",
              "    }\n",
              "\n",
              "    [theme=dark] .colab-df-convert {\n",
              "      background-color: #3B4455;\n",
              "      fill: #D2E3FC;\n",
              "    }\n",
              "\n",
              "    [theme=dark] .colab-df-convert:hover {\n",
              "      background-color: #434B5C;\n",
              "      box-shadow: 0px 1px 3px 1px rgba(0, 0, 0, 0.15);\n",
              "      filter: drop-shadow(0px 1px 2px rgba(0, 0, 0, 0.3));\n",
              "      fill: #FFFFFF;\n",
              "    }\n",
              "  </style>\n",
              "\n",
              "      <script>\n",
              "        const buttonEl =\n",
              "          document.querySelector('#df-a941b8e0-cd1b-4f5a-ab9e-f1f30b8c094a button.colab-df-convert');\n",
              "        buttonEl.style.display =\n",
              "          google.colab.kernel.accessAllowed ? 'block' : 'none';\n",
              "\n",
              "        async function convertToInteractive(key) {\n",
              "          const element = document.querySelector('#df-a941b8e0-cd1b-4f5a-ab9e-f1f30b8c094a');\n",
              "          const dataTable =\n",
              "            await google.colab.kernel.invokeFunction('convertToInteractive',\n",
              "                                                     [key], {});\n",
              "          if (!dataTable) return;\n",
              "\n",
              "          const docLinkHtml = 'Like what you see? Visit the ' +\n",
              "            '<a target=\"_blank\" href=https://colab.research.google.com/notebooks/data_table.ipynb>data table notebook</a>'\n",
              "            + ' to learn more about interactive tables.';\n",
              "          element.innerHTML = '';\n",
              "          dataTable['output_type'] = 'display_data';\n",
              "          await google.colab.output.renderOutput(dataTable, element);\n",
              "          const docLink = document.createElement('div');\n",
              "          docLink.innerHTML = docLinkHtml;\n",
              "          element.appendChild(docLink);\n",
              "        }\n",
              "      </script>\n",
              "    </div>\n",
              "  </div>\n"
            ]
          },
          "metadata": {},
          "execution_count": 123
        }
      ]
    },
    {
      "cell_type": "code",
      "source": [
        "print(len(univariate_II.feature.tolist()))\n",
        "univariate_II.feature.tolist()"
      ],
      "metadata": {
        "colab": {
          "base_uri": "https://localhost:8080/"
        },
        "id": "CdD_5oLAIi5z",
        "outputId": "24a4c299-d10a-4c96-fb6e-23955a8f02b1"
      },
      "execution_count": 124,
      "outputs": [
        {
          "output_type": "stream",
          "name": "stdout",
          "text": [
            "16\n"
          ]
        },
        {
          "output_type": "execute_result",
          "data": {
            "text/plain": [
              "['balance_tric',\n",
              " 'day_tric',\n",
              " 'campaign_tric',\n",
              " 'pdays_tric',\n",
              " 'previous_tric',\n",
              " 'age_tric4',\n",
              " 'duration_tric2',\n",
              " 'marital_coded',\n",
              " 'education_coded',\n",
              " 'default_coded',\n",
              " 'housing_coded',\n",
              " 'loan_coded',\n",
              " 'contact_coded',\n",
              " 'month_coded',\n",
              " 'poutcome_coded',\n",
              " 'financial-stability_coded']"
            ]
          },
          "metadata": {},
          "execution_count": 124
        }
      ]
    },
    {
      "cell_type": "code",
      "source": [
        "#Seleccion de Variables\n",
        "# Eliminamos las que tienen un GINI <5% , es decir tienen poca asociatividad con el target\n",
        "# Como el dataset no tiene missing , no es distriminatorio\n",
        "\n",
        "print('initial features: ' + str(len(univariate_II)))\n",
        "print('selected features: ' + str(len(univariate_II.loc[(univariate_II.gini_abs >= 0.05) & (univariate_II.missing_rate <= 0.50)])))\n",
        "final_features = univariate_II.loc[(univariate_II.gini_abs >= 0.05) & (univariate_II.missing_rate <= 0.50)].feature.tolist()"
      ],
      "metadata": {
        "colab": {
          "base_uri": "https://localhost:8080/"
        },
        "id": "50_FLBUDI3YC",
        "outputId": "18e00659-d3eb-402b-cd9c-f1485af549b7"
      },
      "execution_count": 126,
      "outputs": [
        {
          "output_type": "stream",
          "name": "stdout",
          "text": [
            "initial features: 16\n",
            "selected features: 12\n"
          ]
        }
      ]
    },
    {
      "cell_type": "markdown",
      "source": [
        "**Observación:**\n",
        "\n",
        "Se eliminó 4 variables de enttrada que no tenian una marcada asociación con el target, lo cual se observó en sus GINI< 5%\n",
        "\n",
        "Las variables eliminadas fueron: previous_tric,pdays_tric,age_tric4, default_coded, day_tric"
      ],
      "metadata": {
        "id": "2ryiYKASJDUH"
      }
    },
    {
      "cell_type": "code",
      "source": [
        "print(\"Cantidad de Variables explicativas totales: \",len(final_features))\n",
        "final_features"
      ],
      "metadata": {
        "colab": {
          "base_uri": "https://localhost:8080/"
        },
        "id": "1n_x3HuxdF0g",
        "outputId": "5a110ca0-f3e0-4ca8-c4c0-6ab566758d6f"
      },
      "execution_count": 127,
      "outputs": [
        {
          "output_type": "stream",
          "name": "stdout",
          "text": [
            "Cantidad de Variables explicativas totales:  12\n"
          ]
        },
        {
          "output_type": "execute_result",
          "data": {
            "text/plain": [
              "['balance_tric',\n",
              " 'day_tric',\n",
              " 'campaign_tric',\n",
              " 'duration_tric2',\n",
              " 'marital_coded',\n",
              " 'education_coded',\n",
              " 'housing_coded',\n",
              " 'loan_coded',\n",
              " 'contact_coded',\n",
              " 'month_coded',\n",
              " 'poutcome_coded',\n",
              " 'financial-stability_coded']"
            ]
          },
          "metadata": {},
          "execution_count": 127
        }
      ]
    },
    {
      "cell_type": "markdown",
      "source": [
        "### Estandarización"
      ],
      "metadata": {
        "id": "4vTNTdUPg_cL"
      }
    },
    {
      "cell_type": "code",
      "source": [
        "train[[x + '_std' for x in final_features]] = (train[final_features] - train[final_features].mean())/train[final_features].std()\n",
        "test[[x + '_std' for x in final_features]] = (test[final_features] - train[final_features].mean())/train[final_features].std()"
      ],
      "metadata": {
        "id": "E7ImfZong6mz"
      },
      "execution_count": 129,
      "outputs": []
    },
    {
      "cell_type": "code",
      "source": [
        "final_features_std=list()\n",
        "for var in final_features:\n",
        "  final_features_std.append(var+\"_std\")\n",
        "print(len(final_features_std))\n",
        "final_features_std"
      ],
      "metadata": {
        "colab": {
          "base_uri": "https://localhost:8080/"
        },
        "id": "5td2qjTVJoiV",
        "outputId": "915af282-dd8f-4e97-8d5a-548acb1e4a24"
      },
      "execution_count": 137,
      "outputs": [
        {
          "output_type": "stream",
          "name": "stdout",
          "text": [
            "12\n"
          ]
        },
        {
          "output_type": "execute_result",
          "data": {
            "text/plain": [
              "['balance_tric_std',\n",
              " 'day_tric_std',\n",
              " 'campaign_tric_std',\n",
              " 'duration_tric2_std',\n",
              " 'marital_coded_std',\n",
              " 'education_coded_std',\n",
              " 'housing_coded_std',\n",
              " 'loan_coded_std',\n",
              " 'contact_coded_std',\n",
              " 'month_coded_std',\n",
              " 'poutcome_coded_std',\n",
              " 'financial-stability_coded_std']"
            ]
          },
          "metadata": {},
          "execution_count": 137
        }
      ]
    },
    {
      "cell_type": "markdown",
      "source": [
        "Las 12 variables finales, se estandarizaron correctamente"
      ],
      "metadata": {
        "id": "LSyQ6a0NJzcO"
      }
    },
    {
      "cell_type": "markdown",
      "source": [
        "## Regresión Logística"
      ],
      "metadata": {
        "id": "ZFXTHyMUhF8l"
      }
    },
    {
      "cell_type": "code",
      "source": [
        "import statsmodels.api as sm\n",
        "\n",
        "# Fit and summarize OLS model\n",
        "mod = sm.Logit(train.y,\n",
        "                sm.add_constant(train[final_features_std]))\n",
        " #              sm.add_constant(train[[x + '_std' for x in final_features]]))\n",
        "\n",
        "res = mod.fit()\n",
        "print(res.summary())"
      ],
      "metadata": {
        "colab": {
          "base_uri": "https://localhost:8080/"
        },
        "id": "RlTDCdOGKFaR",
        "outputId": "59d27cc4-8937-4f82-9a40-32152209312f"
      },
      "execution_count": 138,
      "outputs": [
        {
          "output_type": "stream",
          "name": "stdout",
          "text": [
            "Optimization terminated successfully.\n",
            "         Current function value: 0.238005\n",
            "         Iterations 8\n",
            "                           Logit Regression Results                           \n",
            "==============================================================================\n",
            "Dep. Variable:                      y   No. Observations:                31647\n",
            "Model:                          Logit   Df Residuals:                    31634\n",
            "Method:                           MLE   Df Model:                           12\n",
            "Date:                Sun, 16 Jul 2023   Pseudo R-squ.:                  0.3405\n",
            "Time:                        05:36:30   Log-Likelihood:                -7532.1\n",
            "converged:                       True   LL-Null:                       -11420.\n",
            "Covariance Type:            nonrobust   LLR p-value:                     0.000\n",
            "=================================================================================================\n",
            "                                    coef    std err          z      P>|z|      [0.025      0.975]\n",
            "-------------------------------------------------------------------------------------------------\n",
            "const                            -2.8735      0.030    -94.602      0.000      -2.933      -2.814\n",
            "balance_tric_std                  0.1109      0.021      5.330      0.000       0.070       0.152\n",
            "day_tric_std                     -0.0397      0.022     -1.836      0.066      -0.082       0.003\n",
            "campaign_tric_std                -0.2138      0.025     -8.619      0.000      -0.262      -0.165\n",
            "duration_tric2_std                1.0600      0.017     60.824      0.000       1.026       1.094\n",
            "marital_coded_std                 0.1500      0.021      7.148      0.000       0.109       0.191\n",
            "education_coded_std               0.0858      0.022      3.840      0.000       0.042       0.130\n",
            "housing_coded_std                 0.3113      0.023     13.755      0.000       0.267       0.356\n",
            "loan_coded_std                    0.1577      0.025      6.243      0.000       0.108       0.207\n",
            "contact_coded_std                 0.4000      0.029     13.720      0.000       0.343       0.457\n",
            "month_coded_std                   0.3988      0.016     24.747      0.000       0.367       0.430\n",
            "poutcome_coded_std                0.4662      0.014     32.281      0.000       0.438       0.495\n",
            "financial-stability_coded_std     0.1313      0.021      6.339      0.000       0.091       0.172\n",
            "=================================================================================================\n"
          ]
        }
      ]
    },
    {
      "cell_type": "markdown",
      "source": [],
      "metadata": {
        "id": "21kZGR-hMkd8"
      }
    },
    {
      "cell_type": "code",
      "source": [
        "final_features_std"
      ],
      "metadata": {
        "colab": {
          "base_uri": "https://localhost:8080/"
        },
        "id": "oaQD-DuzMrIj",
        "outputId": "db9a92e6-4171-4f98-9479-5e6136b4b5e7"
      },
      "execution_count": 139,
      "outputs": [
        {
          "output_type": "execute_result",
          "data": {
            "text/plain": [
              "['balance_tric_std',\n",
              " 'day_tric_std',\n",
              " 'campaign_tric_std',\n",
              " 'duration_tric2_std',\n",
              " 'marital_coded_std',\n",
              " 'education_coded_std',\n",
              " 'housing_coded_std',\n",
              " 'loan_coded_std',\n",
              " 'contact_coded_std',\n",
              " 'month_coded_std',\n",
              " 'poutcome_coded_std',\n",
              " 'financial-stability_coded_std']"
            ]
          },
          "metadata": {},
          "execution_count": 139
        }
      ]
    },
    {
      "cell_type": "markdown",
      "source": [
        "#Observaciones\n",
        "**Analisis de la constante**\n",
        "\n",
        "  0. La constante \"const\" tiene un valor pequeño (-2.8778) lo cual indica que el modelo logra un buen ajuste. La probabilidad base de que un cliente se suscribaa a un depósito a plazo fijo.\n",
        "\n",
        "**Analisis de las Variables Explicativas**\n",
        "\n",
        "1. **\"campaign\":** Número de contactos realizados durante esta campaña y para este cliente (numérico, incluye el último contacto).\n",
        "\n",
        "  Por cada llamada adicional al mismo cliente la probabilidad de que el cliente acepte invertir en un depósito a plazo fijo disminuye (-0.2025).\n",
        "2. **duration**: Duración del último contacto en segundos (numérico).\n",
        "  Por cada segundo adicional en la duración, la probabidad que el cliente se suscriba aun depósito a plazo fijo se incrementa en (1.06). Es decir si el cliente muestra mayor tiempo de interes en la información del producto, se recomienda cerrar el trato del depósito a plazo fijo."
      ],
      "metadata": {
        "id": "7-6cliIJKkZB"
      }
    },
    {
      "cell_type": "code",
      "source": [
        "final_features_std.remove(\"day_tric_std\")\n",
        "final_features_std\n",
        "mod = sm.Logit(train.y, sm.add_constant(train[final_features_std]))\n",
        "res = mod.fit()\n",
        "print(res.summary())"
      ],
      "metadata": {
        "colab": {
          "base_uri": "https://localhost:8080/"
        },
        "id": "GmJS3wd2Lm8I",
        "outputId": "06431757-da39-4ddb-98cb-7146d532595f"
      },
      "execution_count": 140,
      "outputs": [
        {
          "output_type": "stream",
          "name": "stdout",
          "text": [
            "Optimization terminated successfully.\n",
            "         Current function value: 0.238058\n",
            "         Iterations 8\n",
            "                           Logit Regression Results                           \n",
            "==============================================================================\n",
            "Dep. Variable:                      y   No. Observations:                31647\n",
            "Model:                          Logit   Df Residuals:                    31635\n",
            "Method:                           MLE   Df Model:                           11\n",
            "Date:                Sun, 16 Jul 2023   Pseudo R-squ.:                  0.3403\n",
            "Time:                        05:36:53   Log-Likelihood:                -7533.8\n",
            "converged:                       True   LL-Null:                       -11420.\n",
            "Covariance Type:            nonrobust   LLR p-value:                     0.000\n",
            "=================================================================================================\n",
            "                                    coef    std err          z      P>|z|      [0.025      0.975]\n",
            "-------------------------------------------------------------------------------------------------\n",
            "const                            -2.8718      0.030    -94.671      0.000      -2.931      -2.812\n",
            "balance_tric_std                  0.1102      0.021      5.296      0.000       0.069       0.151\n",
            "campaign_tric_std                -0.2187      0.025     -8.874      0.000      -0.267      -0.170\n",
            "duration_tric2_std                1.0597      0.017     60.837      0.000       1.026       1.094\n",
            "marital_coded_std                 0.1497      0.021      7.134      0.000       0.109       0.191\n",
            "education_coded_std               0.0851      0.022      3.810      0.000       0.041       0.129\n",
            "housing_coded_std                 0.3107      0.023     13.730      0.000       0.266       0.355\n",
            "loan_coded_std                    0.1579      0.025      6.250      0.000       0.108       0.207\n",
            "contact_coded_std                 0.3985      0.029     13.673      0.000       0.341       0.456\n",
            "month_coded_std                   0.3999      0.016     24.835      0.000       0.368       0.431\n",
            "poutcome_coded_std                0.4673      0.014     32.359      0.000       0.439       0.496\n",
            "financial-stability_coded_std     0.1316      0.021      6.350      0.000       0.091       0.172\n",
            "=================================================================================================\n"
          ]
        }
      ]
    },
    {
      "cell_type": "markdown",
      "source": [
        "**correlaciones**"
      ],
      "metadata": {
        "id": "b8yHfQ6zTABX"
      }
    },
    {
      "cell_type": "markdown",
      "source": [
        "### Performance"
      ],
      "metadata": {
        "id": "z12qepAcTDLk"
      }
    },
    {
      "cell_type": "code",
      "source": [
        "from sklearn.metrics import *"
      ],
      "metadata": {
        "id": "fVmv2kOvNHjr"
      },
      "execution_count": 141,
      "outputs": []
    },
    {
      "cell_type": "code",
      "source": [
        "# Usando el modelo para predecir\n",
        "train_II = train.copy()\n",
        "test_II  = test.copy()\n",
        "\n",
        "train_II['probability'] = res.predict(sm.add_constant(train[final_features_std]))\n",
        "test_II['probability']  = res.predict(sm.add_constant(test[final_features_std]))\n",
        "\n",
        "train_II['prediction'] = train_II['probability'].apply(lambda x: 1 if x >= 0.5 else 0)\n",
        "test_II['prediction']  = test_II['probability'].apply(lambda x: 1 if x > 0.5 else 0)\n",
        "test_II.head()"
      ],
      "metadata": {
        "colab": {
          "base_uri": "https://localhost:8080/",
          "height": 317
        },
        "id": "07jD6Y7uNO90",
        "outputId": "0c21d7f8-5d7a-4b01-ad98-38e245abf4b7"
      },
      "execution_count": 143,
      "outputs": [
        {
          "output_type": "execute_result",
          "data": {
            "text/plain": [
              "       age   marital  education default  balance housing loan   contact  day  \\\n",
              "5971    27   married  secondary      no      953     yes   no   unknown   26   \n",
              "32893   29    single  secondary      no      441     yes   no  cellular   17   \n",
              "33927   34   married    primary      no     7468     yes  yes  cellular   30   \n",
              "44865   29    single  secondary      no     1055      no   no  cellular   23   \n",
              "23448   43  divorced  secondary      no     -278      no   no  cellular   28   \n",
              "\n",
              "      month  ...  marital_coded_std  education_coded_std  housing_coded_std  \\\n",
              "5971    may  ...          -0.757539            -0.448881          -0.893993   \n",
              "32893   apr  ...           1.512952            -0.448881          -0.893993   \n",
              "33927   apr  ...          -0.757539            -1.420713          -0.893993   \n",
              "44865   sep  ...           1.512952            -0.448881           1.118541   \n",
              "23448   aug  ...           0.238060            -0.448881           1.118541   \n",
              "\n",
              "       loan_coded_std contact_coded_std  month_coded_std  poutcome_coded_std  \\\n",
              "5971         0.437940         -1.576246        -0.580971           -0.250747   \n",
              "32893        0.437940          0.650750         0.946098           -0.250747   \n",
              "33927       -2.283344          0.650750         0.946098           -0.250747   \n",
              "44865        0.437940          0.650750         3.879306            0.056446   \n",
              "23448        0.437940          0.650750        -0.061293           -0.250747   \n",
              "\n",
              "       financial-stability_coded_std  probability  prediction  \n",
              "5971                        0.809184     0.022035           0  \n",
              "32893                      -0.937680     0.044195           0  \n",
              "33927                      -0.297815     0.090597           0  \n",
              "44865                      -0.937680     0.620718           1  \n",
              "23448                      -0.297815     0.025156           0  \n",
              "\n",
              "[5 rows x 49 columns]"
            ],
            "text/html": [
              "\n",
              "\n",
              "  <div id=\"df-207f82b8-38fd-446d-b86a-170b9b4e6de5\">\n",
              "    <div class=\"colab-df-container\">\n",
              "      <div>\n",
              "<style scoped>\n",
              "    .dataframe tbody tr th:only-of-type {\n",
              "        vertical-align: middle;\n",
              "    }\n",
              "\n",
              "    .dataframe tbody tr th {\n",
              "        vertical-align: top;\n",
              "    }\n",
              "\n",
              "    .dataframe thead th {\n",
              "        text-align: right;\n",
              "    }\n",
              "</style>\n",
              "<table border=\"1\" class=\"dataframe\">\n",
              "  <thead>\n",
              "    <tr style=\"text-align: right;\">\n",
              "      <th></th>\n",
              "      <th>age</th>\n",
              "      <th>marital</th>\n",
              "      <th>education</th>\n",
              "      <th>default</th>\n",
              "      <th>balance</th>\n",
              "      <th>housing</th>\n",
              "      <th>loan</th>\n",
              "      <th>contact</th>\n",
              "      <th>day</th>\n",
              "      <th>month</th>\n",
              "      <th>...</th>\n",
              "      <th>marital_coded_std</th>\n",
              "      <th>education_coded_std</th>\n",
              "      <th>housing_coded_std</th>\n",
              "      <th>loan_coded_std</th>\n",
              "      <th>contact_coded_std</th>\n",
              "      <th>month_coded_std</th>\n",
              "      <th>poutcome_coded_std</th>\n",
              "      <th>financial-stability_coded_std</th>\n",
              "      <th>probability</th>\n",
              "      <th>prediction</th>\n",
              "    </tr>\n",
              "  </thead>\n",
              "  <tbody>\n",
              "    <tr>\n",
              "      <th>5971</th>\n",
              "      <td>27</td>\n",
              "      <td>married</td>\n",
              "      <td>secondary</td>\n",
              "      <td>no</td>\n",
              "      <td>953</td>\n",
              "      <td>yes</td>\n",
              "      <td>no</td>\n",
              "      <td>unknown</td>\n",
              "      <td>26</td>\n",
              "      <td>may</td>\n",
              "      <td>...</td>\n",
              "      <td>-0.757539</td>\n",
              "      <td>-0.448881</td>\n",
              "      <td>-0.893993</td>\n",
              "      <td>0.437940</td>\n",
              "      <td>-1.576246</td>\n",
              "      <td>-0.580971</td>\n",
              "      <td>-0.250747</td>\n",
              "      <td>0.809184</td>\n",
              "      <td>0.022035</td>\n",
              "      <td>0</td>\n",
              "    </tr>\n",
              "    <tr>\n",
              "      <th>32893</th>\n",
              "      <td>29</td>\n",
              "      <td>single</td>\n",
              "      <td>secondary</td>\n",
              "      <td>no</td>\n",
              "      <td>441</td>\n",
              "      <td>yes</td>\n",
              "      <td>no</td>\n",
              "      <td>cellular</td>\n",
              "      <td>17</td>\n",
              "      <td>apr</td>\n",
              "      <td>...</td>\n",
              "      <td>1.512952</td>\n",
              "      <td>-0.448881</td>\n",
              "      <td>-0.893993</td>\n",
              "      <td>0.437940</td>\n",
              "      <td>0.650750</td>\n",
              "      <td>0.946098</td>\n",
              "      <td>-0.250747</td>\n",
              "      <td>-0.937680</td>\n",
              "      <td>0.044195</td>\n",
              "      <td>0</td>\n",
              "    </tr>\n",
              "    <tr>\n",
              "      <th>33927</th>\n",
              "      <td>34</td>\n",
              "      <td>married</td>\n",
              "      <td>primary</td>\n",
              "      <td>no</td>\n",
              "      <td>7468</td>\n",
              "      <td>yes</td>\n",
              "      <td>yes</td>\n",
              "      <td>cellular</td>\n",
              "      <td>30</td>\n",
              "      <td>apr</td>\n",
              "      <td>...</td>\n",
              "      <td>-0.757539</td>\n",
              "      <td>-1.420713</td>\n",
              "      <td>-0.893993</td>\n",
              "      <td>-2.283344</td>\n",
              "      <td>0.650750</td>\n",
              "      <td>0.946098</td>\n",
              "      <td>-0.250747</td>\n",
              "      <td>-0.297815</td>\n",
              "      <td>0.090597</td>\n",
              "      <td>0</td>\n",
              "    </tr>\n",
              "    <tr>\n",
              "      <th>44865</th>\n",
              "      <td>29</td>\n",
              "      <td>single</td>\n",
              "      <td>secondary</td>\n",
              "      <td>no</td>\n",
              "      <td>1055</td>\n",
              "      <td>no</td>\n",
              "      <td>no</td>\n",
              "      <td>cellular</td>\n",
              "      <td>23</td>\n",
              "      <td>sep</td>\n",
              "      <td>...</td>\n",
              "      <td>1.512952</td>\n",
              "      <td>-0.448881</td>\n",
              "      <td>1.118541</td>\n",
              "      <td>0.437940</td>\n",
              "      <td>0.650750</td>\n",
              "      <td>3.879306</td>\n",
              "      <td>0.056446</td>\n",
              "      <td>-0.937680</td>\n",
              "      <td>0.620718</td>\n",
              "      <td>1</td>\n",
              "    </tr>\n",
              "    <tr>\n",
              "      <th>23448</th>\n",
              "      <td>43</td>\n",
              "      <td>divorced</td>\n",
              "      <td>secondary</td>\n",
              "      <td>no</td>\n",
              "      <td>-278</td>\n",
              "      <td>no</td>\n",
              "      <td>no</td>\n",
              "      <td>cellular</td>\n",
              "      <td>28</td>\n",
              "      <td>aug</td>\n",
              "      <td>...</td>\n",
              "      <td>0.238060</td>\n",
              "      <td>-0.448881</td>\n",
              "      <td>1.118541</td>\n",
              "      <td>0.437940</td>\n",
              "      <td>0.650750</td>\n",
              "      <td>-0.061293</td>\n",
              "      <td>-0.250747</td>\n",
              "      <td>-0.297815</td>\n",
              "      <td>0.025156</td>\n",
              "      <td>0</td>\n",
              "    </tr>\n",
              "  </tbody>\n",
              "</table>\n",
              "<p>5 rows × 49 columns</p>\n",
              "</div>\n",
              "      <button class=\"colab-df-convert\" onclick=\"convertToInteractive('df-207f82b8-38fd-446d-b86a-170b9b4e6de5')\"\n",
              "              title=\"Convert this dataframe to an interactive table.\"\n",
              "              style=\"display:none;\">\n",
              "\n",
              "  <svg xmlns=\"http://www.w3.org/2000/svg\" height=\"24px\"viewBox=\"0 0 24 24\"\n",
              "       width=\"24px\">\n",
              "    <path d=\"M0 0h24v24H0V0z\" fill=\"none\"/>\n",
              "    <path d=\"M18.56 5.44l.94 2.06.94-2.06 2.06-.94-2.06-.94-.94-2.06-.94 2.06-2.06.94zm-11 1L8.5 8.5l.94-2.06 2.06-.94-2.06-.94L8.5 2.5l-.94 2.06-2.06.94zm10 10l.94 2.06.94-2.06 2.06-.94-2.06-.94-.94-2.06-.94 2.06-2.06.94z\"/><path d=\"M17.41 7.96l-1.37-1.37c-.4-.4-.92-.59-1.43-.59-.52 0-1.04.2-1.43.59L10.3 9.45l-7.72 7.72c-.78.78-.78 2.05 0 2.83L4 21.41c.39.39.9.59 1.41.59.51 0 1.02-.2 1.41-.59l7.78-7.78 2.81-2.81c.8-.78.8-2.07 0-2.86zM5.41 20L4 18.59l7.72-7.72 1.47 1.35L5.41 20z\"/>\n",
              "  </svg>\n",
              "      </button>\n",
              "\n",
              "\n",
              "\n",
              "    <div id=\"df-1c61069d-8b27-4414-a10e-bd474ace953b\">\n",
              "      <button class=\"colab-df-quickchart\" onclick=\"quickchart('df-1c61069d-8b27-4414-a10e-bd474ace953b')\"\n",
              "              title=\"Suggest charts.\"\n",
              "              style=\"display:none;\">\n",
              "\n",
              "<svg xmlns=\"http://www.w3.org/2000/svg\" height=\"24px\"viewBox=\"0 0 24 24\"\n",
              "     width=\"24px\">\n",
              "    <g>\n",
              "        <path d=\"M19 3H5c-1.1 0-2 .9-2 2v14c0 1.1.9 2 2 2h14c1.1 0 2-.9 2-2V5c0-1.1-.9-2-2-2zM9 17H7v-7h2v7zm4 0h-2V7h2v10zm4 0h-2v-4h2v4z\"/>\n",
              "    </g>\n",
              "</svg>\n",
              "      </button>\n",
              "    </div>\n",
              "\n",
              "<style>\n",
              "  .colab-df-quickchart {\n",
              "    background-color: #E8F0FE;\n",
              "    border: none;\n",
              "    border-radius: 50%;\n",
              "    cursor: pointer;\n",
              "    display: none;\n",
              "    fill: #1967D2;\n",
              "    height: 32px;\n",
              "    padding: 0 0 0 0;\n",
              "    width: 32px;\n",
              "  }\n",
              "\n",
              "  .colab-df-quickchart:hover {\n",
              "    background-color: #E2EBFA;\n",
              "    box-shadow: 0px 1px 2px rgba(60, 64, 67, 0.3), 0px 1px 3px 1px rgba(60, 64, 67, 0.15);\n",
              "    fill: #174EA6;\n",
              "  }\n",
              "\n",
              "  [theme=dark] .colab-df-quickchart {\n",
              "    background-color: #3B4455;\n",
              "    fill: #D2E3FC;\n",
              "  }\n",
              "\n",
              "  [theme=dark] .colab-df-quickchart:hover {\n",
              "    background-color: #434B5C;\n",
              "    box-shadow: 0px 1px 3px 1px rgba(0, 0, 0, 0.15);\n",
              "    filter: drop-shadow(0px 1px 2px rgba(0, 0, 0, 0.3));\n",
              "    fill: #FFFFFF;\n",
              "  }\n",
              "</style>\n",
              "\n",
              "    <script>\n",
              "      async function quickchart(key) {\n",
              "        const containerElement = document.querySelector('#' + key);\n",
              "        const charts = await google.colab.kernel.invokeFunction(\n",
              "            'suggestCharts', [key], {});\n",
              "      }\n",
              "    </script>\n",
              "\n",
              "      <script>\n",
              "\n",
              "function displayQuickchartButton(domScope) {\n",
              "  let quickchartButtonEl =\n",
              "    domScope.querySelector('#df-1c61069d-8b27-4414-a10e-bd474ace953b button.colab-df-quickchart');\n",
              "  quickchartButtonEl.style.display =\n",
              "    google.colab.kernel.accessAllowed ? 'block' : 'none';\n",
              "}\n",
              "\n",
              "        displayQuickchartButton(document);\n",
              "      </script>\n",
              "      <style>\n",
              "    .colab-df-container {\n",
              "      display:flex;\n",
              "      flex-wrap:wrap;\n",
              "      gap: 12px;\n",
              "    }\n",
              "\n",
              "    .colab-df-convert {\n",
              "      background-color: #E8F0FE;\n",
              "      border: none;\n",
              "      border-radius: 50%;\n",
              "      cursor: pointer;\n",
              "      display: none;\n",
              "      fill: #1967D2;\n",
              "      height: 32px;\n",
              "      padding: 0 0 0 0;\n",
              "      width: 32px;\n",
              "    }\n",
              "\n",
              "    .colab-df-convert:hover {\n",
              "      background-color: #E2EBFA;\n",
              "      box-shadow: 0px 1px 2px rgba(60, 64, 67, 0.3), 0px 1px 3px 1px rgba(60, 64, 67, 0.15);\n",
              "      fill: #174EA6;\n",
              "    }\n",
              "\n",
              "    [theme=dark] .colab-df-convert {\n",
              "      background-color: #3B4455;\n",
              "      fill: #D2E3FC;\n",
              "    }\n",
              "\n",
              "    [theme=dark] .colab-df-convert:hover {\n",
              "      background-color: #434B5C;\n",
              "      box-shadow: 0px 1px 3px 1px rgba(0, 0, 0, 0.15);\n",
              "      filter: drop-shadow(0px 1px 2px rgba(0, 0, 0, 0.3));\n",
              "      fill: #FFFFFF;\n",
              "    }\n",
              "  </style>\n",
              "\n",
              "      <script>\n",
              "        const buttonEl =\n",
              "          document.querySelector('#df-207f82b8-38fd-446d-b86a-170b9b4e6de5 button.colab-df-convert');\n",
              "        buttonEl.style.display =\n",
              "          google.colab.kernel.accessAllowed ? 'block' : 'none';\n",
              "\n",
              "        async function convertToInteractive(key) {\n",
              "          const element = document.querySelector('#df-207f82b8-38fd-446d-b86a-170b9b4e6de5');\n",
              "          const dataTable =\n",
              "            await google.colab.kernel.invokeFunction('convertToInteractive',\n",
              "                                                     [key], {});\n",
              "          if (!dataTable) return;\n",
              "\n",
              "          const docLinkHtml = 'Like what you see? Visit the ' +\n",
              "            '<a target=\"_blank\" href=https://colab.research.google.com/notebooks/data_table.ipynb>data table notebook</a>'\n",
              "            + ' to learn more about interactive tables.';\n",
              "          element.innerHTML = '';\n",
              "          dataTable['output_type'] = 'display_data';\n",
              "          await google.colab.output.renderOutput(dataTable, element);\n",
              "          const docLink = document.createElement('div');\n",
              "          docLink.innerHTML = docLinkHtml;\n",
              "          element.appendChild(docLink);\n",
              "        }\n",
              "      </script>\n",
              "    </div>\n",
              "  </div>\n"
            ]
          },
          "metadata": {},
          "execution_count": 143
        }
      ]
    },
    {
      "cell_type": "code",
      "source": [
        "# AUC\n",
        "print('TRAIN AUC: %f' %(roc_auc_score(train.y, train_II.probability)))\n",
        "print('TEST AUC: %f' %(roc_auc_score(test.y, test_II.probability)))"
      ],
      "metadata": {
        "colab": {
          "base_uri": "https://localhost:8080/"
        },
        "id": "SraIDz0mNsOl",
        "outputId": "8b869509-66ee-4ed1-b0fb-96206f2b83fc"
      },
      "execution_count": 144,
      "outputs": [
        {
          "output_type": "stream",
          "name": "stdout",
          "text": [
            "TRAIN AUC: 0.903168\n",
            "TEST AUC: 0.907357\n"
          ]
        }
      ]
    },
    {
      "cell_type": "markdown",
      "source": [
        "**La métrica AUC** es similar en el test y train y ligeramente mayor.\n",
        "Esto es bueno porque nos indica que el modelo ha aprendido bien los patrones de la data de entrenamiento.\n",
        "Además, como son similares no hay preocupación de Overfitting.\n",
        "Por lo anterior, el GINI será cercano a 1\n"
      ],
      "metadata": {
        "id": "KEXG--gcN2hM"
      }
    },
    {
      "cell_type": "code",
      "source": [
        "# GINI\n",
        "print('TRAIN GINI: %f' %(roc_auc_score(train.y, train_II.probability)*2-1))\n",
        "print('TEST GINI: %f' %(roc_auc_score(test.y, test_II.probability)*2-1))"
      ],
      "metadata": {
        "colab": {
          "base_uri": "https://localhost:8080/"
        },
        "id": "XtHTh6I9OELD",
        "outputId": "4b2e9595-f4f6-42db-f077-577596b46220"
      },
      "execution_count": 145,
      "outputs": [
        {
          "output_type": "stream",
          "name": "stdout",
          "text": [
            "TRAIN GINI: 0.806336\n",
            "TEST GINI: 0.814713\n"
          ]
        }
      ]
    },
    {
      "cell_type": "code",
      "source": [
        "# ACCURACY\n",
        "from sklearn.metrics import accuracy_score\n",
        "\n",
        "print('TRAIN ACCURACY: %f' %(accuracy_score(train.y, train_II.prediction)))\n",
        "print('TEST ACCURACY: %f' %(accuracy_score(test.y, test_II.prediction)))"
      ],
      "metadata": {
        "colab": {
          "base_uri": "https://localhost:8080/"
        },
        "id": "7NHPsbWlOKOo",
        "outputId": "cd74e5a0-c000-4cbb-b92f-c3a720f4fa13"
      },
      "execution_count": 146,
      "outputs": [
        {
          "output_type": "stream",
          "name": "stdout",
          "text": [
            "TRAIN ACCURACY: 0.897652\n",
            "TEST ACCURACY: 0.896859\n"
          ]
        }
      ]
    },
    {
      "cell_type": "markdown",
      "source": [
        "**La métrica  ACCURACY** es similar y ligeramente mayor en test que en train. Esto significa que el modelo ha aprendido patrones útiles en los datos de entrenamiento y es capaz de aplicar esos patrones de manera efectiva en datos no vistos (conjunto de prueba)"
      ],
      "metadata": {
        "id": "-XHRnS3kOO0u"
      }
    },
    {
      "cell_type": "code",
      "source": [
        "# PRECISION\n",
        "from sklearn.metrics import precision_score\n",
        "print('TRAIN PRECISION: %f' %(precision_score(train.y, train_II.prediction)))\n",
        "print('TEST PRECISION: %f' %(precision_score(test.y, test_II.prediction)))"
      ],
      "metadata": {
        "colab": {
          "base_uri": "https://localhost:8080/"
        },
        "id": "8BuDElnqOXrK",
        "outputId": "ca81e58d-5856-41fb-d1b1-c0d60a9bed54"
      },
      "execution_count": 147,
      "outputs": [
        {
          "output_type": "stream",
          "name": "stdout",
          "text": [
            "TRAIN PRECISION: 0.608329\n",
            "TEST PRECISION: 0.602174\n"
          ]
        }
      ]
    },
    {
      "cell_type": "code",
      "source": [
        "# RECALL\n",
        "print('TRAIN RECALL: %f' %(recall_score(train.y, train_II.prediction)))\n",
        "print('TEST RECALL: %f' %(recall_score(test.y, test_II.prediction)))"
      ],
      "metadata": {
        "colab": {
          "base_uri": "https://localhost:8080/"
        },
        "id": "19vm2-DiOpvb",
        "outputId": "8bc3c092-d8dd-4dd9-cea1-e2c8ff7b3e77"
      },
      "execution_count": 148,
      "outputs": [
        {
          "output_type": "stream",
          "name": "stdout",
          "text": [
            "TRAIN RECALL: 0.351162\n",
            "TEST RECALL: 0.349086\n"
          ]
        }
      ]
    },
    {
      "cell_type": "code",
      "source": [
        "# F1-SCORE\n",
        "print('TRAIN F1-SCORE: %f' %(f1_score(train.y, train_II.prediction)))\n",
        "print('TEST F1-SCORE: %f' %(f1_score(test.y, test_II.prediction)))"
      ],
      "metadata": {
        "colab": {
          "base_uri": "https://localhost:8080/"
        },
        "id": "-mHlcXZBPAEV",
        "outputId": "9861ca10-1620-4032-e381-e8bdc48e3f77"
      },
      "execution_count": 149,
      "outputs": [
        {
          "output_type": "stream",
          "name": "stdout",
          "text": [
            "TRAIN F1-SCORE: 0.445282\n",
            "TEST F1-SCORE: 0.441963\n"
          ]
        }
      ]
    },
    {
      "cell_type": "markdown",
      "source": [
        "TEST F1-SCORE: 0.437855: El F1-score en el conjunto de prueba es de aproximadamente 0.437855. Similar al conjunto de entrenamiento, este valor indica que el modelo tiene un rendimiento moderado para clasificar correctamente las instancias positivas en el conjunto de prueba. F1-score en el conjunto de prueba es ligeramente menor que en el conjunto de entrenamiento. Esta diferencia podría deberse a una variación en los datos o una menor capacidad de generalización del modelo en el conjunto de prueba."
      ],
      "metadata": {
        "id": "TY-4pNYwPEg8"
      }
    },
    {
      "cell_type": "code",
      "source": [
        "confusion_matrix(train.y, train_II.prediction)"
      ],
      "metadata": {
        "colab": {
          "base_uri": "https://localhost:8080/"
        },
        "id": "kjTc93aMPUu9",
        "outputId": "7c2ac0b5-44f4-49e4-dc8a-06d717657f31"
      },
      "execution_count": 150,
      "outputs": [
        {
          "output_type": "execute_result",
          "data": {
            "text/plain": [
              "array([[27108,   837],\n",
              "       [ 2402,  1300]])"
            ]
          },
          "metadata": {},
          "execution_count": 150
        }
      ]
    },
    {
      "cell_type": "code",
      "source": [
        "27108+837+2402+1300\n"
      ],
      "metadata": {
        "id": "f1XFNUcER68D",
        "outputId": "613569ec-93bc-4c09-9da2-1ad22e41abbb",
        "colab": {
          "base_uri": "https://localhost:8080/"
        }
      },
      "execution_count": 155,
      "outputs": [
        {
          "output_type": "execute_result",
          "data": {
            "text/plain": [
              "31647"
            ]
          },
          "metadata": {},
          "execution_count": 155
        }
      ]
    },
    {
      "cell_type": "code",
      "source": [
        "# Obtener la matriz de confusión\n",
        "cm = confusion_matrix(train.y, train_II.prediction)\n",
        "\n",
        "# Convertir a porcentajes\n",
        "cm_percent = (cm / cm.sum()) * 100\n",
        "\n",
        "print(cm_percent)\n"
      ],
      "metadata": {
        "id": "BiGhmlSiRp1Q",
        "outputId": "b6c119b9-f51b-42e8-cae8-2ab2dbb3a733",
        "colab": {
          "base_uri": "https://localhost:8080/"
        }
      },
      "execution_count": 164,
      "outputs": [
        {
          "output_type": "stream",
          "name": "stdout",
          "text": [
            "[[85.65740829  2.64480046]\n",
            " [ 7.58997693  4.10781433]]\n"
          ]
        }
      ]
    },
    {
      "cell_type": "code",
      "source": [
        "recall=(1300/(2402+1300))*100\n",
        "recall"
      ],
      "metadata": {
        "id": "ktBH5OvoSi_W",
        "outputId": "5c870ead-f9ea-4dc2-913e-d1c3a14cb828",
        "colab": {
          "base_uri": "https://localhost:8080/"
        }
      },
      "execution_count": 159,
      "outputs": [
        {
          "output_type": "execute_result",
          "data": {
            "text/plain": [
              "35.116153430578066"
            ]
          },
          "metadata": {},
          "execution_count": 159
        }
      ]
    },
    {
      "cell_type": "code",
      "source": [
        "precision=1300/(1300+837)\n",
        "precision"
      ],
      "metadata": {
        "id": "NoByhpf5TNrB",
        "outputId": "147a1904-0861-4c8a-84c6-9a8005a612a9",
        "colab": {
          "base_uri": "https://localhost:8080/"
        }
      },
      "execution_count": 163,
      "outputs": [
        {
          "output_type": "execute_result",
          "data": {
            "text/plain": [
              "0.6083294337856808"
            ]
          },
          "metadata": {},
          "execution_count": 163
        }
      ]
    },
    {
      "cell_type": "code",
      "source": [
        "train.info()"
      ],
      "metadata": {
        "id": "bNU3TqYxSH7e"
      },
      "execution_count": null,
      "outputs": []
    },
    {
      "cell_type": "code",
      "source": [
        "confusion_matrix(test.y, test_II.prediction)"
      ],
      "metadata": {
        "colab": {
          "base_uri": "https://localhost:8080/"
        },
        "id": "vKqM7nzDPa2e",
        "outputId": "51e83fe3-c46e-4b2c-a367-8fa98dc6d788"
      },
      "execution_count": 151,
      "outputs": [
        {
          "output_type": "execute_result",
          "data": {
            "text/plain": [
              "array([[11611,   366],\n",
              "       [ 1033,   554]])"
            ]
          },
          "metadata": {},
          "execution_count": 151
        }
      ]
    }
  ]
}